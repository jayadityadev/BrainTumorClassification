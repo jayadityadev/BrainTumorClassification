{
 "cells": [
  {
   "cell_type": "markdown",
   "id": "48ecbd2d",
   "metadata": {},
   "source": [
    "# Day 4 Advanced: Transfer Learning with DenseNet121\n",
    "\n",
    "**Goal:** Achieve 88-91% accuracy using DenseNet121\n",
    "\n",
    "**What we'll do:**\n",
    "1. Load DenseNet121 pretrained on ImageNet\n",
    "2. Convert grayscale images to RGB\n",
    "3. Fine-tune the model on brain tumor data\n",
    "4. Compare with baseline and other transfer learning models\n",
    "\n",
    "**Expected improvement:** 76% → 88-91% (+12-15%)\n",
    "\n",
    "**Why DenseNet121?**\n",
    "- Dense connections (each layer connects to all previous)\n",
    "- Excellent gradient flow and feature reuse\n",
    "- Compact (8M parameters)\n",
    "- Strong performance on medical imaging\n",
    "\n",
    "---\n",
    "\n",
    "**Training Strategy:**\n",
    "1. **Phase 1:** Freeze base model, train classifier (5 epochs)\n",
    "2. **Phase 2:** Unfreeze top dense blocks, fine-tune (12 epochs)\n",
    "3. **Phase 3:** Lower learning rate, final training (8 epochs)\n",
    "\n",
    "**Expected time:** 50-70 minutes (with GPU)\n",
    "\n",
    "---"
   ]
  },
  {
   "cell_type": "markdown",
   "id": "447b4969",
   "metadata": {},
   "source": [
    "## 1. Import Libraries"
   ]
  },
  {
   "cell_type": "code",
   "execution_count": 1,
   "id": "a8154533",
   "metadata": {},
   "outputs": [
    {
     "name": "stderr",
     "output_type": "stream",
     "text": [
      "2025-10-24 23:02:39.631277: I tensorflow/core/platform/cpu_feature_guard.cc:210] This TensorFlow binary is optimized to use available CPU instructions in performance-critical operations.\n",
      "To enable the following instructions: AVX2 FMA, in other operations, rebuild TensorFlow with the appropriate compiler flags.\n"
     ]
    },
    {
     "name": "stdout",
     "output_type": "stream",
     "text": [
      "TensorFlow version: 2.20.0\n",
      "Keras version: 3.11.3\n",
      "✅ GPU available: 1 GPU(s)\n"
     ]
    }
   ],
   "source": [
    "import os\n",
    "import sys\n",
    "import numpy as np\n",
    "import pandas as pd\n",
    "import matplotlib.pyplot as plt\n",
    "import json\n",
    "from datetime import datetime\n",
    "\n",
    "# TensorFlow and Keras\n",
    "import tensorflow as tf\n",
    "from tensorflow import keras\n",
    "from tensorflow.keras.applications import DenseNet121\n",
    "from tensorflow.keras.models import Model\n",
    "from tensorflow.keras.layers import GlobalAveragePooling2D, Dense, Dropout, BatchNormalization\n",
    "from tensorflow.keras.preprocessing.image import ImageDataGenerator\n",
    "from tensorflow.keras.callbacks import EarlyStopping, ModelCheckpoint, ReduceLROnPlateau, CSVLogger\n",
    "from tensorflow.keras.optimizers import Adam\n",
    "\n",
    "# Add src to path for imports\n",
    "sys.path.append('../../src')\n",
    "from training.transfer_learning_utils import GrayscaleToRGBGenerator, create_rgb_generators\n",
    "\n",
    "print(f\"TensorFlow version: {tf.__version__}\")\n",
    "print(f\"Keras version: {keras.__version__}\")\n",
    "\n",
    "# Check GPU\n",
    "gpus = tf.config.list_physical_devices('GPU')\n",
    "if gpus:\n",
    "    print(f\"✅ GPU available: {len(gpus)} GPU(s)\")\n",
    "else:\n",
    "    print(\"⚠️  No GPU - training will be slow!\")\n",
    "\n",
    "# Set seeds\n",
    "np.random.seed(42)\n",
    "tf.random.set_seed(42)"
   ]
  },
  {
   "cell_type": "markdown",
   "id": "a9d7230e",
   "metadata": {},
   "source": [
    "## 2. Configuration"
   ]
  },
  {
   "cell_type": "code",
   "execution_count": 2,
   "id": "a46aacb2",
   "metadata": {},
   "outputs": [
    {
     "name": "stdout",
     "output_type": "stream",
     "text": [
      "Configuration:\n",
      "  Model: DenseNet121\n",
      "  Image size: (128, 128)\n",
      "  Batch size: 32\n",
      "  Classes: ['glioma', 'meningioma', 'pituitary']\n"
     ]
    }
   ],
   "source": [
    "# Paths\n",
    "TRAIN_CSV = \"../../outputs/data_splits/train_split.csv\"\n",
    "VAL_CSV = \"../../outputs/data_splits/val_split.csv\"\n",
    "TEST_CSV = \"../../outputs/data_splits/test_split.csv\"\n",
    "\n",
    "# Output directories\n",
    "MODEL_DIR = \"../../outputs/models/transfer_learning\"\n",
    "HISTORY_DIR = \"../../outputs/training_history/transfer_learning\"\n",
    "VIZ_DIR = \"../../outputs/visualizations\"\n",
    "\n",
    "os.makedirs(MODEL_DIR, exist_ok=True)\n",
    "os.makedirs(HISTORY_DIR, exist_ok=True)\n",
    "os.makedirs(VIZ_DIR, exist_ok=True)\n",
    "\n",
    "# Hyperparameters\n",
    "IMG_SIZE = (128, 128)\n",
    "BATCH_SIZE = 32\n",
    "LEARNING_RATE_PHASE1 = 0.001  # Training classifier only\n",
    "LEARNING_RATE_PHASE2 = 0.0001  # Fine-tuning\n",
    "LEARNING_RATE_PHASE3 = 0.00001  # Final training\n",
    "\n",
    "# Class names\n",
    "CLASS_NAMES = ['glioma', 'meningioma', 'pituitary']\n",
    "NUM_CLASSES = len(CLASS_NAMES)\n",
    "\n",
    "print(\"Configuration:\")\n",
    "print(f\"  Model: DenseNet121\")\n",
    "print(f\"  Image size: {IMG_SIZE}\")\n",
    "print(f\"  Batch size: {BATCH_SIZE}\")\n",
    "print(f\"  Classes: {CLASS_NAMES}\")"
   ]
  },
  {
   "cell_type": "markdown",
   "id": "b2c9a4b6",
   "metadata": {},
   "source": [
    "## 3. Load Data"
   ]
  },
  {
   "cell_type": "code",
   "execution_count": 3,
   "id": "de3d11dd",
   "metadata": {},
   "outputs": [
    {
     "name": "stdout",
     "output_type": "stream",
     "text": [
      "Data loaded:\n",
      "  Train: 4863 images\n",
      "  Val:   855 images\n",
      "  Test:  1463 images\n"
     ]
    }
   ],
   "source": [
    "# Load CSV files\n",
    "train_df = pd.read_csv(TRAIN_CSV)\n",
    "val_df = pd.read_csv(VAL_CSV)\n",
    "test_df = pd.read_csv(TEST_CSV)\n",
    "\n",
    "# Ensure label is string\n",
    "train_df['label'] = train_df['label'].astype(str)\n",
    "val_df['label'] = val_df['label'].astype(str)\n",
    "test_df['label'] = test_df['label'].astype(str)\n",
    "\n",
    "print(\"Data loaded:\")\n",
    "print(f\"  Train: {len(train_df)} images\")\n",
    "print(f\"  Val:   {len(val_df)} images\")\n",
    "print(f\"  Test:  {len(test_df)} images\")"
   ]
  },
  {
   "cell_type": "markdown",
   "id": "26d94718",
   "metadata": {},
   "source": [
    "## 4. Create RGB Data Generators"
   ]
  },
  {
   "cell_type": "code",
   "execution_count": 4,
   "id": "12bef47e",
   "metadata": {},
   "outputs": [
    {
     "name": "stdout",
     "output_type": "stream",
     "text": [
      "Found 4863 validated image filenames belonging to 3 classes.\n",
      "Found 855 validated image filenames belonging to 3 classes.\n",
      "Found 855 validated image filenames belonging to 3 classes.\n",
      "Found 1463 validated image filenames belonging to 3 classes.\n",
      "Found 1463 validated image filenames belonging to 3 classes.\n",
      "\n",
      "✅ RGB data generators created!\n",
      "Steps per epoch: 152\n",
      "Validation steps: 27\n",
      "\n",
      "Batch shape: (32, 128, 128, 3) (should be [batch, 128, 128, 3])\n",
      "Labels shape: (32, 3)\n",
      "\n",
      "✅ RGB data generators created!\n",
      "Steps per epoch: 152\n",
      "Validation steps: 27\n",
      "\n",
      "Batch shape: (32, 128, 128, 3) (should be [batch, 128, 128, 3])\n",
      "Labels shape: (32, 3)\n"
     ]
    }
   ],
   "source": [
    "# Create RGB generators using utility function\n",
    "train_generator, val_generator, test_generator = create_rgb_generators(\n",
    "    train_df=train_df,\n",
    "    val_df=val_df,\n",
    "    test_df=test_df,\n",
    "    img_size=IMG_SIZE,\n",
    "    batch_size=BATCH_SIZE\n",
    ")\n",
    "\n",
    "print(\"\\n✅ RGB data generators created!\")\n",
    "print(f\"Steps per epoch: {len(train_generator)}\")\n",
    "print(f\"Validation steps: {len(val_generator)}\")\n",
    "\n",
    "# Test generator output\n",
    "test_batch_x, test_batch_y = next(iter(train_generator))\n",
    "print(f\"\\nBatch shape: {test_batch_x.shape} (should be [batch, 128, 128, 3])\")\n",
    "print(f\"Labels shape: {test_batch_y.shape}\")"
   ]
  },
  {
   "cell_type": "markdown",
   "id": "bad799ab",
   "metadata": {},
   "source": [
    "## 5. Build Transfer Learning Model\n",
    "\n",
    "**Architecture:**\n",
    "- Base: DenseNet121 (pretrained on ImageNet)\n",
    "- GlobalAveragePooling2D\n",
    "- Dense(512) + BatchNorm + Dropout\n",
    "- Dense(256) + BatchNorm + Dropout\n",
    "- Dense(3, softmax)"
   ]
  },
  {
   "cell_type": "code",
   "execution_count": 5,
   "id": "049a1b39",
   "metadata": {},
   "outputs": [
    {
     "name": "stderr",
     "output_type": "stream",
     "text": [
      "WARNING: All log messages before absl::InitializeLog() is called are written to STDERR\n",
      "I0000 00:00:1761327162.234329   54994 gpu_device.cc:2020] Created device /job:localhost/replica:0/task:0/device:GPU:0 with 2614 MB memory:  -> device: 0, name: NVIDIA GeForce GTX 1650, pci bus id: 0000:01:00.0, compute capability: 7.5\n"
     ]
    },
    {
     "name": "stdout",
     "output_type": "stream",
     "text": [
      "Model architecture:\n"
     ]
    },
    {
     "data": {
      "text/html": [
       "<pre style=\"white-space:pre;overflow-x:auto;line-height:normal;font-family:Menlo,'DejaVu Sans Mono',consolas,'Courier New',monospace\"><span style=\"font-weight: bold\">Model: \"functional\"</span>\n",
       "</pre>\n"
      ],
      "text/plain": [
       "\u001b[1mModel: \"functional\"\u001b[0m\n"
      ]
     },
     "metadata": {},
     "output_type": "display_data"
    },
    {
     "data": {
      "text/html": [
       "<pre style=\"white-space:pre;overflow-x:auto;line-height:normal;font-family:Menlo,'DejaVu Sans Mono',consolas,'Courier New',monospace\">┏━━━━━━━━━━━━━━━━━━━━━━━━━━━━━━━━━┳━━━━━━━━━━━━━━━━━━━━━━━━┳━━━━━━━━━━━━━━━┓\n",
       "┃<span style=\"font-weight: bold\"> Layer (type)                    </span>┃<span style=\"font-weight: bold\"> Output Shape           </span>┃<span style=\"font-weight: bold\">       Param # </span>┃\n",
       "┡━━━━━━━━━━━━━━━━━━━━━━━━━━━━━━━━━╇━━━━━━━━━━━━━━━━━━━━━━━━╇━━━━━━━━━━━━━━━┩\n",
       "│ input_layer_1 (<span style=\"color: #0087ff; text-decoration-color: #0087ff\">InputLayer</span>)      │ (<span style=\"color: #00d7ff; text-decoration-color: #00d7ff\">None</span>, <span style=\"color: #00af00; text-decoration-color: #00af00\">128</span>, <span style=\"color: #00af00; text-decoration-color: #00af00\">128</span>, <span style=\"color: #00af00; text-decoration-color: #00af00\">3</span>)    │             <span style=\"color: #00af00; text-decoration-color: #00af00\">0</span> │\n",
       "├─────────────────────────────────┼────────────────────────┼───────────────┤\n",
       "│ densenet121 (<span style=\"color: #0087ff; text-decoration-color: #0087ff\">Functional</span>)        │ (<span style=\"color: #00d7ff; text-decoration-color: #00d7ff\">None</span>, <span style=\"color: #00af00; text-decoration-color: #00af00\">4</span>, <span style=\"color: #00af00; text-decoration-color: #00af00\">4</span>, <span style=\"color: #00af00; text-decoration-color: #00af00\">1024</span>)     │     <span style=\"color: #00af00; text-decoration-color: #00af00\">7,037,504</span> │\n",
       "├─────────────────────────────────┼────────────────────────┼───────────────┤\n",
       "│ global_average_pooling2d        │ (<span style=\"color: #00d7ff; text-decoration-color: #00d7ff\">None</span>, <span style=\"color: #00af00; text-decoration-color: #00af00\">1024</span>)           │             <span style=\"color: #00af00; text-decoration-color: #00af00\">0</span> │\n",
       "│ (<span style=\"color: #0087ff; text-decoration-color: #0087ff\">GlobalAveragePooling2D</span>)        │                        │               │\n",
       "├─────────────────────────────────┼────────────────────────┼───────────────┤\n",
       "│ dense (<span style=\"color: #0087ff; text-decoration-color: #0087ff\">Dense</span>)                   │ (<span style=\"color: #00d7ff; text-decoration-color: #00d7ff\">None</span>, <span style=\"color: #00af00; text-decoration-color: #00af00\">512</span>)            │       <span style=\"color: #00af00; text-decoration-color: #00af00\">524,800</span> │\n",
       "├─────────────────────────────────┼────────────────────────┼───────────────┤\n",
       "│ batch_normalization             │ (<span style=\"color: #00d7ff; text-decoration-color: #00d7ff\">None</span>, <span style=\"color: #00af00; text-decoration-color: #00af00\">512</span>)            │         <span style=\"color: #00af00; text-decoration-color: #00af00\">2,048</span> │\n",
       "│ (<span style=\"color: #0087ff; text-decoration-color: #0087ff\">BatchNormalization</span>)            │                        │               │\n",
       "├─────────────────────────────────┼────────────────────────┼───────────────┤\n",
       "│ dropout (<span style=\"color: #0087ff; text-decoration-color: #0087ff\">Dropout</span>)               │ (<span style=\"color: #00d7ff; text-decoration-color: #00d7ff\">None</span>, <span style=\"color: #00af00; text-decoration-color: #00af00\">512</span>)            │             <span style=\"color: #00af00; text-decoration-color: #00af00\">0</span> │\n",
       "├─────────────────────────────────┼────────────────────────┼───────────────┤\n",
       "│ dense_1 (<span style=\"color: #0087ff; text-decoration-color: #0087ff\">Dense</span>)                 │ (<span style=\"color: #00d7ff; text-decoration-color: #00d7ff\">None</span>, <span style=\"color: #00af00; text-decoration-color: #00af00\">256</span>)            │       <span style=\"color: #00af00; text-decoration-color: #00af00\">131,328</span> │\n",
       "├─────────────────────────────────┼────────────────────────┼───────────────┤\n",
       "│ batch_normalization_1           │ (<span style=\"color: #00d7ff; text-decoration-color: #00d7ff\">None</span>, <span style=\"color: #00af00; text-decoration-color: #00af00\">256</span>)            │         <span style=\"color: #00af00; text-decoration-color: #00af00\">1,024</span> │\n",
       "│ (<span style=\"color: #0087ff; text-decoration-color: #0087ff\">BatchNormalization</span>)            │                        │               │\n",
       "├─────────────────────────────────┼────────────────────────┼───────────────┤\n",
       "│ dropout_1 (<span style=\"color: #0087ff; text-decoration-color: #0087ff\">Dropout</span>)             │ (<span style=\"color: #00d7ff; text-decoration-color: #00d7ff\">None</span>, <span style=\"color: #00af00; text-decoration-color: #00af00\">256</span>)            │             <span style=\"color: #00af00; text-decoration-color: #00af00\">0</span> │\n",
       "├─────────────────────────────────┼────────────────────────┼───────────────┤\n",
       "│ dense_2 (<span style=\"color: #0087ff; text-decoration-color: #0087ff\">Dense</span>)                 │ (<span style=\"color: #00d7ff; text-decoration-color: #00d7ff\">None</span>, <span style=\"color: #00af00; text-decoration-color: #00af00\">3</span>)              │           <span style=\"color: #00af00; text-decoration-color: #00af00\">771</span> │\n",
       "└─────────────────────────────────┴────────────────────────┴───────────────┘\n",
       "</pre>\n"
      ],
      "text/plain": [
       "┏━━━━━━━━━━━━━━━━━━━━━━━━━━━━━━━━━┳━━━━━━━━━━━━━━━━━━━━━━━━┳━━━━━━━━━━━━━━━┓\n",
       "┃\u001b[1m \u001b[0m\u001b[1mLayer (type)                   \u001b[0m\u001b[1m \u001b[0m┃\u001b[1m \u001b[0m\u001b[1mOutput Shape          \u001b[0m\u001b[1m \u001b[0m┃\u001b[1m \u001b[0m\u001b[1m      Param #\u001b[0m\u001b[1m \u001b[0m┃\n",
       "┡━━━━━━━━━━━━━━━━━━━━━━━━━━━━━━━━━╇━━━━━━━━━━━━━━━━━━━━━━━━╇━━━━━━━━━━━━━━━┩\n",
       "│ input_layer_1 (\u001b[38;5;33mInputLayer\u001b[0m)      │ (\u001b[38;5;45mNone\u001b[0m, \u001b[38;5;34m128\u001b[0m, \u001b[38;5;34m128\u001b[0m, \u001b[38;5;34m3\u001b[0m)    │             \u001b[38;5;34m0\u001b[0m │\n",
       "├─────────────────────────────────┼────────────────────────┼───────────────┤\n",
       "│ densenet121 (\u001b[38;5;33mFunctional\u001b[0m)        │ (\u001b[38;5;45mNone\u001b[0m, \u001b[38;5;34m4\u001b[0m, \u001b[38;5;34m4\u001b[0m, \u001b[38;5;34m1024\u001b[0m)     │     \u001b[38;5;34m7,037,504\u001b[0m │\n",
       "├─────────────────────────────────┼────────────────────────┼───────────────┤\n",
       "│ global_average_pooling2d        │ (\u001b[38;5;45mNone\u001b[0m, \u001b[38;5;34m1024\u001b[0m)           │             \u001b[38;5;34m0\u001b[0m │\n",
       "│ (\u001b[38;5;33mGlobalAveragePooling2D\u001b[0m)        │                        │               │\n",
       "├─────────────────────────────────┼────────────────────────┼───────────────┤\n",
       "│ dense (\u001b[38;5;33mDense\u001b[0m)                   │ (\u001b[38;5;45mNone\u001b[0m, \u001b[38;5;34m512\u001b[0m)            │       \u001b[38;5;34m524,800\u001b[0m │\n",
       "├─────────────────────────────────┼────────────────────────┼───────────────┤\n",
       "│ batch_normalization             │ (\u001b[38;5;45mNone\u001b[0m, \u001b[38;5;34m512\u001b[0m)            │         \u001b[38;5;34m2,048\u001b[0m │\n",
       "│ (\u001b[38;5;33mBatchNormalization\u001b[0m)            │                        │               │\n",
       "├─────────────────────────────────┼────────────────────────┼───────────────┤\n",
       "│ dropout (\u001b[38;5;33mDropout\u001b[0m)               │ (\u001b[38;5;45mNone\u001b[0m, \u001b[38;5;34m512\u001b[0m)            │             \u001b[38;5;34m0\u001b[0m │\n",
       "├─────────────────────────────────┼────────────────────────┼───────────────┤\n",
       "│ dense_1 (\u001b[38;5;33mDense\u001b[0m)                 │ (\u001b[38;5;45mNone\u001b[0m, \u001b[38;5;34m256\u001b[0m)            │       \u001b[38;5;34m131,328\u001b[0m │\n",
       "├─────────────────────────────────┼────────────────────────┼───────────────┤\n",
       "│ batch_normalization_1           │ (\u001b[38;5;45mNone\u001b[0m, \u001b[38;5;34m256\u001b[0m)            │         \u001b[38;5;34m1,024\u001b[0m │\n",
       "│ (\u001b[38;5;33mBatchNormalization\u001b[0m)            │                        │               │\n",
       "├─────────────────────────────────┼────────────────────────┼───────────────┤\n",
       "│ dropout_1 (\u001b[38;5;33mDropout\u001b[0m)             │ (\u001b[38;5;45mNone\u001b[0m, \u001b[38;5;34m256\u001b[0m)            │             \u001b[38;5;34m0\u001b[0m │\n",
       "├─────────────────────────────────┼────────────────────────┼───────────────┤\n",
       "│ dense_2 (\u001b[38;5;33mDense\u001b[0m)                 │ (\u001b[38;5;45mNone\u001b[0m, \u001b[38;5;34m3\u001b[0m)              │           \u001b[38;5;34m771\u001b[0m │\n",
       "└─────────────────────────────────┴────────────────────────┴───────────────┘\n"
      ]
     },
     "metadata": {},
     "output_type": "display_data"
    },
    {
     "data": {
      "text/html": [
       "<pre style=\"white-space:pre;overflow-x:auto;line-height:normal;font-family:Menlo,'DejaVu Sans Mono',consolas,'Courier New',monospace\"><span style=\"font-weight: bold\"> Total params: </span><span style=\"color: #00af00; text-decoration-color: #00af00\">7,697,475</span> (29.36 MB)\n",
       "</pre>\n"
      ],
      "text/plain": [
       "\u001b[1m Total params: \u001b[0m\u001b[38;5;34m7,697,475\u001b[0m (29.36 MB)\n"
      ]
     },
     "metadata": {},
     "output_type": "display_data"
    },
    {
     "data": {
      "text/html": [
       "<pre style=\"white-space:pre;overflow-x:auto;line-height:normal;font-family:Menlo,'DejaVu Sans Mono',consolas,'Courier New',monospace\"><span style=\"font-weight: bold\"> Trainable params: </span><span style=\"color: #00af00; text-decoration-color: #00af00\">658,435</span> (2.51 MB)\n",
       "</pre>\n"
      ],
      "text/plain": [
       "\u001b[1m Trainable params: \u001b[0m\u001b[38;5;34m658,435\u001b[0m (2.51 MB)\n"
      ]
     },
     "metadata": {},
     "output_type": "display_data"
    },
    {
     "data": {
      "text/html": [
       "<pre style=\"white-space:pre;overflow-x:auto;line-height:normal;font-family:Menlo,'DejaVu Sans Mono',consolas,'Courier New',monospace\"><span style=\"font-weight: bold\"> Non-trainable params: </span><span style=\"color: #00af00; text-decoration-color: #00af00\">7,039,040</span> (26.85 MB)\n",
       "</pre>\n"
      ],
      "text/plain": [
       "\u001b[1m Non-trainable params: \u001b[0m\u001b[38;5;34m7,039,040\u001b[0m (26.85 MB)\n"
      ]
     },
     "metadata": {},
     "output_type": "display_data"
    },
    {
     "name": "stdout",
     "output_type": "stream",
     "text": [
      "\n",
      "Parameter counts:\n",
      "  Trainable: 658,435\n",
      "  Non-trainable: 7,039,040\n",
      "  Total: 7,697,475\n"
     ]
    }
   ],
   "source": [
    "def build_densenet_model(num_classes=3, trainable=False):\n",
    "    \"\"\"\n",
    "    Build DenseNet121 model with custom classifier.\n",
    "    \n",
    "    Args:\n",
    "        num_classes: Number of output classes\n",
    "        trainable: Whether base model is trainable\n",
    "    \n",
    "    Returns:\n",
    "        Compiled Keras model\n",
    "    \"\"\"\n",
    "    # Load pretrained DenseNet121\n",
    "    base_model = DenseNet121(\n",
    "        weights='imagenet',\n",
    "        include_top=False,\n",
    "        input_shape=(128, 128, 3)\n",
    "    )\n",
    "    \n",
    "    # Freeze/unfreeze base model\n",
    "    base_model.trainable = trainable\n",
    "    \n",
    "    # Build full model\n",
    "    inputs = keras.Input(shape=(128, 128, 3))\n",
    "    x = base_model(inputs, training=False)  # Set training=False for inference mode\n",
    "    x = GlobalAveragePooling2D()(x)\n",
    "    \n",
    "    # Custom classifier\n",
    "    x = Dense(512, activation='relu')(x)\n",
    "    x = BatchNormalization()(x)\n",
    "    x = Dropout(0.5)(x)\n",
    "    \n",
    "    x = Dense(256, activation='relu')(x)\n",
    "    x = BatchNormalization()(x)\n",
    "    x = Dropout(0.5)(x)\n",
    "    \n",
    "    outputs = Dense(num_classes, activation='softmax')(x)\n",
    "    \n",
    "    model = Model(inputs=inputs, outputs=outputs)\n",
    "    \n",
    "    return model, base_model\n",
    "\n",
    "# Build model (base frozen initially)\n",
    "model, base_model = build_densenet_model(num_classes=NUM_CLASSES, trainable=False)\n",
    "\n",
    "print(\"Model architecture:\")\n",
    "model.summary()\n",
    "\n",
    "# Count parameters\n",
    "trainable_params = sum([tf.size(w).numpy() for w in model.trainable_weights])\n",
    "non_trainable_params = sum([tf.size(w).numpy() for w in model.non_trainable_weights])\n",
    "total_params = trainable_params + non_trainable_params\n",
    "\n",
    "print(f\"\\nParameter counts:\")\n",
    "print(f\"  Trainable: {trainable_params:,}\")\n",
    "print(f\"  Non-trainable: {non_trainable_params:,}\")\n",
    "print(f\"  Total: {total_params:,}\")"
   ]
  },
  {
   "cell_type": "markdown",
   "id": "2f760d51",
   "metadata": {},
   "source": [
    "## 6. Phase 1: Train Classifier Only (5 epochs)"
   ]
  },
  {
   "cell_type": "code",
   "execution_count": 6,
   "id": "bffc8f9b",
   "metadata": {},
   "outputs": [
    {
     "name": "stdout",
     "output_type": "stream",
     "text": [
      "======================================================================\n",
      "PHASE 1: Training Classifier Only\n",
      "======================================================================\n",
      "Base model: FROZEN\n",
      "Learning rate: 0.001\n",
      "Epochs: 5\n",
      "\n",
      "Epoch 1/5\n",
      "Epoch 1/5\n"
     ]
    },
    {
     "name": "stderr",
     "output_type": "stream",
     "text": [
      "/projects/ai-ml/BrainTumorProject/.venv/lib/python3.11/site-packages/keras/src/trainers/data_adapters/py_dataset_adapter.py:121: UserWarning: Your `PyDataset` class should call `super().__init__(**kwargs)` in its constructor. `**kwargs` can include `workers`, `use_multiprocessing`, `max_queue_size`. Do not pass these arguments to `fit()`, as they will be ignored.\n",
      "  self._warn_if_super_not_called()\n",
      "2025-10-24 23:02:53.418728: I external/local_xla/xla/service/service.cc:163] XLA service 0x713328004ac0 initialized for platform CUDA (this does not guarantee that XLA will be used). Devices:\n",
      "2025-10-24 23:02:53.418767: I external/local_xla/xla/service/service.cc:171]   StreamExecutor device (0): NVIDIA GeForce GTX 1650, Compute Capability 7.5\n",
      "2025-10-24 23:02:53.418728: I external/local_xla/xla/service/service.cc:163] XLA service 0x713328004ac0 initialized for platform CUDA (this does not guarantee that XLA will be used). Devices:\n",
      "2025-10-24 23:02:53.418767: I external/local_xla/xla/service/service.cc:171]   StreamExecutor device (0): NVIDIA GeForce GTX 1650, Compute Capability 7.5\n",
      "2025-10-24 23:02:53.729336: I tensorflow/compiler/mlir/tensorflow/utils/dump_mlir_util.cc:269] disabling MLIR crash reproducer, set env var `MLIR_CRASH_REPRODUCER_DIRECTORY` to enable.\n",
      "2025-10-24 23:02:53.729336: I tensorflow/compiler/mlir/tensorflow/utils/dump_mlir_util.cc:269] disabling MLIR crash reproducer, set env var `MLIR_CRASH_REPRODUCER_DIRECTORY` to enable.\n",
      "2025-10-24 23:02:55.995162: I external/local_xla/xla/stream_executor/cuda/cuda_dnn.cc:473] Loaded cuDNN version 91400\n",
      "2025-10-24 23:02:55.995162: I external/local_xla/xla/stream_executor/cuda/cuda_dnn.cc:473] Loaded cuDNN version 91400\n"
     ]
    },
    {
     "name": "stdout",
     "output_type": "stream",
     "text": [
      "\u001b[1m  3/152\u001b[0m \u001b[37m━━━━━━━━━━━━━━━━━━━━\u001b[0m \u001b[1m8s\u001b[0m 58ms/step - accuracy: 0.2726 - loss: 2.0053"
     ]
    },
    {
     "name": "stderr",
     "output_type": "stream",
     "text": [
      "I0000 00:00:1761327186.261363   55093 device_compiler.h:196] Compiled cluster using XLA!  This line is logged at most once for the lifetime of the process.\n"
     ]
    },
    {
     "name": "stdout",
     "output_type": "stream",
     "text": [
      "\u001b[1m152/152\u001b[0m \u001b[32m━━━━━━━━━━━━━━━━━━━━\u001b[0m\u001b[37m\u001b[0m \u001b[1m62s\u001b[0m 267ms/step - accuracy: 0.6216 - loss: 1.1020 - val_accuracy: 0.5825 - val_loss: 1.3608 - learning_rate: 0.0010\n",
      "Epoch 2/5\n",
      "\u001b[1m152/152\u001b[0m \u001b[32m━━━━━━━━━━━━━━━━━━━━\u001b[0m\u001b[37m\u001b[0m \u001b[1m62s\u001b[0m 267ms/step - accuracy: 0.6216 - loss: 1.1020 - val_accuracy: 0.5825 - val_loss: 1.3608 - learning_rate: 0.0010\n",
      "Epoch 2/5\n",
      "\u001b[1m152/152\u001b[0m \u001b[32m━━━━━━━━━━━━━━━━━━━━\u001b[0m\u001b[37m\u001b[0m \u001b[1m11s\u001b[0m 75ms/step - accuracy: 0.6881 - loss: 0.8055 - val_accuracy: 0.6678 - val_loss: 0.8739 - learning_rate: 0.0010\n",
      "Epoch 3/5\n",
      "\u001b[1m152/152\u001b[0m \u001b[32m━━━━━━━━━━━━━━━━━━━━\u001b[0m\u001b[37m\u001b[0m \u001b[1m11s\u001b[0m 75ms/step - accuracy: 0.6881 - loss: 0.8055 - val_accuracy: 0.6678 - val_loss: 0.8739 - learning_rate: 0.0010\n",
      "Epoch 3/5\n",
      "\u001b[1m152/152\u001b[0m \u001b[32m━━━━━━━━━━━━━━━━━━━━\u001b[0m\u001b[37m\u001b[0m \u001b[1m11s\u001b[0m 75ms/step - accuracy: 0.7187 - loss: 0.6775 - val_accuracy: 0.7088 - val_loss: 0.8171 - learning_rate: 0.0010\n",
      "Epoch 4/5\n",
      "\u001b[1m152/152\u001b[0m \u001b[32m━━━━━━━━━━━━━━━━━━━━\u001b[0m\u001b[37m\u001b[0m \u001b[1m11s\u001b[0m 75ms/step - accuracy: 0.7187 - loss: 0.6775 - val_accuracy: 0.7088 - val_loss: 0.8171 - learning_rate: 0.0010\n",
      "Epoch 4/5\n",
      "\u001b[1m152/152\u001b[0m \u001b[32m━━━━━━━━━━━━━━━━━━━━\u001b[0m\u001b[37m\u001b[0m \u001b[1m11s\u001b[0m 75ms/step - accuracy: 0.7349 - loss: 0.6505 - val_accuracy: 0.7661 - val_loss: 0.5650 - learning_rate: 0.0010\n",
      "Epoch 5/5\n",
      "\u001b[1m152/152\u001b[0m \u001b[32m━━━━━━━━━━━━━━━━━━━━\u001b[0m\u001b[37m\u001b[0m \u001b[1m11s\u001b[0m 75ms/step - accuracy: 0.7349 - loss: 0.6505 - val_accuracy: 0.7661 - val_loss: 0.5650 - learning_rate: 0.0010\n",
      "Epoch 5/5\n",
      "\u001b[1m152/152\u001b[0m \u001b[32m━━━━━━━━━━━━━━━━━━━━\u001b[0m\u001b[37m\u001b[0m \u001b[1m12s\u001b[0m 76ms/step - accuracy: 0.7485 - loss: 0.5900 - val_accuracy: 0.7965 - val_loss: 0.5116 - learning_rate: 0.0010\n",
      "\n",
      "✅ Phase 1 completed!\n",
      "Final accuracy: 0.7485\n",
      "Final val_accuracy: 0.7965\n",
      "\u001b[1m152/152\u001b[0m \u001b[32m━━━━━━━━━━━━━━━━━━━━\u001b[0m\u001b[37m\u001b[0m \u001b[1m12s\u001b[0m 76ms/step - accuracy: 0.7485 - loss: 0.5900 - val_accuracy: 0.7965 - val_loss: 0.5116 - learning_rate: 0.0010\n",
      "\n",
      "✅ Phase 1 completed!\n",
      "Final accuracy: 0.7485\n",
      "Final val_accuracy: 0.7965\n"
     ]
    }
   ],
   "source": [
    "print(\"=\"*70)\n",
    "print(\"PHASE 1: Training Classifier Only\")\n",
    "print(\"=\"*70)\n",
    "print(\"Base model: FROZEN\")\n",
    "print(\"Learning rate: 0.001\")\n",
    "print(\"Epochs: 5\\n\")\n",
    "\n",
    "# Compile model\n",
    "model.compile(\n",
    "    optimizer=Adam(learning_rate=LEARNING_RATE_PHASE1),\n",
    "    loss='categorical_crossentropy',\n",
    "    metrics=['accuracy']\n",
    ")\n",
    "\n",
    "# Callbacks\n",
    "timestamp = datetime.now().strftime(\"%Y%m%d_%H%M%S\")\n",
    "callbacks_phase1 = [\n",
    "    ReduceLROnPlateau(\n",
    "        monitor='val_loss',\n",
    "        factor=0.5,\n",
    "        patience=2,\n",
    "        min_lr=1e-7,\n",
    "        verbose=1\n",
    "    )\n",
    "]\n",
    "\n",
    "# Train\n",
    "history_phase1 = model.fit(\n",
    "    train_generator,\n",
    "    epochs=5,\n",
    "    validation_data=val_generator,\n",
    "    callbacks=callbacks_phase1,\n",
    "    verbose=1\n",
    ")\n",
    "\n",
    "print(\"\\n✅ Phase 1 completed!\")\n",
    "print(f\"Final accuracy: {history_phase1.history['accuracy'][-1]:.4f}\")\n",
    "print(f\"Final val_accuracy: {history_phase1.history['val_accuracy'][-1]:.4f}\")"
   ]
  },
  {
   "cell_type": "markdown",
   "id": "720fdf42",
   "metadata": {},
   "source": [
    "## 7. Phase 2: Fine-tune Top Layers (12 epochs)"
   ]
  },
  {
   "cell_type": "code",
   "execution_count": 7,
   "id": "2911bfca",
   "metadata": {},
   "outputs": [
    {
     "name": "stdout",
     "output_type": "stream",
     "text": [
      "\n",
      "======================================================================\n",
      "PHASE 2: Fine-tuning Top Layers\n",
      "======================================================================\n",
      "Trainable layers in base model: 40 / 427\n",
      "Learning rate: 0.0001\n",
      "Epochs: 12\n",
      "\n",
      "Epoch 1/12\n",
      "Epoch 1/12\n",
      "\u001b[1m152/152\u001b[0m \u001b[32m━━━━━━━━━━━━━━━━━━━━\u001b[0m\u001b[37m\u001b[0m \u001b[1m0s\u001b[0m 144ms/step - accuracy: 0.7265 - loss: 0.6521\n",
      "Epoch 1: val_loss improved from None to 0.80775, saving model to ../../outputs/models/transfer_learning/densenet121_phase2_20251024_230244.keras\n",
      "\n",
      "Epoch 1: val_loss improved from None to 0.80775, saving model to ../../outputs/models/transfer_learning/densenet121_phase2_20251024_230244.keras\n",
      "\u001b[1m152/152\u001b[0m \u001b[32m━━━━━━━━━━━━━━━━━━━━\u001b[0m\u001b[37m\u001b[0m \u001b[1m61s\u001b[0m 243ms/step - accuracy: 0.7419 - loss: 0.6268 - val_accuracy: 0.6480 - val_loss: 0.8078 - learning_rate: 1.0000e-04\n",
      "Epoch 2/12\n",
      "\u001b[1m152/152\u001b[0m \u001b[32m━━━━━━━━━━━━━━━━━━━━\u001b[0m\u001b[37m\u001b[0m \u001b[1m61s\u001b[0m 243ms/step - accuracy: 0.7419 - loss: 0.6268 - val_accuracy: 0.6480 - val_loss: 0.8078 - learning_rate: 1.0000e-04\n",
      "Epoch 2/12\n",
      "\u001b[1m152/152\u001b[0m \u001b[32m━━━━━━━━━━━━━━━━━━━━\u001b[0m\u001b[37m\u001b[0m \u001b[1m0s\u001b[0m 65ms/step - accuracy: 0.7846 - loss: 0.5229\n",
      "Epoch 2: val_loss improved from 0.80775 to 0.62958, saving model to ../../outputs/models/transfer_learning/densenet121_phase2_20251024_230244.keras\n",
      "\n",
      "Epoch 2: val_loss improved from 0.80775 to 0.62958, saving model to ../../outputs/models/transfer_learning/densenet121_phase2_20251024_230244.keras\n",
      "\u001b[1m152/152\u001b[0m \u001b[32m━━━━━━━━━━━━━━━━━━━━\u001b[0m\u001b[37m\u001b[0m \u001b[1m12s\u001b[0m 81ms/step - accuracy: 0.7841 - loss: 0.5251 - val_accuracy: 0.7392 - val_loss: 0.6296 - learning_rate: 1.0000e-04\n",
      "Epoch 3/12\n",
      "\u001b[1m152/152\u001b[0m \u001b[32m━━━━━━━━━━━━━━━━━━━━\u001b[0m\u001b[37m\u001b[0m \u001b[1m12s\u001b[0m 81ms/step - accuracy: 0.7841 - loss: 0.5251 - val_accuracy: 0.7392 - val_loss: 0.6296 - learning_rate: 1.0000e-04\n",
      "Epoch 3/12\n",
      "\u001b[1m152/152\u001b[0m \u001b[32m━━━━━━━━━━━━━━━━━━━━\u001b[0m\u001b[37m\u001b[0m \u001b[1m0s\u001b[0m 66ms/step - accuracy: 0.7977 - loss: 0.4868\n",
      "Epoch 3: val_loss did not improve from 0.62958\n",
      "\u001b[1m152/152\u001b[0m \u001b[32m━━━━━━━━━━━━━━━━━━━━\u001b[0m\u001b[37m\u001b[0m \u001b[1m11s\u001b[0m 75ms/step - accuracy: 0.8020 - loss: 0.4848 - val_accuracy: 0.7556 - val_loss: 0.6343 - learning_rate: 1.0000e-04\n",
      "Epoch 4/12\n",
      "\n",
      "Epoch 3: val_loss did not improve from 0.62958\n",
      "\u001b[1m152/152\u001b[0m \u001b[32m━━━━━━━━━━━━━━━━━━━━\u001b[0m\u001b[37m\u001b[0m \u001b[1m11s\u001b[0m 75ms/step - accuracy: 0.8020 - loss: 0.4848 - val_accuracy: 0.7556 - val_loss: 0.6343 - learning_rate: 1.0000e-04\n",
      "Epoch 4/12\n",
      "\u001b[1m152/152\u001b[0m \u001b[32m━━━━━━━━━━━━━━━━━━━━\u001b[0m\u001b[37m\u001b[0m \u001b[1m0s\u001b[0m 66ms/step - accuracy: 0.7912 - loss: 0.4878\n",
      "Epoch 4: val_loss did not improve from 0.62958\n",
      "\u001b[1m152/152\u001b[0m \u001b[32m━━━━━━━━━━━━━━━━━━━━\u001b[0m\u001b[37m\u001b[0m \u001b[1m12s\u001b[0m 76ms/step - accuracy: 0.8040 - loss: 0.4760 - val_accuracy: 0.7614 - val_loss: 0.6574 - learning_rate: 1.0000e-04\n",
      "Epoch 5/12\n",
      "\n",
      "Epoch 4: val_loss did not improve from 0.62958\n",
      "\u001b[1m152/152\u001b[0m \u001b[32m━━━━━━━━━━━━━━━━━━━━\u001b[0m\u001b[37m\u001b[0m \u001b[1m12s\u001b[0m 76ms/step - accuracy: 0.8040 - loss: 0.4760 - val_accuracy: 0.7614 - val_loss: 0.6574 - learning_rate: 1.0000e-04\n",
      "Epoch 5/12\n",
      "\u001b[1m152/152\u001b[0m \u001b[32m━━━━━━━━━━━━━━━━━━━━\u001b[0m\u001b[37m\u001b[0m \u001b[1m0s\u001b[0m 66ms/step - accuracy: 0.8212 - loss: 0.4421\n",
      "Epoch 5: val_loss improved from 0.62958 to 0.54466, saving model to ../../outputs/models/transfer_learning/densenet121_phase2_20251024_230244.keras\n",
      "\n",
      "Epoch 5: val_loss improved from 0.62958 to 0.54466, saving model to ../../outputs/models/transfer_learning/densenet121_phase2_20251024_230244.keras\n",
      "\u001b[1m152/152\u001b[0m \u001b[32m━━━━━━━━━━━━━━━━━━━━\u001b[0m\u001b[37m\u001b[0m \u001b[1m13s\u001b[0m 82ms/step - accuracy: 0.8227 - loss: 0.4367 - val_accuracy: 0.8058 - val_loss: 0.5447 - learning_rate: 1.0000e-04\n",
      "Epoch 6/12\n",
      "\u001b[1m152/152\u001b[0m \u001b[32m━━━━━━━━━━━━━━━━━━━━\u001b[0m\u001b[37m\u001b[0m \u001b[1m13s\u001b[0m 82ms/step - accuracy: 0.8227 - loss: 0.4367 - val_accuracy: 0.8058 - val_loss: 0.5447 - learning_rate: 1.0000e-04\n",
      "Epoch 6/12\n",
      "\u001b[1m152/152\u001b[0m \u001b[32m━━━━━━━━━━━━━━━━━━━━\u001b[0m\u001b[37m\u001b[0m \u001b[1m0s\u001b[0m 65ms/step - accuracy: 0.8297 - loss: 0.4224\n",
      "Epoch 6: val_loss did not improve from 0.54466\n",
      "\u001b[1m152/152\u001b[0m \u001b[32m━━━━━━━━━━━━━━━━━━━━\u001b[0m\u001b[37m\u001b[0m \u001b[1m11s\u001b[0m 74ms/step - accuracy: 0.8287 - loss: 0.4181 - val_accuracy: 0.7942 - val_loss: 0.5998 - learning_rate: 1.0000e-04\n",
      "Epoch 7/12\n",
      "\n",
      "Epoch 6: val_loss did not improve from 0.54466\n",
      "\u001b[1m152/152\u001b[0m \u001b[32m━━━━━━━━━━━━━━━━━━━━\u001b[0m\u001b[37m\u001b[0m \u001b[1m11s\u001b[0m 74ms/step - accuracy: 0.8287 - loss: 0.4181 - val_accuracy: 0.7942 - val_loss: 0.5998 - learning_rate: 1.0000e-04\n",
      "Epoch 7/12\n",
      "\u001b[1m152/152\u001b[0m \u001b[32m━━━━━━━━━━━━━━━━━━━━\u001b[0m\u001b[37m\u001b[0m \u001b[1m0s\u001b[0m 66ms/step - accuracy: 0.8378 - loss: 0.4070\n",
      "Epoch 7: val_loss improved from 0.54466 to 0.53391, saving model to ../../outputs/models/transfer_learning/densenet121_phase2_20251024_230244.keras\n",
      "\n",
      "Epoch 7: val_loss improved from 0.54466 to 0.53391, saving model to ../../outputs/models/transfer_learning/densenet121_phase2_20251024_230244.keras\n",
      "\u001b[1m152/152\u001b[0m \u001b[32m━━━━━━━━━━━━━━━━━━━━\u001b[0m\u001b[37m\u001b[0m \u001b[1m13s\u001b[0m 83ms/step - accuracy: 0.8349 - loss: 0.4112 - val_accuracy: 0.7977 - val_loss: 0.5339 - learning_rate: 1.0000e-04\n",
      "Epoch 8/12\n",
      "\u001b[1m152/152\u001b[0m \u001b[32m━━━━━━━━━━━━━━━━━━━━\u001b[0m\u001b[37m\u001b[0m \u001b[1m13s\u001b[0m 83ms/step - accuracy: 0.8349 - loss: 0.4112 - val_accuracy: 0.7977 - val_loss: 0.5339 - learning_rate: 1.0000e-04\n",
      "Epoch 8/12\n",
      "\u001b[1m152/152\u001b[0m \u001b[32m━━━━━━━━━━━━━━━━━━━━\u001b[0m\u001b[37m\u001b[0m \u001b[1m0s\u001b[0m 66ms/step - accuracy: 0.8350 - loss: 0.4026\n",
      "Epoch 8: val_loss did not improve from 0.53391\n",
      "\u001b[1m152/152\u001b[0m \u001b[32m━━━━━━━━━━━━━━━━━━━━\u001b[0m\u001b[37m\u001b[0m \u001b[1m12s\u001b[0m 76ms/step - accuracy: 0.8365 - loss: 0.4009 - val_accuracy: 0.8047 - val_loss: 0.5513 - learning_rate: 1.0000e-04\n",
      "Epoch 9/12\n",
      "\n",
      "Epoch 8: val_loss did not improve from 0.53391\n",
      "\u001b[1m152/152\u001b[0m \u001b[32m━━━━━━━━━━━━━━━━━━━━\u001b[0m\u001b[37m\u001b[0m \u001b[1m12s\u001b[0m 76ms/step - accuracy: 0.8365 - loss: 0.4009 - val_accuracy: 0.8047 - val_loss: 0.5513 - learning_rate: 1.0000e-04\n",
      "Epoch 9/12\n",
      "\u001b[1m152/152\u001b[0m \u001b[32m━━━━━━━━━━━━━━━━━━━━\u001b[0m\u001b[37m\u001b[0m \u001b[1m0s\u001b[0m 65ms/step - accuracy: 0.8590 - loss: 0.3622\n",
      "Epoch 9: val_loss did not improve from 0.53391\n",
      "\u001b[1m152/152\u001b[0m \u001b[32m━━━━━━━━━━━━━━━━━━━━\u001b[0m\u001b[37m\u001b[0m \u001b[1m11s\u001b[0m 75ms/step - accuracy: 0.8468 - loss: 0.3830 - val_accuracy: 0.7789 - val_loss: 0.5867 - learning_rate: 1.0000e-04\n",
      "Epoch 10/12\n",
      "\n",
      "Epoch 9: val_loss did not improve from 0.53391\n",
      "\u001b[1m152/152\u001b[0m \u001b[32m━━━━━━━━━━━━━━━━━━━━\u001b[0m\u001b[37m\u001b[0m \u001b[1m11s\u001b[0m 75ms/step - accuracy: 0.8468 - loss: 0.3830 - val_accuracy: 0.7789 - val_loss: 0.5867 - learning_rate: 1.0000e-04\n",
      "Epoch 10/12\n",
      "\u001b[1m152/152\u001b[0m \u001b[32m━━━━━━━━━━━━━━━━━━━━\u001b[0m\u001b[37m\u001b[0m \u001b[1m0s\u001b[0m 66ms/step - accuracy: 0.8593 - loss: 0.3578\n",
      "Epoch 10: val_loss improved from 0.53391 to 0.52589, saving model to ../../outputs/models/transfer_learning/densenet121_phase2_20251024_230244.keras\n",
      "\n",
      "Epoch 10: val_loss improved from 0.53391 to 0.52589, saving model to ../../outputs/models/transfer_learning/densenet121_phase2_20251024_230244.keras\n",
      "\u001b[1m152/152\u001b[0m \u001b[32m━━━━━━━━━━━━━━━━━━━━\u001b[0m\u001b[37m\u001b[0m \u001b[1m13s\u001b[0m 85ms/step - accuracy: 0.8585 - loss: 0.3589 - val_accuracy: 0.8246 - val_loss: 0.5259 - learning_rate: 1.0000e-04\n",
      "Epoch 11/12\n",
      "\u001b[1m152/152\u001b[0m \u001b[32m━━━━━━━━━━━━━━━━━━━━\u001b[0m\u001b[37m\u001b[0m \u001b[1m13s\u001b[0m 85ms/step - accuracy: 0.8585 - loss: 0.3589 - val_accuracy: 0.8246 - val_loss: 0.5259 - learning_rate: 1.0000e-04\n",
      "Epoch 11/12\n",
      "\u001b[1m152/152\u001b[0m \u001b[32m━━━━━━━━━━━━━━━━━━━━\u001b[0m\u001b[37m\u001b[0m \u001b[1m0s\u001b[0m 66ms/step - accuracy: 0.8489 - loss: 0.3731\n",
      "Epoch 11: val_loss did not improve from 0.52589\n",
      "\u001b[1m152/152\u001b[0m \u001b[32m━━━━━━━━━━━━━━━━━━━━\u001b[0m\u001b[37m\u001b[0m \u001b[1m11s\u001b[0m 75ms/step - accuracy: 0.8561 - loss: 0.3628 - val_accuracy: 0.8000 - val_loss: 0.6120 - learning_rate: 1.0000e-04\n",
      "Epoch 12/12\n",
      "\n",
      "Epoch 11: val_loss did not improve from 0.52589\n",
      "\u001b[1m152/152\u001b[0m \u001b[32m━━━━━━━━━━━━━━━━━━━━\u001b[0m\u001b[37m\u001b[0m \u001b[1m11s\u001b[0m 75ms/step - accuracy: 0.8561 - loss: 0.3628 - val_accuracy: 0.8000 - val_loss: 0.6120 - learning_rate: 1.0000e-04\n",
      "Epoch 12/12\n",
      "\u001b[1m152/152\u001b[0m \u001b[32m━━━━━━━━━━━━━━━━━━━━\u001b[0m\u001b[37m\u001b[0m \u001b[1m0s\u001b[0m 65ms/step - accuracy: 0.8506 - loss: 0.3627\n",
      "Epoch 12: val_loss did not improve from 0.52589\n",
      "\u001b[1m152/152\u001b[0m \u001b[32m━━━━━━━━━━━━━━━━━━━━\u001b[0m\u001b[37m\u001b[0m \u001b[1m11s\u001b[0m 75ms/step - accuracy: 0.8540 - loss: 0.3614 - val_accuracy: 0.8152 - val_loss: 0.5274 - learning_rate: 1.0000e-04\n",
      "Restoring model weights from the end of the best epoch: 10.\n",
      "\n",
      "Epoch 12: val_loss did not improve from 0.52589\n",
      "\u001b[1m152/152\u001b[0m \u001b[32m━━━━━━━━━━━━━━━━━━━━\u001b[0m\u001b[37m\u001b[0m \u001b[1m11s\u001b[0m 75ms/step - accuracy: 0.8540 - loss: 0.3614 - val_accuracy: 0.8152 - val_loss: 0.5274 - learning_rate: 1.0000e-04\n",
      "Restoring model weights from the end of the best epoch: 10.\n",
      "\n",
      "✅ Phase 2 completed!\n",
      "Best val_accuracy: 0.8246\n",
      "\n",
      "✅ Phase 2 completed!\n",
      "Best val_accuracy: 0.8246\n"
     ]
    }
   ],
   "source": [
    "print(\"\\n\" + \"=\"*70)\n",
    "print(\"PHASE 2: Fine-tuning Top Layers\")\n",
    "print(\"=\"*70)\n",
    "\n",
    "# Unfreeze last dense blocks\n",
    "base_model.trainable = True\n",
    "\n",
    "# Freeze bottom layers\n",
    "for layer in base_model.layers[:-40]:\n",
    "    layer.trainable = False\n",
    "\n",
    "# Count trainable layers\n",
    "trainable_layers = sum([layer.trainable for layer in base_model.layers])\n",
    "print(f\"Trainable layers in base model: {trainable_layers} / {len(base_model.layers)}\")\n",
    "\n",
    "# Recompile with lower learning rate\n",
    "model.compile(\n",
    "    optimizer=Adam(learning_rate=LEARNING_RATE_PHASE2),\n",
    "    loss='categorical_crossentropy',\n",
    "    metrics=['accuracy']\n",
    ")\n",
    "\n",
    "print(f\"Learning rate: {LEARNING_RATE_PHASE2}\")\n",
    "print(f\"Epochs: 12\\n\")\n",
    "\n",
    "# Callbacks\n",
    "model_path_phase2 = os.path.join(MODEL_DIR, f\"densenet121_phase2_{timestamp}.keras\")\n",
    "callbacks_phase2 = [\n",
    "    EarlyStopping(\n",
    "        monitor='val_loss',\n",
    "        patience=5,\n",
    "        restore_best_weights=True,\n",
    "        verbose=1\n",
    "    ),\n",
    "    ModelCheckpoint(\n",
    "        filepath=model_path_phase2,\n",
    "        monitor='val_loss',\n",
    "        save_best_only=True,\n",
    "        verbose=1\n",
    "    ),\n",
    "    ReduceLROnPlateau(\n",
    "        monitor='val_loss',\n",
    "        factor=0.5,\n",
    "        patience=3,\n",
    "        min_lr=1e-8,\n",
    "        verbose=1\n",
    "    )\n",
    "]\n",
    "\n",
    "# Train\n",
    "history_phase2 = model.fit(\n",
    "    train_generator,\n",
    "    epochs=12,\n",
    "    validation_data=val_generator,\n",
    "    callbacks=callbacks_phase2,\n",
    "    verbose=1\n",
    ")\n",
    "\n",
    "print(\"\\n✅ Phase 2 completed!\")\n",
    "print(f\"Best val_accuracy: {max(history_phase2.history['val_accuracy']):.4f}\")"
   ]
  },
  {
   "cell_type": "markdown",
   "id": "8e8d046b",
   "metadata": {},
   "source": [
    "## 8. Phase 3: Final Training (8 epochs)"
   ]
  },
  {
   "cell_type": "code",
   "execution_count": 8,
   "id": "3a833f2d",
   "metadata": {},
   "outputs": [
    {
     "name": "stdout",
     "output_type": "stream",
     "text": [
      "\n",
      "======================================================================\n",
      "PHASE 3: Final Training\n",
      "======================================================================\n",
      "All layers unfrozen\n",
      "Learning rate: 1e-05\n",
      "Epochs: 8\n",
      "⚠️  Reducing batch size to 16 to avoid OOM\n",
      "\n",
      "Creating generators with batch size 16...\n",
      "Found 4863 validated image filenames belonging to 3 classes.\n",
      "Found 855 validated image filenames belonging to 3 classes.\n",
      "Found 4863 validated image filenames belonging to 3 classes.\n",
      "Found 855 validated image filenames belonging to 3 classes.\n",
      "Found 1463 validated image filenames belonging to 3 classes.\n",
      "Found 1463 validated image filenames belonging to 3 classes.\n",
      "Steps per epoch: 304\n",
      "\n",
      "Epoch 1/8\n",
      "Steps per epoch: 304\n",
      "\n",
      "Epoch 1/8\n"
     ]
    },
    {
     "name": "stderr",
     "output_type": "stream",
     "text": [
      "/projects/ai-ml/BrainTumorProject/.venv/lib/python3.11/site-packages/keras/src/trainers/data_adapters/py_dataset_adapter.py:121: UserWarning: Your `PyDataset` class should call `super().__init__(**kwargs)` in its constructor. `**kwargs` can include `workers`, `use_multiprocessing`, `max_queue_size`. Do not pass these arguments to `fit()`, as they will be ignored.\n",
      "  self._warn_if_super_not_called()\n"
     ]
    },
    {
     "name": "stdout",
     "output_type": "stream",
     "text": [
      "\u001b[1m304/304\u001b[0m \u001b[32m━━━━━━━━━━━━━━━━━━━━\u001b[0m\u001b[37m\u001b[0m \u001b[1m0s\u001b[0m 309ms/step - accuracy: 0.6827 - loss: 0.8686\n",
      "Epoch 1: val_loss improved from None to 0.60858, saving model to ../../outputs/models/transfer_learning/densenet121_final_20251024_230244.keras\n",
      "\n",
      "Epoch 1: val_loss improved from None to 0.60858, saving model to ../../outputs/models/transfer_learning/densenet121_final_20251024_230244.keras\n",
      "\u001b[1m304/304\u001b[0m \u001b[32m━━━━━━━━━━━━━━━━━━━━\u001b[0m\u001b[37m\u001b[0m \u001b[1m221s\u001b[0m 374ms/step - accuracy: 0.7306 - loss: 0.7218 - val_accuracy: 0.7532 - val_loss: 0.6086\n",
      "Epoch 2/8\n",
      "\u001b[1m304/304\u001b[0m \u001b[32m━━━━━━━━━━━━━━━━━━━━\u001b[0m\u001b[37m\u001b[0m \u001b[1m221s\u001b[0m 374ms/step - accuracy: 0.7306 - loss: 0.7218 - val_accuracy: 0.7532 - val_loss: 0.6086\n",
      "Epoch 2/8\n",
      "\u001b[1m304/304\u001b[0m \u001b[32m━━━━━━━━━━━━━━━━━━━━\u001b[0m\u001b[37m\u001b[0m \u001b[1m0s\u001b[0m 90ms/step - accuracy: 0.8030 - loss: 0.5173\n",
      "Epoch 2: val_loss improved from 0.60858 to 0.47127, saving model to ../../outputs/models/transfer_learning/densenet121_final_20251024_230244.keras\n",
      "\n",
      "Epoch 2: val_loss improved from 0.60858 to 0.47127, saving model to ../../outputs/models/transfer_learning/densenet121_final_20251024_230244.keras\n",
      "\u001b[1m304/304\u001b[0m \u001b[32m━━━━━━━━━━━━━━━━━━━━\u001b[0m\u001b[37m\u001b[0m \u001b[1m31s\u001b[0m 103ms/step - accuracy: 0.8104 - loss: 0.4975 - val_accuracy: 0.8269 - val_loss: 0.4713\n",
      "Epoch 3/8\n",
      "\u001b[1m304/304\u001b[0m \u001b[32m━━━━━━━━━━━━━━━━━━━━\u001b[0m\u001b[37m\u001b[0m \u001b[1m31s\u001b[0m 103ms/step - accuracy: 0.8104 - loss: 0.4975 - val_accuracy: 0.8269 - val_loss: 0.4713\n",
      "Epoch 3/8\n",
      "\u001b[1m304/304\u001b[0m \u001b[32m━━━━━━━━━━━━━━━━━━━━\u001b[0m\u001b[37m\u001b[0m \u001b[1m0s\u001b[0m 90ms/step - accuracy: 0.8340 - loss: 0.4329\n",
      "Epoch 3: val_loss improved from 0.47127 to 0.40039, saving model to ../../outputs/models/transfer_learning/densenet121_final_20251024_230244.keras\n",
      "\n",
      "Epoch 3: val_loss improved from 0.47127 to 0.40039, saving model to ../../outputs/models/transfer_learning/densenet121_final_20251024_230244.keras\n",
      "\u001b[1m304/304\u001b[0m \u001b[32m━━━━━━━━━━━━━━━━━━━━\u001b[0m\u001b[37m\u001b[0m \u001b[1m30s\u001b[0m 100ms/step - accuracy: 0.8380 - loss: 0.4230 - val_accuracy: 0.8515 - val_loss: 0.4004\n",
      "Epoch 4/8\n",
      "\u001b[1m304/304\u001b[0m \u001b[32m━━━━━━━━━━━━━━━━━━━━\u001b[0m\u001b[37m\u001b[0m \u001b[1m30s\u001b[0m 100ms/step - accuracy: 0.8380 - loss: 0.4230 - val_accuracy: 0.8515 - val_loss: 0.4004\n",
      "Epoch 4/8\n",
      "\u001b[1m304/304\u001b[0m \u001b[32m━━━━━━━━━━━━━━━━━━━━\u001b[0m\u001b[37m\u001b[0m \u001b[1m0s\u001b[0m 90ms/step - accuracy: 0.8453 - loss: 0.3864\n",
      "Epoch 4: val_loss improved from 0.40039 to 0.36997, saving model to ../../outputs/models/transfer_learning/densenet121_final_20251024_230244.keras\n",
      "\n",
      "Epoch 4: val_loss improved from 0.40039 to 0.36997, saving model to ../../outputs/models/transfer_learning/densenet121_final_20251024_230244.keras\n",
      "\u001b[1m304/304\u001b[0m \u001b[32m━━━━━━━━━━━━━━━━━━━━\u001b[0m\u001b[37m\u001b[0m \u001b[1m31s\u001b[0m 100ms/step - accuracy: 0.8515 - loss: 0.3783 - val_accuracy: 0.8632 - val_loss: 0.3700\n",
      "Epoch 5/8\n",
      "\u001b[1m304/304\u001b[0m \u001b[32m━━━━━━━━━━━━━━━━━━━━\u001b[0m\u001b[37m\u001b[0m \u001b[1m31s\u001b[0m 100ms/step - accuracy: 0.8515 - loss: 0.3783 - val_accuracy: 0.8632 - val_loss: 0.3700\n",
      "Epoch 5/8\n",
      "\u001b[1m304/304\u001b[0m \u001b[32m━━━━━━━━━━━━━━━━━━━━\u001b[0m\u001b[37m\u001b[0m \u001b[1m0s\u001b[0m 91ms/step - accuracy: 0.8592 - loss: 0.3696\n",
      "Epoch 5: val_loss improved from 0.36997 to 0.32544, saving model to ../../outputs/models/transfer_learning/densenet121_final_20251024_230244.keras\n",
      "\n",
      "Epoch 5: val_loss improved from 0.36997 to 0.32544, saving model to ../../outputs/models/transfer_learning/densenet121_final_20251024_230244.keras\n",
      "\u001b[1m304/304\u001b[0m \u001b[32m━━━━━━━━━━━━━━━━━━━━\u001b[0m\u001b[37m\u001b[0m \u001b[1m31s\u001b[0m 101ms/step - accuracy: 0.8641 - loss: 0.3589 - val_accuracy: 0.8819 - val_loss: 0.3254\n",
      "Epoch 6/8\n",
      "\u001b[1m304/304\u001b[0m \u001b[32m━━━━━━━━━━━━━━━━━━━━\u001b[0m\u001b[37m\u001b[0m \u001b[1m31s\u001b[0m 101ms/step - accuracy: 0.8641 - loss: 0.3589 - val_accuracy: 0.8819 - val_loss: 0.3254\n",
      "Epoch 6/8\n",
      "\u001b[1m304/304\u001b[0m \u001b[32m━━━━━━━━━━━━━━━━━━━━\u001b[0m\u001b[37m\u001b[0m \u001b[1m0s\u001b[0m 90ms/step - accuracy: 0.8774 - loss: 0.3142\n",
      "Epoch 6: val_loss improved from 0.32544 to 0.28810, saving model to ../../outputs/models/transfer_learning/densenet121_final_20251024_230244.keras\n",
      "\n",
      "Epoch 6: val_loss improved from 0.32544 to 0.28810, saving model to ../../outputs/models/transfer_learning/densenet121_final_20251024_230244.keras\n",
      "\u001b[1m304/304\u001b[0m \u001b[32m━━━━━━━━━━━━━━━━━━━━\u001b[0m\u001b[37m\u001b[0m \u001b[1m31s\u001b[0m 100ms/step - accuracy: 0.8793 - loss: 0.3159 - val_accuracy: 0.8912 - val_loss: 0.2881\n",
      "Epoch 7/8\n",
      "\u001b[1m304/304\u001b[0m \u001b[32m━━━━━━━━━━━━━━━━━━━━\u001b[0m\u001b[37m\u001b[0m \u001b[1m31s\u001b[0m 100ms/step - accuracy: 0.8793 - loss: 0.3159 - val_accuracy: 0.8912 - val_loss: 0.2881\n",
      "Epoch 7/8\n",
      "\u001b[1m304/304\u001b[0m \u001b[32m━━━━━━━━━━━━━━━━━━━━\u001b[0m\u001b[37m\u001b[0m \u001b[1m0s\u001b[0m 90ms/step - accuracy: 0.8895 - loss: 0.3093\n",
      "Epoch 7: val_loss did not improve from 0.28810\n",
      "\u001b[1m304/304\u001b[0m \u001b[32m━━━━━━━━━━━━━━━━━━━━\u001b[0m\u001b[37m\u001b[0m \u001b[1m29s\u001b[0m 95ms/step - accuracy: 0.8865 - loss: 0.3027 - val_accuracy: 0.9076 - val_loss: 0.2900\n",
      "Epoch 8/8\n",
      "\n",
      "Epoch 7: val_loss did not improve from 0.28810\n",
      "\u001b[1m304/304\u001b[0m \u001b[32m━━━━━━━━━━━━━━━━━━━━\u001b[0m\u001b[37m\u001b[0m \u001b[1m29s\u001b[0m 95ms/step - accuracy: 0.8865 - loss: 0.3027 - val_accuracy: 0.9076 - val_loss: 0.2900\n",
      "Epoch 8/8\n",
      "\u001b[1m304/304\u001b[0m \u001b[32m━━━━━━━━━━━━━━━━━━━━\u001b[0m\u001b[37m\u001b[0m \u001b[1m0s\u001b[0m 90ms/step - accuracy: 0.8979 - loss: 0.2829\n",
      "Epoch 8: val_loss improved from 0.28810 to 0.27346, saving model to ../../outputs/models/transfer_learning/densenet121_final_20251024_230244.keras\n",
      "\n",
      "Epoch 8: val_loss improved from 0.28810 to 0.27346, saving model to ../../outputs/models/transfer_learning/densenet121_final_20251024_230244.keras\n",
      "\u001b[1m304/304\u001b[0m \u001b[32m━━━━━━━━━━━━━━━━━━━━\u001b[0m\u001b[37m\u001b[0m \u001b[1m30s\u001b[0m 99ms/step - accuracy: 0.8931 - loss: 0.2877 - val_accuracy: 0.9064 - val_loss: 0.2735\n",
      "Restoring model weights from the end of the best epoch: 8.\n",
      "\u001b[1m304/304\u001b[0m \u001b[32m━━━━━━━━━━━━━━━━━━━━\u001b[0m\u001b[37m\u001b[0m \u001b[1m30s\u001b[0m 99ms/step - accuracy: 0.8931 - loss: 0.2877 - val_accuracy: 0.9064 - val_loss: 0.2735\n",
      "Restoring model weights from the end of the best epoch: 8.\n",
      "\n",
      "✅ Phase 3 completed!\n",
      "Final model saved to: ../../outputs/models/transfer_learning/densenet121_final_20251024_230244.keras\n",
      "\n",
      "✅ Phase 3 completed!\n",
      "Final model saved to: ../../outputs/models/transfer_learning/densenet121_final_20251024_230244.keras\n"
     ]
    }
   ],
   "source": [
    "print(\"\\n\" + \"=\"*70)\n",
    "print(\"PHASE 3: Final Training\")\n",
    "print(\"=\"*70)\n",
    "\n",
    "# Unfreeze all layers\n",
    "base_model.trainable = True\n",
    "for layer in base_model.layers:\n",
    "    layer.trainable = True\n",
    "\n",
    "print(f\"All layers unfrozen\")\n",
    "print(f\"Learning rate: {LEARNING_RATE_PHASE3}\")\n",
    "print(f\"Epochs: 8\")\n",
    "print(f\"⚠️  Reducing batch size to 16 to avoid OOM\\n\")\n",
    "\n",
    "# Recompile with very low learning rate\n",
    "model.compile(\n",
    "    optimizer=Adam(learning_rate=LEARNING_RATE_PHASE3),\n",
    "    loss='categorical_crossentropy',\n",
    "    metrics=['accuracy']\n",
    ")\n",
    "\n",
    "# Create new generators with smaller batch size for Phase 3\n",
    "print(\"Creating generators with batch size 16...\")\n",
    "train_generator_phase3, val_generator_phase3, _ = create_rgb_generators(\n",
    "    train_df=train_df,\n",
    "    val_df=val_df,\n",
    "    test_df=test_df,\n",
    "    img_size=IMG_SIZE,\n",
    "    batch_size=16  # Reduced from 32\n",
    ")\n",
    "print(f\"Steps per epoch: {len(train_generator_phase3)}\\n\")\n",
    "\n",
    "# Callbacks\n",
    "model_path_final = os.path.join(MODEL_DIR, f\"densenet121_final_{timestamp}.keras\")\n",
    "history_csv = os.path.join(HISTORY_DIR, f\"densenet121_history_{timestamp}.csv\")\n",
    "\n",
    "callbacks_phase3 = [\n",
    "    EarlyStopping(\n",
    "        monitor='val_loss',\n",
    "        patience=4,\n",
    "        restore_best_weights=True,\n",
    "        verbose=1\n",
    "    ),\n",
    "    ModelCheckpoint(\n",
    "        filepath=model_path_final,\n",
    "        monitor='val_loss',\n",
    "        save_best_only=True,\n",
    "        verbose=1\n",
    "    ),\n",
    "    CSVLogger(filename=history_csv)\n",
    "]\n",
    "\n",
    "# Train with smaller batch size\n",
    "history_phase3 = model.fit(\n",
    "    train_generator_phase3,\n",
    "    epochs=8,\n",
    "    validation_data=val_generator_phase3,\n",
    "    callbacks=callbacks_phase3,\n",
    "    verbose=1\n",
    ")\n",
    "\n",
    "print(\"\\n✅ Phase 3 completed!\")\n",
    "print(f\"Final model saved to: {model_path_final}\")"
   ]
  },
  {
   "cell_type": "markdown",
   "id": "8e4bf671",
   "metadata": {},
   "source": [
    "## 9. Combine Training History"
   ]
  },
  {
   "cell_type": "code",
   "execution_count": 9,
   "id": "eed286c6",
   "metadata": {},
   "outputs": [
    {
     "name": "stdout",
     "output_type": "stream",
     "text": [
      "Total epochs: 25\n",
      "Best val_accuracy: 0.9076\n"
     ]
    }
   ],
   "source": [
    "# Combine histories from all phases\n",
    "combined_history = {\n",
    "    'accuracy': (history_phase1.history['accuracy'] + \n",
    "                 history_phase2.history['accuracy'] + \n",
    "                 history_phase3.history['accuracy']),\n",
    "    'val_accuracy': (history_phase1.history['val_accuracy'] + \n",
    "                     history_phase2.history['val_accuracy'] + \n",
    "                     history_phase3.history['val_accuracy']),\n",
    "    'loss': (history_phase1.history['loss'] + \n",
    "             history_phase2.history['loss'] + \n",
    "             history_phase3.history['loss']),\n",
    "    'val_loss': (history_phase1.history['val_loss'] + \n",
    "                 history_phase2.history['val_loss'] + \n",
    "                 history_phase3.history['val_loss'])\n",
    "}\n",
    "\n",
    "print(f\"Total epochs: {len(combined_history['accuracy'])}\")\n",
    "print(f\"Best val_accuracy: {max(combined_history['val_accuracy']):.4f}\")"
   ]
  },
  {
   "cell_type": "markdown",
   "id": "be71ca4f",
   "metadata": {},
   "source": [
    "## 10. Visualize Training History"
   ]
  },
  {
   "cell_type": "code",
   "execution_count": 10,
   "id": "73493e13",
   "metadata": {},
   "outputs": [
    {
     "name": "stdout",
     "output_type": "stream",
     "text": [
      "Training curves saved to: ../../outputs/visualizations/day4_advanced_densenet121_history_20251024_230244.png\n"
     ]
    },
    {
     "data": {
      "image/png": "[encoded data removed]",
      "text/plain": [
       "<Figure size 1600x500 with 2 Axes>"
      ]
     },
     "metadata": {},
     "output_type": "display_data"
    }
   ],
   "source": [
    "fig, (ax1, ax2) = plt.subplots(1, 2, figsize=(16, 5))\n",
    "\n",
    "# Mark phase boundaries\n",
    "phase1_end = len(history_phase1.history['accuracy'])\n",
    "phase2_end = phase1_end + len(history_phase2.history['accuracy'])\n",
    "\n",
    "# Plot accuracy\n",
    "ax1.plot(combined_history['accuracy'], label='Train Accuracy', marker='o', markersize=3)\n",
    "ax1.plot(combined_history['val_accuracy'], label='Val Accuracy', marker='s', markersize=3)\n",
    "ax1.axvline(x=phase1_end-0.5, color='red', linestyle='--', alpha=0.5, label='Phase 1→2')\n",
    "ax1.axvline(x=phase2_end-0.5, color='orange', linestyle='--', alpha=0.5, label='Phase 2→3')\n",
    "ax1.set_title('Model Accuracy (DenseNet121)', fontsize=14, fontweight='bold')\n",
    "ax1.set_xlabel('Epoch')\n",
    "ax1.set_ylabel('Accuracy')\n",
    "ax1.legend()\n",
    "ax1.grid(True, alpha=0.3)\n",
    "\n",
    "# Plot loss\n",
    "ax2.plot(combined_history['loss'], label='Train Loss', marker='o', markersize=3)\n",
    "ax2.plot(combined_history['val_loss'], label='Val Loss', marker='s', markersize=3)\n",
    "ax2.axvline(x=phase1_end-0.5, color='red', linestyle='--', alpha=0.5, label='Phase 1→2')\n",
    "ax2.axvline(x=phase2_end-0.5, color='orange', linestyle='--', alpha=0.5, label='Phase 2→3')\n",
    "ax2.set_title('Model Loss (DenseNet121)', fontsize=14, fontweight='bold')\n",
    "ax2.set_xlabel('Epoch')\n",
    "ax2.set_ylabel('Loss')\n",
    "ax2.legend()\n",
    "ax2.grid(True, alpha=0.3)\n",
    "\n",
    "plt.tight_layout()\n",
    "\n",
    "viz_path = os.path.join(VIZ_DIR, f\"day4_advanced_densenet121_history_{timestamp}.png\")\n",
    "plt.savefig(viz_path, dpi=300, bbox_inches='tight')\n",
    "print(f\"Training curves saved to: {viz_path}\")\n",
    "\n",
    "plt.show()"
   ]
  },
  {
   "cell_type": "markdown",
   "id": "2688104f",
   "metadata": {},
   "source": [
    "## 11. Evaluate on Test Set"
   ]
  },
  {
   "cell_type": "code",
   "execution_count": 11,
   "id": "06bb39ee",
   "metadata": {},
   "outputs": [
    {
     "name": "stdout",
     "output_type": "stream",
     "text": [
      "🔍 Evaluating on test set...\n",
      "\n",
      "\u001b[1m46/46\u001b[0m \u001b[32m━━━━━━━━━━━━━━━━━━━━\u001b[0m\u001b[37m\u001b[0m \u001b[1m14s\u001b[0m 184ms/step - accuracy: 0.8824 - loss: 0.3284\n",
      "\u001b[1m46/46\u001b[0m \u001b[32m━━━━━━━━━━━━━━━━━━━━\u001b[0m\u001b[37m\u001b[0m \u001b[1m14s\u001b[0m 184ms/step - accuracy: 0.8824 - loss: 0.3284\n",
      "\n",
      "======================================================================\n",
      "📊 DenseNet121 Test Results\n",
      "======================================================================\n",
      "  Test Loss:     0.3284\n",
      "  Test Accuracy: 0.8824 (88.24%)\n",
      "======================================================================\n",
      "\n",
      "💡 Comparison with Baseline CNN:\n",
      "  Baseline:    76.83%\n",
      "  DenseNet121: 88.24%\n",
      "  Improvement: +11.41%\n",
      "\n",
      "Results saved to: ../../outputs/training_history/transfer_learning/densenet121_results_20251024_230244.json\n",
      "\n",
      "======================================================================\n",
      "📊 DenseNet121 Test Results\n",
      "======================================================================\n",
      "  Test Loss:     0.3284\n",
      "  Test Accuracy: 0.8824 (88.24%)\n",
      "======================================================================\n",
      "\n",
      "💡 Comparison with Baseline CNN:\n",
      "  Baseline:    76.83%\n",
      "  DenseNet121: 88.24%\n",
      "  Improvement: +11.41%\n",
      "\n",
      "Results saved to: ../../outputs/training_history/transfer_learning/densenet121_results_20251024_230244.json\n"
     ]
    }
   ],
   "source": [
    "print(\"🔍 Evaluating on test set...\\n\")\n",
    "\n",
    "# Evaluate\n",
    "test_loss, test_accuracy = model.evaluate(test_generator, verbose=1)\n",
    "\n",
    "print(f\"\\n{'='*70}\")\n",
    "print(f\"📊 DenseNet121 Test Results\")\n",
    "print(f\"{'='*70}\")\n",
    "print(f\"  Test Loss:     {test_loss:.4f}\")\n",
    "print(f\"  Test Accuracy: {test_accuracy:.4f} ({test_accuracy*100:.2f}%)\")\n",
    "print(f\"{'='*70}\")\n",
    "\n",
    "# Compare with baseline\n",
    "baseline_accuracy = 0.7683  # From day4_01\n",
    "improvement = (test_accuracy - baseline_accuracy) * 100\n",
    "\n",
    "print(f\"\\n💡 Comparison with Baseline CNN:\")\n",
    "print(f\"  Baseline:    76.83%\")\n",
    "print(f\"  DenseNet121: {test_accuracy*100:.2f}%\")\n",
    "print(f\"  Improvement: {improvement:+.2f}%\")\n",
    "\n",
    "# Save results\n",
    "results = {\n",
    "    'model': 'DenseNet121',\n",
    "    'timestamp': timestamp,\n",
    "    'test_loss': float(test_loss),\n",
    "    'test_accuracy': float(test_accuracy),\n",
    "    'baseline_accuracy': float(baseline_accuracy),\n",
    "    'improvement': float(improvement),\n",
    "    'total_epochs': len(combined_history['accuracy']),\n",
    "    'model_path': model_path_final\n",
    "}\n",
    "\n",
    "results_path = os.path.join(HISTORY_DIR, f\"densenet121_results_{timestamp}.json\")\n",
    "with open(results_path, 'w') as f:\n",
    "    json.dump(results, f, indent=2)\n",
    "\n",
    "print(f\"\\nResults saved to: {results_path}\")"
   ]
  },
  {
   "cell_type": "markdown",
   "id": "eb23bb2a",
   "metadata": {},
   "source": [
    "## 12. Summary"
   ]
  },
  {
   "cell_type": "code",
   "execution_count": null,
   "id": "12f5c2fb",
   "metadata": {},
   "outputs": [
    {
     "name": "stdout",
     "output_type": "stream",
     "text": [
      "\n",
      "======================================================================\n",
      "🎉 DENSENET121 TRAINING COMPLETE!\n",
      "======================================================================\n",
      "\n",
      "📊 Final Results:\n",
      "  Model: DenseNet121\n",
      "  Test Accuracy: 88.24%\n",
      "  Baseline: 76.83%\n",
      "  Improvement: +11.41%\n",
      "\n",
      "📁 Files Created:\n",
      "  ✅ Final Model: ../../outputs/models/transfer_learning/densenet121_final_20251024_230244.keras\n",
      "  ✅ History CSV: ../../outputs/training_history/transfer_learning/densenet121_history_20251024_230244.csv\n",
      "  ✅ Results JSON: ../../outputs/training_history/transfer_learning/densenet121_results_20251024_230244.json\n",
      "  ✅ Visualization: ../../outputs/visualizations/day4_advanced_densenet121_history_20251024_230244.png\n",
      "\n",
      "🎯 Next Steps:\n",
      "  1. Create ensemble (day4_advanced_ensemble.ipynb)\n",
      "  2. Combine all 4 models (baseline + 3 transfer learning)\n",
      "  3. Expected ensemble accuracy: 92-95%\n",
      "\n",
      "💡 Interpretation:\n",
      "  ✅ Excellent! Significant improvement over baseline!\n",
      "\n",
      "======================================================================\n"
     ]
    },
    {
     "ename": "",
     "evalue": "",
     "output_type": "error",
     "traceback": [
      "\u001b[1;31mThe Kernel crashed while executing code in the current cell or a previous cell. \n",
      "\u001b[1;31mPlease review the code in the cell(s) to identify a possible cause of the failure. \n",
      "\u001b[1;31mClick <a href='https://aka.ms/vscodeJupyterKernelCrash'>here</a> for more info. \n",
      "\u001b[1;31mView Jupyter <a href='command:jupyter.viewOutput'>log</a> for further details."
     ]
    }
   ],
   "source": [
    "print(\"\\n\" + \"=\"*70)\n",
    "print(\"🎉 DENSENET121 TRAINING COMPLETE!\")\n",
    "print(\"=\"*70)\n",
    "\n",
    "print(\"\\n📊 Final Results:\")\n",
    "print(f\"  Model: DenseNet121\")\n",
    "print(f\"  Test Accuracy: {test_accuracy*100:.2f}%\")\n",
    "print(f\"  Baseline: 76.83%\")\n",
    "print(f\"  Improvement: {improvement:+.2f}%\")\n",
    "\n",
    "print(\"\\n📁 Files Created:\")\n",
    "print(f\"  ✅ Final Model: {model_path_final}\")\n",
    "print(f\"  ✅ History CSV: {history_csv}\")\n",
    "print(f\"  ✅ Results JSON: {results_path}\")\n",
    "print(f\"  ✅ Visualization: {viz_path}\")\n",
    "\n",
    "print(\"\\n🎯 Next Steps:\")\n",
    "print(\"  1. Create ensemble (day4_advanced_ensemble.ipynb)\")\n",
    "print(\"  2. Combine all 4 models (baseline + 3 transfer learning)\")\n",
    "print(\"  3. Expected ensemble accuracy: 92-95%\")\n",
    "\n",
    "print(\"\\n💡 Interpretation:\")\n",
    "if test_accuracy >= 0.92:\n",
    "    print(\"  🌟 Outstanding! Excellent performance!\")\n",
    "elif test_accuracy >= 0.88:\n",
    "    print(\"  ✅ Excellent! Significant improvement over baseline!\")\n",
    "elif test_accuracy >= 0.82:\n",
    "    print(\"  ✅ Good! Notable improvement!\")\n",
    "else:\n",
    "    print(\"  ⚠️  Moderate improvement - try adjusting hyperparameters\")\n",
    "\n",
    "print(\"\\n\" + \"=\"*70)"
   ]
  }
 ],
 "metadata": {
  "kernelspec": {
   "display_name": "Python (BrainTumor)",
   "language": "python",
   "name": "braintumor-venv"
  },
  "language_info": {
   "codemirror_mode": {
    "name": "ipython",
    "version": 3
   },
   "file_extension": ".py",
   "mimetype": "text/x-python",
   "name": "python",
   "nbconvert_exporter": "python",
   "pygments_lexer": "ipython3",
   "version": "3.14.0"
  }
 },
 "nbformat": 4,
 "nbformat_minor": 5
}
