{
 "cells": [
  {
   "cell_type": "markdown",
   "id": "698f058b",
   "metadata": {},
   "source": [
    "# Day 4 Advanced: Continue Training - Push to 95%!\n",
    "\n",
    "**Goal:** Continue training ResNet50 and DenseNet121 for more epochs to achieve 95% accuracy\n",
    "\n",
    "**Current Status:**\n",
    "- ResNet50: 91.87% (trained for 30 epochs)\n",
    "- DenseNet121: 88.24% (trained for 30 epochs)\n",
    "- Ensemble + Aggressive TTA: 93.64%\n",
    "\n",
    "**Target:**\n",
    "- ResNet50: 92.5-93.0% (+10 epochs)\n",
    "- DenseNet121: 89.0-90.0% (+10 epochs)\n",
    "- Ensemble + Aggressive TTA: **94.5-95.5%** 🎯\n",
    "\n",
    "**Strategy:**\n",
    "1. Load existing trained models\n",
    "2. Continue Phase 3 fine-tuning with lower learning rate\n",
    "3. Use early stopping to prevent overfitting\n",
    "4. Save improved models\n",
    "5. Re-evaluate ensemble with new models\n",
    "\n",
    "**Expected time:** 2-3 hours\n",
    "\n",
    "---"
   ]
  },
  {
   "cell_type": "markdown",
   "id": "ec59601b",
   "metadata": {},
   "source": [
    "## 1. Import Libraries"
   ]
  },
  {
   "cell_type": "code",
   "execution_count": 1,
   "id": "d48e3d32",
   "metadata": {},
   "outputs": [
    {
     "name": "stderr",
     "output_type": "stream",
     "text": [
      "2025-10-25 00:15:22.800966: I tensorflow/core/platform/cpu_feature_guard.cc:210] This TensorFlow binary is optimized to use available CPU instructions in performance-critical operations.\n",
      "To enable the following instructions: AVX2 FMA, in other operations, rebuild TensorFlow with the appropriate compiler flags.\n"
     ]
    },
    {
     "name": "stdout",
     "output_type": "stream",
     "text": [
      "TensorFlow version: 2.20.0\n",
      "Keras version: 3.11.3\n",
      "✅ GPU available: 1 GPU(s)\n",
      "   GPU: /physical_device:GPU:0\n"
     ]
    }
   ],
   "source": [
    "import os\n",
    "import sys\n",
    "import glob\n",
    "import numpy as np\n",
    "import pandas as pd\n",
    "import matplotlib.pyplot as plt\n",
    "from datetime import datetime\n",
    "\n",
    "# TensorFlow and Keras\n",
    "import tensorflow as tf\n",
    "from tensorflow import keras\n",
    "from tensorflow.keras.callbacks import ModelCheckpoint, EarlyStopping, ReduceLROnPlateau\n",
    "from tensorflow.keras.optimizers import Adam\n",
    "\n",
    "# Add src to path\n",
    "sys.path.append('../../src')\n",
    "from training.transfer_learning_utils import create_rgb_generators\n",
    "\n",
    "print(f\"TensorFlow version: {tf.__version__}\")\n",
    "print(f\"Keras version: {keras.__version__}\")\n",
    "\n",
    "# Check GPU\n",
    "gpus = tf.config.list_physical_devices('GPU')\n",
    "if gpus:\n",
    "    print(f\"✅ GPU available: {len(gpus)} GPU(s)\")\n",
    "    print(f\"   GPU: {gpus[0].name}\")\n",
    "else:\n",
    "    print(\"⚠️  No GPU - training will be much slower\")\n",
    "\n",
    "# Set seeds\n",
    "np.random.seed(42)\n",
    "tf.random.set_seed(42)"
   ]
  },
  {
   "cell_type": "markdown",
   "id": "e78c6723",
   "metadata": {},
   "source": [
    "## 2. Configuration"
   ]
  },
  {
   "cell_type": "code",
   "execution_count": 2,
   "id": "389633f4",
   "metadata": {},
   "outputs": [
    {
     "name": "stdout",
     "output_type": "stream",
     "text": [
      "Configuration:\n",
      "  Continue training for: 10 epochs\n",
      "  Initial learning rate: 1e-05\n",
      "  ResNet50 batch size: 32\n",
      "  DenseNet121 batch size: 16\n",
      "  Classes: ['glioma', 'meningioma', 'pituitary']\n"
     ]
    }
   ],
   "source": [
    "# Paths\n",
    "TRAIN_CSV = \"../../outputs/data_splits/train_split.csv\"\n",
    "VAL_CSV = \"../../outputs/data_splits/val_split.csv\"\n",
    "TEST_CSV = \"../../outputs/data_splits/test_split.csv\"\n",
    "\n",
    "MODEL_DIR = \"../../outputs/models/transfer_learning\"\n",
    "OUTPUT_DIR = \"../../outputs/models/transfer_learning_continued\"\n",
    "HISTORY_DIR = \"../../outputs/training_history/transfer_learning_continued\"\n",
    "VIZ_DIR = \"../../outputs/visualizations\"\n",
    "\n",
    "os.makedirs(OUTPUT_DIR, exist_ok=True)\n",
    "os.makedirs(HISTORY_DIR, exist_ok=True)\n",
    "os.makedirs(VIZ_DIR, exist_ok=True)\n",
    "\n",
    "# Hyperparameters\n",
    "IMG_SIZE_RESNET = (128, 128)  # ResNet50 uses 128x128 RGB\n",
    "IMG_SIZE_DENSENET = (128, 128)  # DenseNet121 uses 128x128 RGB\n",
    "BATCH_SIZE_RESNET = 32\n",
    "BATCH_SIZE_DENSENET = 16  # Lower to avoid OOM\n",
    "\n",
    "# Training parameters\n",
    "CONTINUE_EPOCHS = 10  # Additional epochs to train\n",
    "INITIAL_LR = 1e-5  # Lower than original (was 1e-4)\n",
    "MIN_LR = 1e-7  # Minimum learning rate\n",
    "\n",
    "CLASS_NAMES = ['glioma', 'meningioma', 'pituitary']\n",
    "NUM_CLASSES = len(CLASS_NAMES)\n",
    "\n",
    "print(\"Configuration:\")\n",
    "print(f\"  Continue training for: {CONTINUE_EPOCHS} epochs\")\n",
    "print(f\"  Initial learning rate: {INITIAL_LR}\")\n",
    "print(f\"  ResNet50 batch size: {BATCH_SIZE_RESNET}\")\n",
    "print(f\"  DenseNet121 batch size: {BATCH_SIZE_DENSENET}\")\n",
    "print(f\"  Classes: {CLASS_NAMES}\")"
   ]
  },
  {
   "cell_type": "markdown",
   "id": "e38f76cc",
   "metadata": {},
   "source": [
    "## 3. Load Data"
   ]
  },
  {
   "cell_type": "code",
   "execution_count": 3,
   "id": "b47c9957",
   "metadata": {},
   "outputs": [
    {
     "name": "stdout",
     "output_type": "stream",
     "text": [
      "Data loaded:\n",
      "  Train: 4863 images\n",
      "  Val:   855 images\n",
      "  Test:  1463 images\n",
      "\n",
      "Class distribution (train):\n",
      "label\n",
      "2    1915\n",
      "3    1616\n",
      "1    1332\n",
      "Name: count, dtype: int64\n"
     ]
    }
   ],
   "source": [
    "# Load CSV files\n",
    "train_df = pd.read_csv(TRAIN_CSV)\n",
    "val_df = pd.read_csv(VAL_CSV)\n",
    "test_df = pd.read_csv(TEST_CSV)\n",
    "\n",
    "# Ensure label is string\n",
    "train_df['label'] = train_df['label'].astype(str)\n",
    "val_df['label'] = val_df['label'].astype(str)\n",
    "test_df['label'] = test_df['label'].astype(str)\n",
    "\n",
    "print(\"Data loaded:\")\n",
    "print(f\"  Train: {len(train_df)} images\")\n",
    "print(f\"  Val:   {len(val_df)} images\")\n",
    "print(f\"  Test:  {len(test_df)} images\")\n",
    "print(f\"\\nClass distribution (train):\")\n",
    "print(train_df['label'].value_counts())"
   ]
  },
  {
   "cell_type": "markdown",
   "id": "48d5d730",
   "metadata": {},
   "source": [
    "## 4. Find Existing Models"
   ]
  },
  {
   "cell_type": "code",
   "execution_count": 4,
   "id": "a0ed4ca7",
   "metadata": {},
   "outputs": [
    {
     "name": "stdout",
     "output_type": "stream",
     "text": [
      "🔍 Searching for existing models...\n",
      "\n",
      "✅ Found ResNet50: resnet50_final_20251024_215511.keras\n",
      "✅ Found DenseNet121: densenet121_final_20251024_230244.keras\n"
     ]
    }
   ],
   "source": [
    "def find_latest_model(model_name, model_dir):\n",
    "    \"\"\"Find the latest model file.\"\"\"\n",
    "    pattern = os.path.join(model_dir, f\"{model_name}*.keras\")\n",
    "    files = glob.glob(pattern)\n",
    "    if not files:\n",
    "        return None\n",
    "    return max(files, key=os.path.getmtime)\n",
    "\n",
    "# Find existing models\n",
    "resnet_path = find_latest_model(\"resnet50_final\", MODEL_DIR)\n",
    "densenet_path = find_latest_model(\"densenet121_final\", MODEL_DIR)\n",
    "\n",
    "print(\"🔍 Searching for existing models...\\n\")\n",
    "\n",
    "if resnet_path:\n",
    "    print(f\"✅ Found ResNet50: {os.path.basename(resnet_path)}\")\n",
    "else:\n",
    "    raise FileNotFoundError(\"ResNet50 model not found! Train it first.\")\n",
    "\n",
    "if densenet_path:\n",
    "    print(f\"✅ Found DenseNet121: {os.path.basename(densenet_path)}\")\n",
    "else:\n",
    "    raise FileNotFoundError(\"DenseNet121 model not found! Train it first.\")"
   ]
  },
  {
   "cell_type": "markdown",
   "id": "4e8043ac",
   "metadata": {},
   "source": [
    "## 5. Continue Training ResNet50\n",
    "\n",
    "Load the existing ResNet50 model and train for 10 more epochs."
   ]
  },
  {
   "cell_type": "code",
   "execution_count": 5,
   "id": "6af71614",
   "metadata": {},
   "outputs": [
    {
     "name": "stdout",
     "output_type": "stream",
     "text": [
      "\n",
      "======================================================================\n",
      "🚀 CONTINUE TRAINING RESNET50\n",
      "======================================================================\n",
      "\n",
      "📥 Loading existing ResNet50 model...\n"
     ]
    },
    {
     "name": "stderr",
     "output_type": "stream",
     "text": [
      "WARNING: All log messages before absl::InitializeLog() is called are written to STDERR\n",
      "I0000 00:00:1761331525.312917   64161 gpu_device.cc:2020] Created device /job:localhost/replica:0/task:0/device:GPU:0 with 2614 MB memory:  -> device: 0, name: NVIDIA GeForce GTX 1650, pci bus id: 0000:01:00.0, compute capability: 7.5\n"
     ]
    },
    {
     "name": "stdout",
     "output_type": "stream",
     "text": [
      "✅ Model loaded successfully\n",
      "   Input shape: (None, 128, 128, 3)\n",
      "   Output shape: (None, 3)\n",
      "   Total parameters: 24,771,971\n",
      "\n",
      "📊 Current model performance (from training):\n",
      "   ResNet50 test accuracy: 91.87%\n",
      "   Target after continuation: 92.5-93.0%\n"
     ]
    }
   ],
   "source": [
    "print(\"\\n\" + \"=\"*70)\n",
    "print(\"🚀 CONTINUE TRAINING RESNET50\")\n",
    "print(\"=\"*70)\n",
    "\n",
    "# Load existing model\n",
    "print(\"\\n📥 Loading existing ResNet50 model...\")\n",
    "resnet_model = keras.models.load_model(resnet_path)\n",
    "print(f\"✅ Model loaded successfully\")\n",
    "print(f\"   Input shape: {resnet_model.input_shape}\")\n",
    "print(f\"   Output shape: {resnet_model.output_shape}\")\n",
    "print(f\"   Total parameters: {resnet_model.count_params():,}\")\n",
    "\n",
    "# Check current accuracy\n",
    "print(\"\\n📊 Current model performance (from training):\")\n",
    "print(\"   ResNet50 test accuracy: 91.87%\")\n",
    "print(\"   Target after continuation: 92.5-93.0%\")"
   ]
  },
  {
   "cell_type": "code",
   "execution_count": 6,
   "id": "c228929a",
   "metadata": {},
   "outputs": [
    {
     "name": "stdout",
     "output_type": "stream",
     "text": [
      "\n",
      "📂 Creating data generators for ResNet50...\n",
      "Found 4863 validated image filenames belonging to 3 classes.\n",
      "Found 855 validated image filenames belonging to 3 classes.\n",
      "Found 855 validated image filenames belonging to 3 classes.\n",
      "Found 1463 validated image filenames belonging to 3 classes.\n",
      "✅ Generators created\n",
      "   Train batches: 152\n",
      "   Val batches: 27\n",
      "   Test batches: 46\n",
      "Found 1463 validated image filenames belonging to 3 classes.\n",
      "✅ Generators created\n",
      "   Train batches: 152\n",
      "   Val batches: 27\n",
      "   Test batches: 46\n"
     ]
    }
   ],
   "source": [
    "# Create data generators for ResNet50\n",
    "print(\"\\n📂 Creating data generators for ResNet50...\")\n",
    "\n",
    "train_generator_resnet, val_generator_resnet, test_generator_resnet = create_rgb_generators(\n",
    "    train_df=train_df,\n",
    "    val_df=val_df,\n",
    "    test_df=test_df,\n",
    "    img_size=IMG_SIZE_RESNET,\n",
    "    batch_size=BATCH_SIZE_RESNET\n",
    ")\n",
    "\n",
    "print(f\"✅ Generators created\")\n",
    "print(f\"   Train batches: {len(train_generator_resnet)}\")\n",
    "print(f\"   Val batches: {len(val_generator_resnet)}\")\n",
    "print(f\"   Test batches: {len(test_generator_resnet)}\")"
   ]
  },
  {
   "cell_type": "code",
   "execution_count": 7,
   "id": "517e0ae9",
   "metadata": {},
   "outputs": [
    {
     "name": "stdout",
     "output_type": "stream",
     "text": [
      "\n",
      "⚙️  Compiling model with lower learning rate...\n",
      "✅ Model compiled with LR=1e-05\n"
     ]
    }
   ],
   "source": [
    "# Compile with lower learning rate\n",
    "print(\"\\n⚙️  Compiling model with lower learning rate...\")\n",
    "\n",
    "resnet_model.compile(\n",
    "    optimizer=Adam(learning_rate=INITIAL_LR),\n",
    "    loss='categorical_crossentropy',\n",
    "    metrics=['accuracy']\n",
    ")\n",
    "\n",
    "print(f\"✅ Model compiled with LR={INITIAL_LR}\")"
   ]
  },
  {
   "cell_type": "code",
   "execution_count": 8,
   "id": "cfde93ac",
   "metadata": {},
   "outputs": [
    {
     "name": "stdout",
     "output_type": "stream",
     "text": [
      "\n",
      "✅ Callbacks configured:\n",
      "   • ModelCheckpoint: Save best model\n",
      "   • EarlyStopping: Stop if no improvement for 5 epochs\n",
      "   • ReduceLROnPlateau: Reduce LR if validation loss plateaus\n"
     ]
    }
   ],
   "source": [
    "# Setup callbacks\n",
    "timestamp = datetime.now().strftime(\"%Y%m%d_%H%M%S\")\n",
    "resnet_checkpoint_path = os.path.join(OUTPUT_DIR, f\"resnet50_continued_{timestamp}.keras\")\n",
    "resnet_history_path = os.path.join(HISTORY_DIR, f\"resnet50_continued_history_{timestamp}.csv\")\n",
    "\n",
    "callbacks_resnet = [\n",
    "    ModelCheckpoint(\n",
    "        resnet_checkpoint_path,\n",
    "        monitor='val_accuracy',\n",
    "        save_best_only=True,\n",
    "        mode='max',\n",
    "        verbose=1\n",
    "    ),\n",
    "    EarlyStopping(\n",
    "        monitor='val_accuracy',\n",
    "        patience=5,\n",
    "        restore_best_weights=True,\n",
    "        verbose=1\n",
    "    ),\n",
    "    ReduceLROnPlateau(\n",
    "        monitor='val_loss',\n",
    "        factor=0.5,\n",
    "        patience=3,\n",
    "        min_lr=MIN_LR,\n",
    "        verbose=1\n",
    "    )\n",
    "]\n",
    "\n",
    "print(\"\\n✅ Callbacks configured:\")\n",
    "print(\"   • ModelCheckpoint: Save best model\")\n",
    "print(\"   • EarlyStopping: Stop if no improvement for 5 epochs\")\n",
    "print(\"   • ReduceLROnPlateau: Reduce LR if validation loss plateaus\")"
   ]
  },
  {
   "cell_type": "code",
   "execution_count": 9,
   "id": "b8c39138",
   "metadata": {},
   "outputs": [
    {
     "name": "stdout",
     "output_type": "stream",
     "text": [
      "\n",
      "🏋️  Starting continued training for ResNet50...\n",
      "Training for 10 additional epochs\n",
      "======================================================================\n",
      "Epoch 1/10\n",
      "Epoch 1/10\n"
     ]
    },
    {
     "name": "stderr",
     "output_type": "stream",
     "text": [
      "/projects/ai-ml/BrainTumorProject/.venv/lib/python3.11/site-packages/keras/src/trainers/data_adapters/py_dataset_adapter.py:121: UserWarning: Your `PyDataset` class should call `super().__init__(**kwargs)` in its constructor. `**kwargs` can include `workers`, `use_multiprocessing`, `max_queue_size`. Do not pass these arguments to `fit()`, as they will be ignored.\n",
      "  self._warn_if_super_not_called()\n",
      "2025-10-25 00:15:49.336126: I external/local_xla/xla/service/service.cc:163] XLA service 0x70cc280044f0 initialized for platform CUDA (this does not guarantee that XLA will be used). Devices:\n",
      "2025-10-25 00:15:49.336143: I external/local_xla/xla/service/service.cc:171]   StreamExecutor device (0): NVIDIA GeForce GTX 1650, Compute Capability 7.5\n",
      "2025-10-25 00:15:49.336126: I external/local_xla/xla/service/service.cc:163] XLA service 0x70cc280044f0 initialized for platform CUDA (this does not guarantee that XLA will be used). Devices:\n",
      "2025-10-25 00:15:49.336143: I external/local_xla/xla/service/service.cc:171]   StreamExecutor device (0): NVIDIA GeForce GTX 1650, Compute Capability 7.5\n",
      "2025-10-25 00:15:50.046449: I tensorflow/compiler/mlir/tensorflow/utils/dump_mlir_util.cc:269] disabling MLIR crash reproducer, set env var `MLIR_CRASH_REPRODUCER_DIRECTORY` to enable.\n",
      "2025-10-25 00:15:50.046449: I tensorflow/compiler/mlir/tensorflow/utils/dump_mlir_util.cc:269] disabling MLIR crash reproducer, set env var `MLIR_CRASH_REPRODUCER_DIRECTORY` to enable.\n",
      "2025-10-25 00:15:53.547491: I external/local_xla/xla/stream_executor/cuda/cuda_dnn.cc:473] Loaded cuDNN version 91400\n",
      "2025-10-25 00:15:53.547491: I external/local_xla/xla/stream_executor/cuda/cuda_dnn.cc:473] Loaded cuDNN version 91400\n",
      "2025-10-25 00:15:55.436465: I external/local_xla/xla/service/gpu/autotuning/conv_algorithm_picker.cc:546] Omitted potentially buggy algorithm eng14{k25=2} for conv (f32[32,64,32,32]{3,2,1,0}, u8[0]{0}) custom-call(f32[32,64,32,32]{3,2,1,0}, f32[64,64,3,3]{3,2,1,0}, f32[64]{0}), window={size=3x3 pad=1_1x1_1}, dim_labels=bf01_oi01->bf01, custom_call_target=\"__cudnn$convBiasActivationForward\", backend_config={\"operation_queue_id\":\"0\",\"wait_on_operation_queues\":[],\"cudnn_conv_backend_config\":{\"activation_mode\":\"kNone\",\"conv_result_scale\":1,\"side_input_scale\":0,\"leakyrelu_alpha\":0},\"force_earliest_schedule\":false,\"reification_cost\":[]}\n",
      "2025-10-25 00:15:55.436465: I external/local_xla/xla/service/gpu/autotuning/conv_algorithm_picker.cc:546] Omitted potentially buggy algorithm eng14{k25=2} for conv (f32[32,64,32,32]{3,2,1,0}, u8[0]{0}) custom-call(f32[32,64,32,32]{3,2,1,0}, f32[64,64,3,3]{3,2,1,0}, f32[64]{0}), window={size=3x3 pad=1_1x1_1}, dim_labels=bf01_oi01->bf01, custom_call_target=\"__cudnn$convBiasActivationForward\", backend_config={\"operation_queue_id\":\"0\",\"wait_on_operation_queues\":[],\"cudnn_conv_backend_config\":{\"activation_mode\":\"kNone\",\"conv_result_scale\":1,\"side_input_scale\":0,\"leakyrelu_alpha\":0},\"force_earliest_schedule\":false,\"reification_cost\":[]}\n",
      "2025-10-25 00:15:55.784699: I external/local_xla/xla/service/gpu/autotuning/conv_algorithm_picker.cc:546] Omitted potentially buggy algorithm eng14{k25=2} for conv (f32[32,128,16,16]{3,2,1,0}, u8[0]{0}) custom-call(f32[32,128,16,16]{3,2,1,0}, f32[128,128,3,3]{3,2,1,0}, f32[128]{0}), window={size=3x3 pad=1_1x1_1}, dim_labels=bf01_oi01->bf01, custom_call_target=\"__cudnn$convBiasActivationForward\", backend_config={\"operation_queue_id\":\"0\",\"wait_on_operation_queues\":[],\"cudnn_conv_backend_config\":{\"activation_mode\":\"kNone\",\"conv_result_scale\":1,\"side_input_scale\":0,\"leakyrelu_alpha\":0},\"force_earliest_schedule\":false,\"reification_cost\":[]}\n",
      "2025-10-25 00:15:55.784699: I external/local_xla/xla/service/gpu/autotuning/conv_algorithm_picker.cc:546] Omitted potentially buggy algorithm eng14{k25=2} for conv (f32[32,128,16,16]{3,2,1,0}, u8[0]{0}) custom-call(f32[32,128,16,16]{3,2,1,0}, f32[128,128,3,3]{3,2,1,0}, f32[128]{0}), window={size=3x3 pad=1_1x1_1}, dim_labels=bf01_oi01->bf01, custom_call_target=\"__cudnn$convBiasActivationForward\", backend_config={\"operation_queue_id\":\"0\",\"wait_on_operation_queues\":[],\"cudnn_conv_backend_config\":{\"activation_mode\":\"kNone\",\"conv_result_scale\":1,\"side_input_scale\":0,\"leakyrelu_alpha\":0},\"force_earliest_schedule\":false,\"reification_cost\":[]}\n",
      "2025-10-25 00:15:56.160573: I external/local_xla/xla/service/gpu/autotuning/conv_algorithm_picker.cc:546] Omitted potentially buggy algorithm eng14{k25=2} for conv (f32[32,256,8,8]{3,2,1,0}, u8[0]{0}) custom-call(f32[32,256,8,8]{3,2,1,0}, f32[256,256,3,3]{3,2,1,0}, f32[256]{0}), window={size=3x3 pad=1_1x1_1}, dim_labels=bf01_oi01->bf01, custom_call_target=\"__cudnn$convBiasActivationForward\", backend_config={\"operation_queue_id\":\"0\",\"wait_on_operation_queues\":[],\"cudnn_conv_backend_config\":{\"activation_mode\":\"kNone\",\"conv_result_scale\":1,\"side_input_scale\":0,\"leakyrelu_alpha\":0},\"force_earliest_schedule\":false,\"reification_cost\":[]}\n",
      "2025-10-25 00:15:56.160573: I external/local_xla/xla/service/gpu/autotuning/conv_algorithm_picker.cc:546] Omitted potentially buggy algorithm eng14{k25=2} for conv (f32[32,256,8,8]{3,2,1,0}, u8[0]{0}) custom-call(f32[32,256,8,8]{3,2,1,0}, f32[256,256,3,3]{3,2,1,0}, f32[256]{0}), window={size=3x3 pad=1_1x1_1}, dim_labels=bf01_oi01->bf01, custom_call_target=\"__cudnn$convBiasActivationForward\", backend_config={\"operation_queue_id\":\"0\",\"wait_on_operation_queues\":[],\"cudnn_conv_backend_config\":{\"activation_mode\":\"kNone\",\"conv_result_scale\":1,\"side_input_scale\":0,\"leakyrelu_alpha\":0},\"force_earliest_schedule\":false,\"reification_cost\":[]}\n",
      "2025-10-25 00:15:56.561892: I external/local_xla/xla/service/gpu/autotuning/conv_algorithm_picker.cc:546] Omitted potentially buggy algorithm eng14{k25=2} for conv (f32[32,512,4,4]{3,2,1,0}, u8[0]{0}) custom-call(f32[32,512,4,4]{3,2,1,0}, f32[512,512,3,3]{3,2,1,0}, f32[512]{0}), window={size=3x3 pad=1_1x1_1}, dim_labels=bf01_oi01->bf01, custom_call_target=\"__cudnn$convBiasActivationForward\", backend_config={\"operation_queue_id\":\"0\",\"wait_on_operation_queues\":[],\"cudnn_conv_backend_config\":{\"activation_mode\":\"kNone\",\"conv_result_scale\":1,\"side_input_scale\":0,\"leakyrelu_alpha\":0},\"force_earliest_schedule\":false,\"reification_cost\":[]}\n",
      "2025-10-25 00:15:56.561892: I external/local_xla/xla/service/gpu/autotuning/conv_algorithm_picker.cc:546] Omitted potentially buggy algorithm eng14{k25=2} for conv (f32[32,512,4,4]{3,2,1,0}, u8[0]{0}) custom-call(f32[32,512,4,4]{3,2,1,0}, f32[512,512,3,3]{3,2,1,0}, f32[512]{0}), window={size=3x3 pad=1_1x1_1}, dim_labels=bf01_oi01->bf01, custom_call_target=\"__cudnn$convBiasActivationForward\", backend_config={\"operation_queue_id\":\"0\",\"wait_on_operation_queues\":[],\"cudnn_conv_backend_config\":{\"activation_mode\":\"kNone\",\"conv_result_scale\":1,\"side_input_scale\":0,\"leakyrelu_alpha\":0},\"force_earliest_schedule\":false,\"reification_cost\":[]}\n",
      "2025-10-25 00:16:00.734891: W external/local_xla/xla/tsl/framework/bfc_allocator.cc:310] Allocator (GPU_0_bfc) ran out of memory trying to allocate 2.27GiB with freed_by_count=0. The caller indicates that this is not a failure, but this may mean that there could be performance gains if more memory were available.\n",
      "2025-10-25 00:16:00.734891: W external/local_xla/xla/tsl/framework/bfc_allocator.cc:310] Allocator (GPU_0_bfc) ran out of memory trying to allocate 2.27GiB with freed_by_count=0. The caller indicates that this is not a failure, but this may mean that there could be performance gains if more memory were available.\n",
      "2025-10-25 00:16:00.961988: W external/local_xla/xla/tsl/framework/bfc_allocator.cc:310] Allocator (GPU_0_bfc) ran out of memory trying to allocate 2.27GiB with freed_by_count=0. The caller indicates that this is not a failure, but this may mean that there could be performance gains if more memory were available.\n",
      "2025-10-25 00:16:00.961988: W external/local_xla/xla/tsl/framework/bfc_allocator.cc:310] Allocator (GPU_0_bfc) ran out of memory trying to allocate 2.27GiB with freed_by_count=0. The caller indicates that this is not a failure, but this may mean that there could be performance gains if more memory were available.\n",
      "I0000 00:00:1761331570.012935   64334 device_compiler.h:196] Compiled cluster using XLA!  This line is logged at most once for the lifetime of the process.\n",
      "I0000 00:00:1761331570.012935   64334 device_compiler.h:196] Compiled cluster using XLA!  This line is logged at most once for the lifetime of the process.\n"
     ]
    },
    {
     "name": "stdout",
     "output_type": "stream",
     "text": [
      "\u001b[1m  2/152\u001b[0m \u001b[37m━━━━━━━━━━━━━━━━━━━━\u001b[0m \u001b[1m32s\u001b[0m 218ms/step - accuracy: 0.9453 - loss: 0.1629  "
     ]
    },
    {
     "name": "stderr",
     "output_type": "stream",
     "text": [
      "2025-10-25 00:16:15.308372: I external/local_xla/xla/service/gpu/autotuning/conv_algorithm_picker.cc:546] Omitted potentially buggy algorithm eng14{k25=2} for conv (f32[31,64,32,32]{3,2,1,0}, u8[0]{0}) custom-call(f32[31,64,32,32]{3,2,1,0}, f32[64,64,3,3]{3,2,1,0}, f32[64]{0}), window={size=3x3 pad=1_1x1_1}, dim_labels=bf01_oi01->bf01, custom_call_target=\"__cudnn$convBiasActivationForward\", backend_config={\"operation_queue_id\":\"0\",\"wait_on_operation_queues\":[],\"cudnn_conv_backend_config\":{\"activation_mode\":\"kNone\",\"conv_result_scale\":1,\"side_input_scale\":0,\"leakyrelu_alpha\":0},\"force_earliest_schedule\":false,\"reification_cost\":[]}\n",
      "2025-10-25 00:16:15.654231: I external/local_xla/xla/service/gpu/autotuning/conv_algorithm_picker.cc:546] Omitted potentially buggy algorithm eng14{k25=2} for conv (f32[31,128,16,16]{3,2,1,0}, u8[0]{0}) custom-call(f32[31,128,16,16]{3,2,1,0}, f32[128,128,3,3]{3,2,1,0}, f32[128]{0}), window={size=3x3 pad=1_1x1_1}, dim_labels=bf01_oi01->bf01, custom_call_target=\"__cudnn$convBiasActivationForward\", backend_config={\"operation_queue_id\":\"0\",\"wait_on_operation_queues\":[],\"cudnn_conv_backend_config\":{\"activation_mode\":\"kNone\",\"conv_result_scale\":1,\"side_input_scale\":0,\"leakyrelu_alpha\":0},\"force_earliest_schedule\":false,\"reification_cost\":[]}\n",
      "2025-10-25 00:16:15.654231: I external/local_xla/xla/service/gpu/autotuning/conv_algorithm_picker.cc:546] Omitted potentially buggy algorithm eng14{k25=2} for conv (f32[31,128,16,16]{3,2,1,0}, u8[0]{0}) custom-call(f32[31,128,16,16]{3,2,1,0}, f32[128,128,3,3]{3,2,1,0}, f32[128]{0}), window={size=3x3 pad=1_1x1_1}, dim_labels=bf01_oi01->bf01, custom_call_target=\"__cudnn$convBiasActivationForward\", backend_config={\"operation_queue_id\":\"0\",\"wait_on_operation_queues\":[],\"cudnn_conv_backend_config\":{\"activation_mode\":\"kNone\",\"conv_result_scale\":1,\"side_input_scale\":0,\"leakyrelu_alpha\":0},\"force_earliest_schedule\":false,\"reification_cost\":[]}\n",
      "2025-10-25 00:16:16.031291: I external/local_xla/xla/service/gpu/autotuning/conv_algorithm_picker.cc:546] Omitted potentially buggy algorithm eng14{k25=2} for conv (f32[31,256,8,8]{3,2,1,0}, u8[0]{0}) custom-call(f32[31,256,8,8]{3,2,1,0}, f32[256,256,3,3]{3,2,1,0}, f32[256]{0}), window={size=3x3 pad=1_1x1_1}, dim_labels=bf01_oi01->bf01, custom_call_target=\"__cudnn$convBiasActivationForward\", backend_config={\"operation_queue_id\":\"0\",\"wait_on_operation_queues\":[],\"cudnn_conv_backend_config\":{\"activation_mode\":\"kNone\",\"conv_result_scale\":1,\"side_input_scale\":0,\"leakyrelu_alpha\":0},\"force_earliest_schedule\":false,\"reification_cost\":[]}\n",
      "2025-10-25 00:16:16.031291: I external/local_xla/xla/service/gpu/autotuning/conv_algorithm_picker.cc:546] Omitted potentially buggy algorithm eng14{k25=2} for conv (f32[31,256,8,8]{3,2,1,0}, u8[0]{0}) custom-call(f32[31,256,8,8]{3,2,1,0}, f32[256,256,3,3]{3,2,1,0}, f32[256]{0}), window={size=3x3 pad=1_1x1_1}, dim_labels=bf01_oi01->bf01, custom_call_target=\"__cudnn$convBiasActivationForward\", backend_config={\"operation_queue_id\":\"0\",\"wait_on_operation_queues\":[],\"cudnn_conv_backend_config\":{\"activation_mode\":\"kNone\",\"conv_result_scale\":1,\"side_input_scale\":0,\"leakyrelu_alpha\":0},\"force_earliest_schedule\":false,\"reification_cost\":[]}\n",
      "2025-10-25 00:16:16.423670: I external/local_xla/xla/service/gpu/autotuning/conv_algorithm_picker.cc:546] Omitted potentially buggy algorithm eng14{k25=2} for conv (f32[31,512,4,4]{3,2,1,0}, u8[0]{0}) custom-call(f32[31,512,4,4]{3,2,1,0}, f32[512,512,3,3]{3,2,1,0}, f32[512]{0}), window={size=3x3 pad=1_1x1_1}, dim_labels=bf01_oi01->bf01, custom_call_target=\"__cudnn$convBiasActivationForward\", backend_config={\"operation_queue_id\":\"0\",\"wait_on_operation_queues\":[],\"cudnn_conv_backend_config\":{\"activation_mode\":\"kNone\",\"conv_result_scale\":1,\"side_input_scale\":0,\"leakyrelu_alpha\":0},\"force_earliest_schedule\":false,\"reification_cost\":[]}\n",
      "2025-10-25 00:16:16.423670: I external/local_xla/xla/service/gpu/autotuning/conv_algorithm_picker.cc:546] Omitted potentially buggy algorithm eng14{k25=2} for conv (f32[31,512,4,4]{3,2,1,0}, u8[0]{0}) custom-call(f32[31,512,4,4]{3,2,1,0}, f32[512,512,3,3]{3,2,1,0}, f32[512]{0}), window={size=3x3 pad=1_1x1_1}, dim_labels=bf01_oi01->bf01, custom_call_target=\"__cudnn$convBiasActivationForward\", backend_config={\"operation_queue_id\":\"0\",\"wait_on_operation_queues\":[],\"cudnn_conv_backend_config\":{\"activation_mode\":\"kNone\",\"conv_result_scale\":1,\"side_input_scale\":0,\"leakyrelu_alpha\":0},\"force_earliest_schedule\":false,\"reification_cost\":[]}\n",
      "2025-10-25 00:16:20.501246: W external/local_xla/xla/tsl/framework/bfc_allocator.cc:310] Allocator (GPU_0_bfc) ran out of memory trying to allocate 2.27GiB with freed_by_count=0. The caller indicates that this is not a failure, but this may mean that there could be performance gains if more memory were available.\n",
      "2025-10-25 00:16:20.501246: W external/local_xla/xla/tsl/framework/bfc_allocator.cc:310] Allocator (GPU_0_bfc) ran out of memory trying to allocate 2.27GiB with freed_by_count=0. The caller indicates that this is not a failure, but this may mean that there could be performance gains if more memory were available.\n",
      "2025-10-25 00:16:20.721968: W external/local_xla/xla/tsl/framework/bfc_allocator.cc:310] Allocator (GPU_0_bfc) ran out of memory trying to allocate 2.27GiB with freed_by_count=0. The caller indicates that this is not a failure, but this may mean that there could be performance gains if more memory were available.\n",
      "2025-10-25 00:16:20.721968: W external/local_xla/xla/tsl/framework/bfc_allocator.cc:310] Allocator (GPU_0_bfc) ran out of memory trying to allocate 2.27GiB with freed_by_count=0. The caller indicates that this is not a failure, but this may mean that there could be performance gains if more memory were available.\n"
     ]
    },
    {
     "name": "stdout",
     "output_type": "stream",
     "text": [
      "\u001b[1m152/152\u001b[0m \u001b[32m━━━━━━━━━━━━━━━━━━━━\u001b[0m\u001b[37m\u001b[0m \u001b[1m0s\u001b[0m 352ms/step - accuracy: 0.9581 - loss: 0.1233"
     ]
    },
    {
     "name": "stderr",
     "output_type": "stream",
     "text": [
      "2025-10-25 00:17:08.158864: I external/local_xla/xla/service/gpu/autotuning/conv_algorithm_picker.cc:546] Omitted potentially buggy algorithm eng14{k25=2} for conv (f32[23,64,32,32]{3,2,1,0}, u8[0]{0}) custom-call(f32[23,64,32,32]{3,2,1,0}, f32[64,64,3,3]{3,2,1,0}, f32[64]{0}), window={size=3x3 pad=1_1x1_1}, dim_labels=bf01_oi01->bf01, custom_call_target=\"__cudnn$convBiasActivationForward\", backend_config={\"operation_queue_id\":\"0\",\"wait_on_operation_queues\":[],\"cudnn_conv_backend_config\":{\"activation_mode\":\"kNone\",\"conv_result_scale\":1,\"side_input_scale\":0,\"leakyrelu_alpha\":0},\"force_earliest_schedule\":false,\"reification_cost\":[]}\n",
      "2025-10-25 00:17:08.450566: I external/local_xla/xla/service/gpu/autotuning/conv_algorithm_picker.cc:546] Omitted potentially buggy algorithm eng14{k25=2} for conv (f32[23,128,16,16]{3,2,1,0}, u8[0]{0}) custom-call(f32[23,128,16,16]{3,2,1,0}, f32[128,128,3,3]{3,2,1,0}, f32[128]{0}), window={size=3x3 pad=1_1x1_1}, dim_labels=bf01_oi01->bf01, custom_call_target=\"__cudnn$convBiasActivationForward\", backend_config={\"operation_queue_id\":\"0\",\"wait_on_operation_queues\":[],\"cudnn_conv_backend_config\":{\"activation_mode\":\"kNone\",\"conv_result_scale\":1,\"side_input_scale\":0,\"leakyrelu_alpha\":0},\"force_earliest_schedule\":false,\"reification_cost\":[]}\n",
      "2025-10-25 00:17:08.450566: I external/local_xla/xla/service/gpu/autotuning/conv_algorithm_picker.cc:546] Omitted potentially buggy algorithm eng14{k25=2} for conv (f32[23,128,16,16]{3,2,1,0}, u8[0]{0}) custom-call(f32[23,128,16,16]{3,2,1,0}, f32[128,128,3,3]{3,2,1,0}, f32[128]{0}), window={size=3x3 pad=1_1x1_1}, dim_labels=bf01_oi01->bf01, custom_call_target=\"__cudnn$convBiasActivationForward\", backend_config={\"operation_queue_id\":\"0\",\"wait_on_operation_queues\":[],\"cudnn_conv_backend_config\":{\"activation_mode\":\"kNone\",\"conv_result_scale\":1,\"side_input_scale\":0,\"leakyrelu_alpha\":0},\"force_earliest_schedule\":false,\"reification_cost\":[]}\n",
      "2025-10-25 00:17:08.779565: I external/local_xla/xla/service/gpu/autotuning/conv_algorithm_picker.cc:546] Omitted potentially buggy algorithm eng14{k25=2} for conv (f32[23,256,8,8]{3,2,1,0}, u8[0]{0}) custom-call(f32[23,256,8,8]{3,2,1,0}, f32[256,256,3,3]{3,2,1,0}, f32[256]{0}), window={size=3x3 pad=1_1x1_1}, dim_labels=bf01_oi01->bf01, custom_call_target=\"__cudnn$convBiasActivationForward\", backend_config={\"operation_queue_id\":\"0\",\"wait_on_operation_queues\":[],\"cudnn_conv_backend_config\":{\"activation_mode\":\"kNone\",\"conv_result_scale\":1,\"side_input_scale\":0,\"leakyrelu_alpha\":0},\"force_earliest_schedule\":false,\"reification_cost\":[]}\n",
      "2025-10-25 00:17:08.779565: I external/local_xla/xla/service/gpu/autotuning/conv_algorithm_picker.cc:546] Omitted potentially buggy algorithm eng14{k25=2} for conv (f32[23,256,8,8]{3,2,1,0}, u8[0]{0}) custom-call(f32[23,256,8,8]{3,2,1,0}, f32[256,256,3,3]{3,2,1,0}, f32[256]{0}), window={size=3x3 pad=1_1x1_1}, dim_labels=bf01_oi01->bf01, custom_call_target=\"__cudnn$convBiasActivationForward\", backend_config={\"operation_queue_id\":\"0\",\"wait_on_operation_queues\":[],\"cudnn_conv_backend_config\":{\"activation_mode\":\"kNone\",\"conv_result_scale\":1,\"side_input_scale\":0,\"leakyrelu_alpha\":0},\"force_earliest_schedule\":false,\"reification_cost\":[]}\n",
      "2025-10-25 00:17:09.126232: I external/local_xla/xla/service/gpu/autotuning/conv_algorithm_picker.cc:546] Omitted potentially buggy algorithm eng14{k25=2} for conv (f32[23,512,4,4]{3,2,1,0}, u8[0]{0}) custom-call(f32[23,512,4,4]{3,2,1,0}, f32[512,512,3,3]{3,2,1,0}, f32[512]{0}), window={size=3x3 pad=1_1x1_1}, dim_labels=bf01_oi01->bf01, custom_call_target=\"__cudnn$convBiasActivationForward\", backend_config={\"operation_queue_id\":\"0\",\"wait_on_operation_queues\":[],\"cudnn_conv_backend_config\":{\"activation_mode\":\"kNone\",\"conv_result_scale\":1,\"side_input_scale\":0,\"leakyrelu_alpha\":0},\"force_earliest_schedule\":false,\"reification_cost\":[]}\n",
      "2025-10-25 00:17:09.126232: I external/local_xla/xla/service/gpu/autotuning/conv_algorithm_picker.cc:546] Omitted potentially buggy algorithm eng14{k25=2} for conv (f32[23,512,4,4]{3,2,1,0}, u8[0]{0}) custom-call(f32[23,512,4,4]{3,2,1,0}, f32[512,512,3,3]{3,2,1,0}, f32[512]{0}), window={size=3x3 pad=1_1x1_1}, dim_labels=bf01_oi01->bf01, custom_call_target=\"__cudnn$convBiasActivationForward\", backend_config={\"operation_queue_id\":\"0\",\"wait_on_operation_queues\":[],\"cudnn_conv_backend_config\":{\"activation_mode\":\"kNone\",\"conv_result_scale\":1,\"side_input_scale\":0,\"leakyrelu_alpha\":0},\"force_earliest_schedule\":false,\"reification_cost\":[]}\n"
     ]
    },
    {
     "name": "stdout",
     "output_type": "stream",
     "text": [
      "\n",
      "Epoch 1: val_accuracy improved from None to 0.91696, saving model to ../../outputs/models/transfer_learning_continued/resnet50_continued_20251025_001527.keras\n",
      "\u001b[1m152/152\u001b[0m \u001b[32m━━━━━━━━━━━━━━━━━━━━\u001b[0m\u001b[37m\u001b[0m \u001b[1m104s\u001b[0m 407ms/step - accuracy: 0.9506 - loss: 0.1349 - val_accuracy: 0.9170 - val_loss: 0.2311 - learning_rate: 1.0000e-05\n",
      "Epoch 2/10\n",
      "\u001b[1m152/152\u001b[0m \u001b[32m━━━━━━━━━━━━━━━━━━━━\u001b[0m\u001b[37m\u001b[0m \u001b[1m104s\u001b[0m 407ms/step - accuracy: 0.9506 - loss: 0.1349 - val_accuracy: 0.9170 - val_loss: 0.2311 - learning_rate: 1.0000e-05\n",
      "Epoch 2/10\n",
      "\u001b[1m152/152\u001b[0m \u001b[32m━━━━━━━━━━━━━━━━━━━━\u001b[0m\u001b[37m\u001b[0m \u001b[1m0s\u001b[0m 217ms/step - accuracy: 0.9652 - loss: 0.1022\n",
      "Epoch 2: val_accuracy improved from 0.91696 to 0.92865, saving model to ../../outputs/models/transfer_learning_continued/resnet50_continued_20251025_001527.keras\n",
      "\n",
      "Epoch 2: val_accuracy improved from 0.91696 to 0.92865, saving model to ../../outputs/models/transfer_learning_continued/resnet50_continued_20251025_001527.keras\n",
      "\u001b[1m152/152\u001b[0m \u001b[32m━━━━━━━━━━━━━━━━━━━━\u001b[0m\u001b[37m\u001b[0m \u001b[1m36s\u001b[0m 239ms/step - accuracy: 0.9599 - loss: 0.1109 - val_accuracy: 0.9287 - val_loss: 0.2154 - learning_rate: 1.0000e-05\n",
      "Epoch 3/10\n",
      "\u001b[1m152/152\u001b[0m \u001b[32m━━━━━━━━━━━━━━━━━━━━\u001b[0m\u001b[37m\u001b[0m \u001b[1m36s\u001b[0m 239ms/step - accuracy: 0.9599 - loss: 0.1109 - val_accuracy: 0.9287 - val_loss: 0.2154 - learning_rate: 1.0000e-05\n",
      "Epoch 3/10\n",
      "\u001b[1m152/152\u001b[0m \u001b[32m━━━━━━━━━━━━━━━━━━━━\u001b[0m\u001b[37m\u001b[0m \u001b[1m0s\u001b[0m 217ms/step - accuracy: 0.9572 - loss: 0.1143\n",
      "Epoch 3: val_accuracy improved from 0.92865 to 0.92982, saving model to ../../outputs/models/transfer_learning_continued/resnet50_continued_20251025_001527.keras\n",
      "\n",
      "Epoch 3: val_accuracy improved from 0.92865 to 0.92982, saving model to ../../outputs/models/transfer_learning_continued/resnet50_continued_20251025_001527.keras\n",
      "\u001b[1m152/152\u001b[0m \u001b[32m━━━━━━━━━━━━━━━━━━━━\u001b[0m\u001b[37m\u001b[0m \u001b[1m36s\u001b[0m 239ms/step - accuracy: 0.9611 - loss: 0.1080 - val_accuracy: 0.9298 - val_loss: 0.2109 - learning_rate: 1.0000e-05\n",
      "Epoch 4/10\n",
      "\u001b[1m152/152\u001b[0m \u001b[32m━━━━━━━━━━━━━━━━━━━━\u001b[0m\u001b[37m\u001b[0m \u001b[1m36s\u001b[0m 239ms/step - accuracy: 0.9611 - loss: 0.1080 - val_accuracy: 0.9298 - val_loss: 0.2109 - learning_rate: 1.0000e-05\n",
      "Epoch 4/10\n",
      "\u001b[1m152/152\u001b[0m \u001b[32m━━━━━━━━━━━━━━━━━━━━\u001b[0m\u001b[37m\u001b[0m \u001b[1m0s\u001b[0m 217ms/step - accuracy: 0.9671 - loss: 0.1077\n",
      "Epoch 4: val_accuracy did not improve from 0.92982\n",
      "\u001b[1m152/152\u001b[0m \u001b[32m━━━━━━━━━━━━━━━━━━━━\u001b[0m\u001b[37m\u001b[0m \u001b[1m35s\u001b[0m 227ms/step - accuracy: 0.9650 - loss: 0.1021 - val_accuracy: 0.9240 - val_loss: 0.2265 - learning_rate: 1.0000e-05\n",
      "Epoch 5/10\n",
      "\n",
      "Epoch 4: val_accuracy did not improve from 0.92982\n",
      "\u001b[1m152/152\u001b[0m \u001b[32m━━━━━━━━━━━━━━━━━━━━\u001b[0m\u001b[37m\u001b[0m \u001b[1m35s\u001b[0m 227ms/step - accuracy: 0.9650 - loss: 0.1021 - val_accuracy: 0.9240 - val_loss: 0.2265 - learning_rate: 1.0000e-05\n",
      "Epoch 5/10\n",
      "\u001b[1m152/152\u001b[0m \u001b[32m━━━━━━━━━━━━━━━━━━━━\u001b[0m\u001b[37m\u001b[0m \u001b[1m0s\u001b[0m 217ms/step - accuracy: 0.9762 - loss: 0.0879\n",
      "Epoch 5: val_accuracy did not improve from 0.92982\n",
      "\u001b[1m152/152\u001b[0m \u001b[32m━━━━━━━━━━━━━━━━━━━━\u001b[0m\u001b[37m\u001b[0m \u001b[1m35s\u001b[0m 227ms/step - accuracy: 0.9714 - loss: 0.0911 - val_accuracy: 0.9228 - val_loss: 0.2213 - learning_rate: 1.0000e-05\n",
      "Epoch 6/10\n",
      "\n",
      "Epoch 5: val_accuracy did not improve from 0.92982\n",
      "\u001b[1m152/152\u001b[0m \u001b[32m━━━━━━━━━━━━━━━━━━━━\u001b[0m\u001b[37m\u001b[0m \u001b[1m35s\u001b[0m 227ms/step - accuracy: 0.9714 - loss: 0.0911 - val_accuracy: 0.9228 - val_loss: 0.2213 - learning_rate: 1.0000e-05\n",
      "Epoch 6/10\n",
      "\u001b[1m152/152\u001b[0m \u001b[32m━━━━━━━━━━━━━━━━━━━━\u001b[0m\u001b[37m\u001b[0m \u001b[1m0s\u001b[0m 217ms/step - accuracy: 0.9711 - loss: 0.0812\n",
      "Epoch 6: val_accuracy improved from 0.92982 to 0.94035, saving model to ../../outputs/models/transfer_learning_continued/resnet50_continued_20251025_001527.keras\n",
      "\n",
      "Epoch 6: val_accuracy improved from 0.92982 to 0.94035, saving model to ../../outputs/models/transfer_learning_continued/resnet50_continued_20251025_001527.keras\n",
      "\u001b[1m152/152\u001b[0m \u001b[32m━━━━━━━━━━━━━━━━━━━━\u001b[0m\u001b[37m\u001b[0m \u001b[1m37s\u001b[0m 240ms/step - accuracy: 0.9729 - loss: 0.0823 - val_accuracy: 0.9404 - val_loss: 0.1837 - learning_rate: 1.0000e-05\n",
      "Epoch 7/10\n",
      "\u001b[1m152/152\u001b[0m \u001b[32m━━━━━━━━━━━━━━━━━━━━\u001b[0m\u001b[37m\u001b[0m \u001b[1m37s\u001b[0m 240ms/step - accuracy: 0.9729 - loss: 0.0823 - val_accuracy: 0.9404 - val_loss: 0.1837 - learning_rate: 1.0000e-05\n",
      "Epoch 7/10\n",
      "\u001b[1m152/152\u001b[0m \u001b[32m━━━━━━━━━━━━━━━━━━━━\u001b[0m\u001b[37m\u001b[0m \u001b[1m0s\u001b[0m 217ms/step - accuracy: 0.9719 - loss: 0.0805\n",
      "Epoch 7: val_accuracy did not improve from 0.94035\n",
      "\u001b[1m152/152\u001b[0m \u001b[32m━━━━━━━━━━━━━━━━━━━━\u001b[0m\u001b[37m\u001b[0m \u001b[1m35s\u001b[0m 227ms/step - accuracy: 0.9718 - loss: 0.0780 - val_accuracy: 0.9251 - val_loss: 0.2017 - learning_rate: 1.0000e-05\n",
      "Epoch 8/10\n",
      "\n",
      "Epoch 7: val_accuracy did not improve from 0.94035\n",
      "\u001b[1m152/152\u001b[0m \u001b[32m━━━━━━━━━━━━━━━━━━━━\u001b[0m\u001b[37m\u001b[0m \u001b[1m35s\u001b[0m 227ms/step - accuracy: 0.9718 - loss: 0.0780 - val_accuracy: 0.9251 - val_loss: 0.2017 - learning_rate: 1.0000e-05\n",
      "Epoch 8/10\n",
      "\u001b[1m152/152\u001b[0m \u001b[32m━━━━━━━━━━━━━━━━━━━━\u001b[0m\u001b[37m\u001b[0m \u001b[1m0s\u001b[0m 217ms/step - accuracy: 0.9703 - loss: 0.0760\n",
      "Epoch 8: val_accuracy did not improve from 0.94035\n",
      "\u001b[1m152/152\u001b[0m \u001b[32m━━━━━━━━━━━━━━━━━━━━\u001b[0m\u001b[37m\u001b[0m \u001b[1m35s\u001b[0m 227ms/step - accuracy: 0.9741 - loss: 0.0757 - val_accuracy: 0.9298 - val_loss: 0.2110 - learning_rate: 1.0000e-05\n",
      "Epoch 9/10\n",
      "\n",
      "Epoch 8: val_accuracy did not improve from 0.94035\n",
      "\u001b[1m152/152\u001b[0m \u001b[32m━━━━━━━━━━━━━━━━━━━━\u001b[0m\u001b[37m\u001b[0m \u001b[1m35s\u001b[0m 227ms/step - accuracy: 0.9741 - loss: 0.0757 - val_accuracy: 0.9298 - val_loss: 0.2110 - learning_rate: 1.0000e-05\n",
      "Epoch 9/10\n",
      "\u001b[1m152/152\u001b[0m \u001b[32m━━━━━━━━━━━━━━━━━━━━\u001b[0m\u001b[37m\u001b[0m \u001b[1m0s\u001b[0m 217ms/step - accuracy: 0.9751 - loss: 0.0788\n",
      "Epoch 9: val_accuracy did not improve from 0.94035\n",
      "\n",
      "Epoch 9: ReduceLROnPlateau reducing learning rate to 4.999999873689376e-06.\n",
      "\u001b[1m152/152\u001b[0m \u001b[32m━━━━━━━━━━━━━━━━━━━━\u001b[0m\u001b[37m\u001b[0m \u001b[1m35s\u001b[0m 227ms/step - accuracy: 0.9761 - loss: 0.0720 - val_accuracy: 0.9368 - val_loss: 0.1906 - learning_rate: 1.0000e-05\n",
      "Epoch 10/10\n",
      "\n",
      "Epoch 9: val_accuracy did not improve from 0.94035\n",
      "\n",
      "Epoch 9: ReduceLROnPlateau reducing learning rate to 4.999999873689376e-06.\n",
      "\u001b[1m152/152\u001b[0m \u001b[32m━━━━━━━━━━━━━━━━━━━━\u001b[0m\u001b[37m\u001b[0m \u001b[1m35s\u001b[0m 227ms/step - accuracy: 0.9761 - loss: 0.0720 - val_accuracy: 0.9368 - val_loss: 0.1906 - learning_rate: 1.0000e-05\n",
      "Epoch 10/10\n",
      "\u001b[1m152/152\u001b[0m \u001b[32m━━━━━━━━━━━━━━━━━━━━\u001b[0m\u001b[37m\u001b[0m \u001b[1m0s\u001b[0m 217ms/step - accuracy: 0.9778 - loss: 0.0641\n",
      "Epoch 10: val_accuracy did not improve from 0.94035\n",
      "\u001b[1m152/152\u001b[0m \u001b[32m━━━━━━━━━━━━━━━━━━━━\u001b[0m\u001b[37m\u001b[0m \u001b[1m35s\u001b[0m 227ms/step - accuracy: 0.9766 - loss: 0.0683 - val_accuracy: 0.9333 - val_loss: 0.1897 - learning_rate: 5.0000e-06\n",
      "Restoring model weights from the end of the best epoch: 6.\n",
      "\n",
      "Epoch 10: val_accuracy did not improve from 0.94035\n",
      "\u001b[1m152/152\u001b[0m \u001b[32m━━━━━━━━━━━━━━━━━━━━\u001b[0m\u001b[37m\u001b[0m \u001b[1m35s\u001b[0m 227ms/step - accuracy: 0.9766 - loss: 0.0683 - val_accuracy: 0.9333 - val_loss: 0.1897 - learning_rate: 5.0000e-06\n",
      "Restoring model weights from the end of the best epoch: 6.\n",
      "\n",
      "✅ ResNet50 continued training complete!\n",
      "\n",
      "✅ ResNet50 continued training complete!\n"
     ]
    }
   ],
   "source": [
    "# Continue training\n",
    "print(\"\\n🏋️  Starting continued training for ResNet50...\")\n",
    "print(f\"Training for {CONTINUE_EPOCHS} additional epochs\")\n",
    "print(\"=\"*70)\n",
    "\n",
    "history_resnet = resnet_model.fit(\n",
    "    train_generator_resnet,\n",
    "    validation_data=val_generator_resnet,\n",
    "    epochs=CONTINUE_EPOCHS,\n",
    "    callbacks=callbacks_resnet,\n",
    "    verbose=1\n",
    ")\n",
    "\n",
    "print(\"\\n✅ ResNet50 continued training complete!\")"
   ]
  },
  {
   "cell_type": "code",
   "execution_count": 10,
   "id": "2416e2d1",
   "metadata": {},
   "outputs": [
    {
     "name": "stdout",
     "output_type": "stream",
     "text": [
      "\n",
      "📊 Evaluating ResNet50 on test set...\n",
      "\n",
      "======================================================================\n",
      "📊 RESNET50 CONTINUED TRAINING RESULTS\n",
      "======================================================================\n",
      "  Original Test Accuracy: 91.87%\n",
      "  New Test Accuracy:      0.9221 (92.21%)\n",
      "  Improvement:            +0.34%\n",
      "  Test Loss:              0.2467\n",
      "======================================================================\n",
      "\n",
      "🎉 SUCCESS! ResNet50 improved with continued training!\n",
      "\n",
      "======================================================================\n",
      "📊 RESNET50 CONTINUED TRAINING RESULTS\n",
      "======================================================================\n",
      "  Original Test Accuracy: 91.87%\n",
      "  New Test Accuracy:      0.9221 (92.21%)\n",
      "  Improvement:            +0.34%\n",
      "  Test Loss:              0.2467\n",
      "======================================================================\n",
      "\n",
      "🎉 SUCCESS! ResNet50 improved with continued training!\n"
     ]
    }
   ],
   "source": [
    "# Evaluate on test set\n",
    "print(\"\\n📊 Evaluating ResNet50 on test set...\")\n",
    "\n",
    "test_loss_resnet, test_acc_resnet = resnet_model.evaluate(test_generator_resnet, verbose=0)\n",
    "\n",
    "print(f\"\\n{'='*70}\")\n",
    "print(f\"📊 RESNET50 CONTINUED TRAINING RESULTS\")\n",
    "print(f\"{'='*70}\")\n",
    "print(f\"  Original Test Accuracy: 91.87%\")\n",
    "print(f\"  New Test Accuracy:      {test_acc_resnet:.4f} ({test_acc_resnet*100:.2f}%)\")\n",
    "print(f\"  Improvement:            {(test_acc_resnet - 0.9187)*100:+.2f}%\")\n",
    "print(f\"  Test Loss:              {test_loss_resnet:.4f}\")\n",
    "print(f\"{'='*70}\")\n",
    "\n",
    "if test_acc_resnet > 0.9187:\n",
    "    print(\"\\n🎉 SUCCESS! ResNet50 improved with continued training!\")\n",
    "else:\n",
    "    print(\"\\n📊 ResNet50 did not improve significantly. Original model may be near optimal.\")"
   ]
  },
  {
   "cell_type": "code",
   "execution_count": 11,
   "id": "5d97649a",
   "metadata": {},
   "outputs": [
    {
     "name": "stdout",
     "output_type": "stream",
     "text": [
      "\n",
      "✅ Training history saved to: ../../outputs/training_history/transfer_learning_continued/resnet50_continued_history_20251025_001527.csv\n",
      "✅ Training plot saved to: ../../outputs/visualizations/resnet50_continued_training_20251025_001527.png\n",
      "✅ Training plot saved to: ../../outputs/visualizations/resnet50_continued_training_20251025_001527.png\n"
     ]
    },
    {
     "data": {
      "image/png": "[encoded data removed]",
      "text/plain": [
       "<Figure size 1500x500 with 2 Axes>"
      ]
     },
     "metadata": {},
     "output_type": "display_data"
    }
   ],
   "source": [
    "# Save training history\n",
    "history_df_resnet = pd.DataFrame(history_resnet.history)\n",
    "history_df_resnet.to_csv(resnet_history_path, index=False)\n",
    "print(f\"\\n✅ Training history saved to: {resnet_history_path}\")\n",
    "\n",
    "# Plot training curves\n",
    "fig, (ax1, ax2) = plt.subplots(1, 2, figsize=(15, 5))\n",
    "\n",
    "# Accuracy\n",
    "ax1.plot(history_df_resnet['accuracy'], label='Train Accuracy', marker='o')\n",
    "ax1.plot(history_df_resnet['val_accuracy'], label='Val Accuracy', marker='s')\n",
    "ax1.set_title('ResNet50 Continued Training - Accuracy', fontsize=12, fontweight='bold')\n",
    "ax1.set_xlabel('Epoch')\n",
    "ax1.set_ylabel('Accuracy')\n",
    "ax1.legend()\n",
    "ax1.grid(alpha=0.3)\n",
    "\n",
    "# Loss\n",
    "ax2.plot(history_df_resnet['loss'], label='Train Loss', marker='o')\n",
    "ax2.plot(history_df_resnet['val_loss'], label='Val Loss', marker='s')\n",
    "ax2.set_title('ResNet50 Continued Training - Loss', fontsize=12, fontweight='bold')\n",
    "ax2.set_xlabel('Epoch')\n",
    "ax2.set_ylabel('Loss')\n",
    "ax2.legend()\n",
    "ax2.grid(alpha=0.3)\n",
    "\n",
    "plt.tight_layout()\n",
    "plot_path = os.path.join(VIZ_DIR, f\"resnet50_continued_training_{timestamp}.png\")\n",
    "plt.savefig(plot_path, dpi=300, bbox_inches='tight')\n",
    "print(f\"✅ Training plot saved to: {plot_path}\")\n",
    "plt.show()"
   ]
  },
  {
   "cell_type": "markdown",
   "id": "17e977a7",
   "metadata": {},
   "source": [
    "## 6. Continue Training DenseNet121\n",
    "\n",
    "Load the existing DenseNet121 model and train for 10 more epochs."
   ]
  },
  {
   "cell_type": "code",
   "execution_count": 12,
   "id": "2527a7dc",
   "metadata": {},
   "outputs": [
    {
     "name": "stdout",
     "output_type": "stream",
     "text": [
      "\n",
      "======================================================================\n",
      "🚀 CONTINUE TRAINING DENSENET121\n",
      "======================================================================\n",
      "\n",
      "📥 Loading existing DenseNet121 model...\n",
      "✅ Model loaded successfully\n",
      "   Input shape: (None, 128, 128, 3)\n",
      "   Output shape: (None, 3)\n",
      "   Total parameters: 7,697,475\n",
      "\n",
      "📊 Current model performance (from training):\n",
      "   DenseNet121 test accuracy: 88.24%\n",
      "   Target after continuation: 89.0-90.0%\n",
      "✅ Model loaded successfully\n",
      "   Input shape: (None, 128, 128, 3)\n",
      "   Output shape: (None, 3)\n",
      "   Total parameters: 7,697,475\n",
      "\n",
      "📊 Current model performance (from training):\n",
      "   DenseNet121 test accuracy: 88.24%\n",
      "   Target after continuation: 89.0-90.0%\n"
     ]
    }
   ],
   "source": [
    "print(\"\\n\" + \"=\"*70)\n",
    "print(\"🚀 CONTINUE TRAINING DENSENET121\")\n",
    "print(\"=\"*70)\n",
    "\n",
    "# Load existing model\n",
    "print(\"\\n📥 Loading existing DenseNet121 model...\")\n",
    "densenet_model = keras.models.load_model(densenet_path)\n",
    "print(f\"✅ Model loaded successfully\")\n",
    "print(f\"   Input shape: {densenet_model.input_shape}\")\n",
    "print(f\"   Output shape: {densenet_model.output_shape}\")\n",
    "print(f\"   Total parameters: {densenet_model.count_params():,}\")\n",
    "\n",
    "# Check current accuracy\n",
    "print(\"\\n📊 Current model performance (from training):\")\n",
    "print(\"   DenseNet121 test accuracy: 88.24%\")\n",
    "print(\"   Target after continuation: 89.0-90.0%\")"
   ]
  },
  {
   "cell_type": "code",
   "execution_count": 13,
   "id": "e3cc3ed9",
   "metadata": {},
   "outputs": [
    {
     "name": "stdout",
     "output_type": "stream",
     "text": [
      "\n",
      "📂 Creating data generators for DenseNet121...\n",
      "Found 4863 validated image filenames belonging to 3 classes.\n",
      "Found 855 validated image filenames belonging to 3 classes.\n",
      "Found 855 validated image filenames belonging to 3 classes.\n",
      "Found 1463 validated image filenames belonging to 3 classes.\n",
      "✅ Generators created\n",
      "   Train batches: 304\n",
      "   Val batches: 54\n",
      "   Test batches: 92\n",
      "   Note: Using batch size 16 to avoid OOM\n",
      "Found 1463 validated image filenames belonging to 3 classes.\n",
      "✅ Generators created\n",
      "   Train batches: 304\n",
      "   Val batches: 54\n",
      "   Test batches: 92\n",
      "   Note: Using batch size 16 to avoid OOM\n"
     ]
    }
   ],
   "source": [
    "# Create data generators for DenseNet121\n",
    "print(\"\\n📂 Creating data generators for DenseNet121...\")\n",
    "\n",
    "train_generator_densenet, val_generator_densenet, test_generator_densenet = create_rgb_generators(\n",
    "    train_df=train_df,\n",
    "    val_df=val_df,\n",
    "    test_df=test_df,\n",
    "    img_size=IMG_SIZE_DENSENET,\n",
    "    batch_size=BATCH_SIZE_DENSENET  # Lower batch size for DenseNet\n",
    ")\n",
    "\n",
    "print(f\"✅ Generators created\")\n",
    "print(f\"   Train batches: {len(train_generator_densenet)}\")\n",
    "print(f\"   Val batches: {len(val_generator_densenet)}\")\n",
    "print(f\"   Test batches: {len(test_generator_densenet)}\")\n",
    "print(f\"   Note: Using batch size {BATCH_SIZE_DENSENET} to avoid OOM\")"
   ]
  },
  {
   "cell_type": "code",
   "execution_count": 14,
   "id": "c1bd1daa",
   "metadata": {},
   "outputs": [
    {
     "name": "stdout",
     "output_type": "stream",
     "text": [
      "\n",
      "⚙️  Compiling model with lower learning rate...\n",
      "✅ Model compiled with LR=1e-05\n"
     ]
    }
   ],
   "source": [
    "# Compile with lower learning rate\n",
    "print(\"\\n⚙️  Compiling model with lower learning rate...\")\n",
    "\n",
    "densenet_model.compile(\n",
    "    optimizer=Adam(learning_rate=INITIAL_LR),\n",
    "    loss='categorical_crossentropy',\n",
    "    metrics=['accuracy']\n",
    ")\n",
    "\n",
    "print(f\"✅ Model compiled with LR={INITIAL_LR}\")"
   ]
  },
  {
   "cell_type": "code",
   "execution_count": 15,
   "id": "21223917",
   "metadata": {},
   "outputs": [
    {
     "name": "stdout",
     "output_type": "stream",
     "text": [
      "\n",
      "✅ Callbacks configured:\n",
      "   • ModelCheckpoint: Save best model\n",
      "   • EarlyStopping: Stop if no improvement for 5 epochs\n",
      "   • ReduceLROnPlateau: Reduce LR if validation loss plateaus\n"
     ]
    }
   ],
   "source": [
    "# Setup callbacks\n",
    "timestamp = datetime.now().strftime(\"%Y%m%d_%H%M%S\")\n",
    "densenet_checkpoint_path = os.path.join(OUTPUT_DIR, f\"densenet121_continued_{timestamp}.keras\")\n",
    "densenet_history_path = os.path.join(HISTORY_DIR, f\"densenet121_continued_history_{timestamp}.csv\")\n",
    "\n",
    "callbacks_densenet = [\n",
    "    ModelCheckpoint(\n",
    "        densenet_checkpoint_path,\n",
    "        monitor='val_accuracy',\n",
    "        save_best_only=True,\n",
    "        mode='max',\n",
    "        verbose=1\n",
    "    ),\n",
    "    EarlyStopping(\n",
    "        monitor='val_accuracy',\n",
    "        patience=5,\n",
    "        restore_best_weights=True,\n",
    "        verbose=1\n",
    "    ),\n",
    "    ReduceLROnPlateau(\n",
    "        monitor='val_loss',\n",
    "        factor=0.5,\n",
    "        patience=3,\n",
    "        min_lr=MIN_LR,\n",
    "        verbose=1\n",
    "    )\n",
    "]\n",
    "\n",
    "print(\"\\n✅ Callbacks configured:\")\n",
    "print(\"   • ModelCheckpoint: Save best model\")\n",
    "print(\"   • EarlyStopping: Stop if no improvement for 5 epochs\")\n",
    "print(\"   • ReduceLROnPlateau: Reduce LR if validation loss plateaus\")"
   ]
  },
  {
   "cell_type": "code",
   "execution_count": 16,
   "id": "b2c67cd5",
   "metadata": {},
   "outputs": [
    {
     "name": "stdout",
     "output_type": "stream",
     "text": [
      "\n",
      "🏋️  Starting continued training for DenseNet121...\n",
      "Training for 10 additional epochs\n",
      "======================================================================\n",
      "Epoch 1/10\n"
     ]
    },
    {
     "name": "stderr",
     "output_type": "stream",
     "text": [
      "/projects/ai-ml/BrainTumorProject/.venv/lib/python3.11/site-packages/keras/src/trainers/data_adapters/py_dataset_adapter.py:121: UserWarning: Your `PyDataset` class should call `super().__init__(**kwargs)` in its constructor. `**kwargs` can include `workers`, `use_multiprocessing`, `max_queue_size`. Do not pass these arguments to `fit()`, as they will be ignored.\n",
      "  self._warn_if_super_not_called()\n"
     ]
    },
    {
     "name": "stdout",
     "output_type": "stream",
     "text": [
      "\u001b[1m304/304\u001b[0m \u001b[32m━━━━━━━━━━━━━━━━━━━━\u001b[0m\u001b[37m\u001b[0m \u001b[1m0s\u001b[0m 310ms/step - accuracy: 0.8984 - loss: 0.2665\n",
      "Epoch 1: val_accuracy improved from None to 0.91345, saving model to ../../outputs/models/transfer_learning_continued/densenet121_continued_20251025_002235.keras\n",
      "\n",
      "Epoch 1: val_accuracy improved from None to 0.91345, saving model to ../../outputs/models/transfer_learning_continued/densenet121_continued_20251025_002235.keras\n",
      "\u001b[1m304/304\u001b[0m \u001b[32m━━━━━━━━━━━━━━━━━━━━\u001b[0m\u001b[37m\u001b[0m \u001b[1m223s\u001b[0m 376ms/step - accuracy: 0.8933 - loss: 0.2696 - val_accuracy: 0.9135 - val_loss: 0.2420 - learning_rate: 1.0000e-05\n",
      "Epoch 2/10\n",
      "\u001b[1m304/304\u001b[0m \u001b[32m━━━━━━━━━━━━━━━━━━━━\u001b[0m\u001b[37m\u001b[0m \u001b[1m223s\u001b[0m 376ms/step - accuracy: 0.8933 - loss: 0.2696 - val_accuracy: 0.9135 - val_loss: 0.2420 - learning_rate: 1.0000e-05\n",
      "Epoch 2/10\n",
      "\u001b[1m304/304\u001b[0m \u001b[32m━━━━━━━━━━━━━━━━━━━━\u001b[0m\u001b[37m\u001b[0m \u001b[1m0s\u001b[0m 89ms/step - accuracy: 0.8939 - loss: 0.2635\n",
      "Epoch 2: val_accuracy did not improve from 0.91345\n",
      "\u001b[1m304/304\u001b[0m \u001b[32m━━━━━━━━━━━━━━━━━━━━\u001b[0m\u001b[37m\u001b[0m \u001b[1m29s\u001b[0m 94ms/step - accuracy: 0.9031 - loss: 0.2495 - val_accuracy: 0.9123 - val_loss: 0.2336 - learning_rate: 1.0000e-05\n",
      "Epoch 3/10\n",
      "\n",
      "Epoch 2: val_accuracy did not improve from 0.91345\n",
      "\u001b[1m304/304\u001b[0m \u001b[32m━━━━━━━━━━━━━━━━━━━━\u001b[0m\u001b[37m\u001b[0m \u001b[1m29s\u001b[0m 94ms/step - accuracy: 0.9031 - loss: 0.2495 - val_accuracy: 0.9123 - val_loss: 0.2336 - learning_rate: 1.0000e-05\n",
      "Epoch 3/10\n",
      "\u001b[1m304/304\u001b[0m \u001b[32m━━━━━━━━━━━━━━━━━━━━\u001b[0m\u001b[37m\u001b[0m \u001b[1m0s\u001b[0m 89ms/step - accuracy: 0.9120 - loss: 0.2342\n",
      "Epoch 3: val_accuracy improved from 0.91345 to 0.91930, saving model to ../../outputs/models/transfer_learning_continued/densenet121_continued_20251025_002235.keras\n",
      "\n",
      "Epoch 3: val_accuracy improved from 0.91345 to 0.91930, saving model to ../../outputs/models/transfer_learning_continued/densenet121_continued_20251025_002235.keras\n",
      "\u001b[1m304/304\u001b[0m \u001b[32m━━━━━━━━━━━━━━━━━━━━\u001b[0m\u001b[37m\u001b[0m \u001b[1m33s\u001b[0m 107ms/step - accuracy: 0.9110 - loss: 0.2377 - val_accuracy: 0.9193 - val_loss: 0.2206 - learning_rate: 1.0000e-05\n",
      "Epoch 4/10\n",
      "\u001b[1m304/304\u001b[0m \u001b[32m━━━━━━━━━━━━━━━━━━━━\u001b[0m\u001b[37m\u001b[0m \u001b[1m33s\u001b[0m 107ms/step - accuracy: 0.9110 - loss: 0.2377 - val_accuracy: 0.9193 - val_loss: 0.2206 - learning_rate: 1.0000e-05\n",
      "Epoch 4/10\n",
      "\u001b[1m304/304\u001b[0m \u001b[32m━━━━━━━━━━━━━━━━━━━━\u001b[0m\u001b[37m\u001b[0m \u001b[1m0s\u001b[0m 89ms/step - accuracy: 0.8989 - loss: 0.2485\n",
      "Epoch 4: val_accuracy improved from 0.91930 to 0.92281, saving model to ../../outputs/models/transfer_learning_continued/densenet121_continued_20251025_002235.keras\n",
      "\n",
      "Epoch 4: val_accuracy improved from 0.91930 to 0.92281, saving model to ../../outputs/models/transfer_learning_continued/densenet121_continued_20251025_002235.keras\n",
      "\u001b[1m304/304\u001b[0m \u001b[32m━━━━━━━━━━━━━━━━━━━━\u001b[0m\u001b[37m\u001b[0m \u001b[1m30s\u001b[0m 99ms/step - accuracy: 0.9112 - loss: 0.2332 - val_accuracy: 0.9228 - val_loss: 0.2148 - learning_rate: 1.0000e-05\n",
      "Epoch 5/10\n",
      "\u001b[1m304/304\u001b[0m \u001b[32m━━━━━━━━━━━━━━━━━━━━\u001b[0m\u001b[37m\u001b[0m \u001b[1m30s\u001b[0m 99ms/step - accuracy: 0.9112 - loss: 0.2332 - val_accuracy: 0.9228 - val_loss: 0.2148 - learning_rate: 1.0000e-05\n",
      "Epoch 5/10\n",
      "\u001b[1m304/304\u001b[0m \u001b[32m━━━━━━━━━━━━━━━━━━━━\u001b[0m\u001b[37m\u001b[0m \u001b[1m0s\u001b[0m 89ms/step - accuracy: 0.9229 - loss: 0.2110\n",
      "Epoch 5: val_accuracy improved from 0.92281 to 0.92632, saving model to ../../outputs/models/transfer_learning_continued/densenet121_continued_20251025_002235.keras\n",
      "\n",
      "Epoch 5: val_accuracy improved from 0.92281 to 0.92632, saving model to ../../outputs/models/transfer_learning_continued/densenet121_continued_20251025_002235.keras\n",
      "\u001b[1m304/304\u001b[0m \u001b[32m━━━━━━━━━━━━━━━━━━━━\u001b[0m\u001b[37m\u001b[0m \u001b[1m30s\u001b[0m 100ms/step - accuracy: 0.9192 - loss: 0.2140 - val_accuracy: 0.9263 - val_loss: 0.1982 - learning_rate: 1.0000e-05\n",
      "Epoch 6/10\n",
      "\u001b[1m304/304\u001b[0m \u001b[32m━━━━━━━━━━━━━━━━━━━━\u001b[0m\u001b[37m\u001b[0m \u001b[1m30s\u001b[0m 100ms/step - accuracy: 0.9192 - loss: 0.2140 - val_accuracy: 0.9263 - val_loss: 0.1982 - learning_rate: 1.0000e-05\n",
      "Epoch 6/10\n",
      "\u001b[1m304/304\u001b[0m \u001b[32m━━━━━━━━━━━━━━━━━━━━\u001b[0m\u001b[37m\u001b[0m \u001b[1m0s\u001b[0m 89ms/step - accuracy: 0.9258 - loss: 0.2023\n",
      "Epoch 6: val_accuracy improved from 0.92632 to 0.93333, saving model to ../../outputs/models/transfer_learning_continued/densenet121_continued_20251025_002235.keras\n",
      "\n",
      "Epoch 6: val_accuracy improved from 0.92632 to 0.93333, saving model to ../../outputs/models/transfer_learning_continued/densenet121_continued_20251025_002235.keras\n",
      "\u001b[1m304/304\u001b[0m \u001b[32m━━━━━━━━━━━━━━━━━━━━\u001b[0m\u001b[37m\u001b[0m \u001b[1m30s\u001b[0m 99ms/step - accuracy: 0.9262 - loss: 0.2016 - val_accuracy: 0.9333 - val_loss: 0.1892 - learning_rate: 1.0000e-05\n",
      "Epoch 7/10\n",
      "\u001b[1m304/304\u001b[0m \u001b[32m━━━━━━━━━━━━━━━━━━━━\u001b[0m\u001b[37m\u001b[0m \u001b[1m30s\u001b[0m 99ms/step - accuracy: 0.9262 - loss: 0.2016 - val_accuracy: 0.9333 - val_loss: 0.1892 - learning_rate: 1.0000e-05\n",
      "Epoch 7/10\n",
      "\u001b[1m304/304\u001b[0m \u001b[32m━━━━━━━━━━━━━━━━━━━━\u001b[0m\u001b[37m\u001b[0m \u001b[1m0s\u001b[0m 90ms/step - accuracy: 0.9310 - loss: 0.1835\n",
      "Epoch 7: val_accuracy did not improve from 0.93333\n",
      "\u001b[1m304/304\u001b[0m \u001b[32m━━━━━━━━━━━━━━━━━━━━\u001b[0m\u001b[37m\u001b[0m \u001b[1m29s\u001b[0m 95ms/step - accuracy: 0.9293 - loss: 0.1903 - val_accuracy: 0.9333 - val_loss: 0.1929 - learning_rate: 1.0000e-05\n",
      "Epoch 8/10\n",
      "\n",
      "Epoch 7: val_accuracy did not improve from 0.93333\n",
      "\u001b[1m304/304\u001b[0m \u001b[32m━━━━━━━━━━━━━━━━━━━━\u001b[0m\u001b[37m\u001b[0m \u001b[1m29s\u001b[0m 95ms/step - accuracy: 0.9293 - loss: 0.1903 - val_accuracy: 0.9333 - val_loss: 0.1929 - learning_rate: 1.0000e-05\n",
      "Epoch 8/10\n",
      "\u001b[1m304/304\u001b[0m \u001b[32m━━━━━━━━━━━━━━━━━━━━\u001b[0m\u001b[37m\u001b[0m \u001b[1m0s\u001b[0m 89ms/step - accuracy: 0.9318 - loss: 0.1952\n",
      "Epoch 8: val_accuracy did not improve from 0.93333\n",
      "\u001b[1m304/304\u001b[0m \u001b[32m━━━━━━━━━━━━━━━━━━━━\u001b[0m\u001b[37m\u001b[0m \u001b[1m29s\u001b[0m 95ms/step - accuracy: 0.9338 - loss: 0.1877 - val_accuracy: 0.9310 - val_loss: 0.1846 - learning_rate: 1.0000e-05\n",
      "Epoch 9/10\n",
      "\n",
      "Epoch 8: val_accuracy did not improve from 0.93333\n",
      "\u001b[1m304/304\u001b[0m \u001b[32m━━━━━━━━━━━━━━━━━━━━\u001b[0m\u001b[37m\u001b[0m \u001b[1m29s\u001b[0m 95ms/step - accuracy: 0.9338 - loss: 0.1877 - val_accuracy: 0.9310 - val_loss: 0.1846 - learning_rate: 1.0000e-05\n",
      "Epoch 9/10\n",
      "\u001b[1m304/304\u001b[0m \u001b[32m━━━━━━━━━━━━━━━━━━━━\u001b[0m\u001b[37m\u001b[0m \u001b[1m0s\u001b[0m 90ms/step - accuracy: 0.9337 - loss: 0.1761\n",
      "Epoch 9: val_accuracy improved from 0.93333 to 0.93918, saving model to ../../outputs/models/transfer_learning_continued/densenet121_continued_20251025_002235.keras\n",
      "\n",
      "Epoch 9: val_accuracy improved from 0.93333 to 0.93918, saving model to ../../outputs/models/transfer_learning_continued/densenet121_continued_20251025_002235.keras\n",
      "\u001b[1m304/304\u001b[0m \u001b[32m━━━━━━━━━━━━━━━━━━━━\u001b[0m\u001b[37m\u001b[0m \u001b[1m30s\u001b[0m 100ms/step - accuracy: 0.9323 - loss: 0.1773 - val_accuracy: 0.9392 - val_loss: 0.1794 - learning_rate: 1.0000e-05\n",
      "Epoch 10/10\n",
      "\u001b[1m304/304\u001b[0m \u001b[32m━━━━━━━━━━━━━━━━━━━━\u001b[0m\u001b[37m\u001b[0m \u001b[1m30s\u001b[0m 100ms/step - accuracy: 0.9323 - loss: 0.1773 - val_accuracy: 0.9392 - val_loss: 0.1794 - learning_rate: 1.0000e-05\n",
      "Epoch 10/10\n",
      "\u001b[1m304/304\u001b[0m \u001b[32m━━━━━━━━━━━━━━━━━━━━\u001b[0m\u001b[37m\u001b[0m \u001b[1m0s\u001b[0m 90ms/step - accuracy: 0.9522 - loss: 0.1458\n",
      "Epoch 10: val_accuracy improved from 0.93918 to 0.94035, saving model to ../../outputs/models/transfer_learning_continued/densenet121_continued_20251025_002235.keras\n",
      "\n",
      "Epoch 10: val_accuracy improved from 0.93918 to 0.94035, saving model to ../../outputs/models/transfer_learning_continued/densenet121_continued_20251025_002235.keras\n",
      "\u001b[1m304/304\u001b[0m \u001b[32m━━━━━━━━━━━━━━━━━━━━\u001b[0m\u001b[37m\u001b[0m \u001b[1m31s\u001b[0m 103ms/step - accuracy: 0.9432 - loss: 0.1587 - val_accuracy: 0.9404 - val_loss: 0.1636 - learning_rate: 1.0000e-05\n",
      "Restoring model weights from the end of the best epoch: 10.\n",
      "\u001b[1m304/304\u001b[0m \u001b[32m━━━━━━━━━━━━━━━━━━━━\u001b[0m\u001b[37m\u001b[0m \u001b[1m31s\u001b[0m 103ms/step - accuracy: 0.9432 - loss: 0.1587 - val_accuracy: 0.9404 - val_loss: 0.1636 - learning_rate: 1.0000e-05\n",
      "Restoring model weights from the end of the best epoch: 10.\n",
      "\n",
      "✅ DenseNet121 continued training complete!\n",
      "\n",
      "✅ DenseNet121 continued training complete!\n"
     ]
    }
   ],
   "source": [
    "# Continue training\n",
    "print(\"\\n🏋️  Starting continued training for DenseNet121...\")\n",
    "print(f\"Training for {CONTINUE_EPOCHS} additional epochs\")\n",
    "print(\"=\"*70)\n",
    "\n",
    "history_densenet = densenet_model.fit(\n",
    "    train_generator_densenet,\n",
    "    validation_data=val_generator_densenet,\n",
    "    epochs=CONTINUE_EPOCHS,\n",
    "    callbacks=callbacks_densenet,\n",
    "    verbose=1\n",
    ")\n",
    "\n",
    "print(\"\\n✅ DenseNet121 continued training complete!\")"
   ]
  },
  {
   "cell_type": "code",
   "execution_count": 17,
   "id": "2f515748",
   "metadata": {},
   "outputs": [
    {
     "name": "stdout",
     "output_type": "stream",
     "text": [
      "\n",
      "📊 Evaluating DenseNet121 on test set...\n",
      "\n",
      "======================================================================\n",
      "📊 DENSENET121 CONTINUED TRAINING RESULTS\n",
      "======================================================================\n",
      "  Original Test Accuracy: 88.24%\n",
      "  New Test Accuracy:      0.9364 (93.64%)\n",
      "  Improvement:            +5.40%\n",
      "  Test Loss:              0.1987\n",
      "======================================================================\n",
      "\n",
      "🎉 SUCCESS! DenseNet121 improved with continued training!\n",
      "\n",
      "======================================================================\n",
      "📊 DENSENET121 CONTINUED TRAINING RESULTS\n",
      "======================================================================\n",
      "  Original Test Accuracy: 88.24%\n",
      "  New Test Accuracy:      0.9364 (93.64%)\n",
      "  Improvement:            +5.40%\n",
      "  Test Loss:              0.1987\n",
      "======================================================================\n",
      "\n",
      "🎉 SUCCESS! DenseNet121 improved with continued training!\n"
     ]
    }
   ],
   "source": [
    "# Evaluate on test set\n",
    "print(\"\\n📊 Evaluating DenseNet121 on test set...\")\n",
    "\n",
    "test_loss_densenet, test_acc_densenet = densenet_model.evaluate(test_generator_densenet, verbose=0)\n",
    "\n",
    "print(f\"\\n{'='*70}\")\n",
    "print(f\"📊 DENSENET121 CONTINUED TRAINING RESULTS\")\n",
    "print(f\"{'='*70}\")\n",
    "print(f\"  Original Test Accuracy: 88.24%\")\n",
    "print(f\"  New Test Accuracy:      {test_acc_densenet:.4f} ({test_acc_densenet*100:.2f}%)\")\n",
    "print(f\"  Improvement:            {(test_acc_densenet - 0.8824)*100:+.2f}%\")\n",
    "print(f\"  Test Loss:              {test_loss_densenet:.4f}\")\n",
    "print(f\"{'='*70}\")\n",
    "\n",
    "if test_acc_densenet > 0.8824:\n",
    "    print(\"\\n🎉 SUCCESS! DenseNet121 improved with continued training!\")\n",
    "else:\n",
    "    print(\"\\n📊 DenseNet121 did not improve significantly. Original model may be near optimal.\")"
   ]
  },
  {
   "cell_type": "code",
   "execution_count": 18,
   "id": "444b5101",
   "metadata": {},
   "outputs": [
    {
     "name": "stdout",
     "output_type": "stream",
     "text": [
      "\n",
      "✅ Training history saved to: ../../outputs/training_history/transfer_learning_continued/densenet121_continued_history_20251025_002235.csv\n",
      "✅ Training plot saved to: ../../outputs/visualizations/densenet121_continued_training_20251025_002235.png\n",
      "✅ Training plot saved to: ../../outputs/visualizations/densenet121_continued_training_20251025_002235.png\n"
     ]
    },
    {
     "data": {
      "image/png": "[encoded data removed]",
      "text/plain": [
       "<Figure size 1500x500 with 2 Axes>"
      ]
     },
     "metadata": {},
     "output_type": "display_data"
    }
   ],
   "source": [
    "# Save training history\n",
    "history_df_densenet = pd.DataFrame(history_densenet.history)\n",
    "history_df_densenet.to_csv(densenet_history_path, index=False)\n",
    "print(f\"\\n✅ Training history saved to: {densenet_history_path}\")\n",
    "\n",
    "# Plot training curves\n",
    "fig, (ax1, ax2) = plt.subplots(1, 2, figsize=(15, 5))\n",
    "\n",
    "# Accuracy\n",
    "ax1.plot(history_df_densenet['accuracy'], label='Train Accuracy', marker='o')\n",
    "ax1.plot(history_df_densenet['val_accuracy'], label='Val Accuracy', marker='s')\n",
    "ax1.set_title('DenseNet121 Continued Training - Accuracy', fontsize=12, fontweight='bold')\n",
    "ax1.set_xlabel('Epoch')\n",
    "ax1.set_ylabel('Accuracy')\n",
    "ax1.legend()\n",
    "ax1.grid(alpha=0.3)\n",
    "\n",
    "# Loss\n",
    "ax2.plot(history_df_densenet['loss'], label='Train Loss', marker='o')\n",
    "ax2.plot(history_df_densenet['val_loss'], label='Val Loss', marker='s')\n",
    "ax2.set_title('DenseNet121 Continued Training - Loss', fontsize=12, fontweight='bold')\n",
    "ax2.set_xlabel('Epoch')\n",
    "ax2.set_ylabel('Loss')\n",
    "ax2.legend()\n",
    "ax2.grid(alpha=0.3)\n",
    "\n",
    "plt.tight_layout()\n",
    "plot_path = os.path.join(VIZ_DIR, f\"densenet121_continued_training_{timestamp}.png\")\n",
    "plt.savefig(plot_path, dpi=300, bbox_inches='tight')\n",
    "print(f\"✅ Training plot saved to: {plot_path}\")\n",
    "plt.show()"
   ]
  },
  {
   "cell_type": "markdown",
   "id": "2cf2f69d",
   "metadata": {},
   "source": [
    "## 7. Summary and Next Steps"
   ]
  },
  {
   "cell_type": "code",
   "execution_count": null,
   "id": "586c43df",
   "metadata": {},
   "outputs": [
    {
     "name": "stdout",
     "output_type": "stream",
     "text": [
      "\n",
      "======================================================================\n",
      "🎉 CONTINUED TRAINING COMPLETE!\n",
      "======================================================================\n",
      "\n",
      "📊 Results Summary:\n",
      "\n",
      "ResNet50:\n",
      "  Original:  91.87%\n",
      "  New:       92.21%\n",
      "  Change:    +0.34%\n",
      "\n",
      "DenseNet121:\n",
      "  Original:  88.24%\n",
      "  New:       93.64%\n",
      "  Change:    +5.40%\n",
      "\n",
      "Estimated Ensemble (simple average):\n",
      "  92.93%\n",
      "\n",
      "Estimated with Aggressive TTA:\n",
      "  94.02%\n",
      "\n",
      "📁 Saved Models:\n",
      "  ResNet50:    ../../outputs/models/transfer_learning_continued/resnet50_continued_20251025_001527.keras\n",
      "  DenseNet121: ../../outputs/models/transfer_learning_continued/densenet121_continued_20251025_002235.keras\n",
      "\n",
      "📁 Training Histories:\n",
      "  ResNet50:    ../../outputs/training_history/transfer_learning_continued/resnet50_continued_history_20251025_001527.csv\n",
      "  DenseNet121: ../../outputs/training_history/transfer_learning_continued/densenet121_continued_history_20251025_002235.csv\n",
      "\n",
      "🎯 Next Steps:\n",
      "  1. Go back to day4_advanced_04_ensemble.ipynb\n",
      "  2. Update model paths to use the new continued models\n",
      "  3. Re-run Section 7 (Get Individual Model Predictions)\n",
      "  4. Re-run Section 9.6 (Top Models Ensemble)\n",
      "  5. Re-run Section 9.8 (Aggressive TTA)\n",
      "  6. Check if you've hit 95%! 🎯\n",
      "\n",
      "🎯🎯 ESTIMATED 94%+ ACCURACY!\n",
      "     Very close to 95% - re-run ensemble to confirm!\n",
      "\n",
      "======================================================================\n",
      "🏆 Great work! Models have been improved!\n",
      "======================================================================\n"
     ]
    },
    {
     "ename": "",
     "evalue": "",
     "output_type": "error",
     "traceback": [
      "\u001b[1;31mThe Kernel crashed while executing code in the current cell or a previous cell. \n",
      "\u001b[1;31mPlease review the code in the cell(s) to identify a possible cause of the failure. \n",
      "\u001b[1;31mClick <a href='https://aka.ms/vscodeJupyterKernelCrash'>here</a> for more info. \n",
      "\u001b[1;31mView Jupyter <a href='command:jupyter.viewOutput'>log</a> for further details."
     ]
    }
   ],
   "source": [
    "print(\"\\n\" + \"=\"*70)\n",
    "print(\"🎉 CONTINUED TRAINING COMPLETE!\")\n",
    "print(\"=\"*70)\n",
    "\n",
    "print(\"\\n📊 Results Summary:\")\n",
    "print(f\"\\nResNet50:\")\n",
    "print(f\"  Original:  91.87%\")\n",
    "print(f\"  New:       {test_acc_resnet*100:.2f}%\")\n",
    "print(f\"  Change:    {(test_acc_resnet - 0.9187)*100:+.2f}%\")\n",
    "\n",
    "print(f\"\\nDenseNet121:\")\n",
    "print(f\"  Original:  88.24%\")\n",
    "print(f\"  New:       {test_acc_densenet*100:.2f}%\")\n",
    "print(f\"  Change:    {(test_acc_densenet - 0.8824)*100:+.2f}%\")\n",
    "\n",
    "# Estimate ensemble accuracy\n",
    "estimated_ensemble = (test_acc_resnet + test_acc_densenet) / 2\n",
    "print(f\"\\nEstimated Ensemble (simple average):\")\n",
    "print(f\"  {estimated_ensemble*100:.2f}%\")\n",
    "\n",
    "# Estimate with TTA\n",
    "estimated_with_tta = estimated_ensemble + 0.0109  # Current TTA gain\n",
    "print(f\"\\nEstimated with Aggressive TTA:\")\n",
    "print(f\"  {estimated_with_tta*100:.2f}%\")\n",
    "\n",
    "print(\"\\n📁 Saved Models:\")\n",
    "print(f\"  ResNet50:    {resnet_checkpoint_path}\")\n",
    "print(f\"  DenseNet121: {densenet_checkpoint_path}\")\n",
    "\n",
    "print(\"\\n📁 Training Histories:\")\n",
    "print(f\"  ResNet50:    {resnet_history_path}\")\n",
    "print(f\"  DenseNet121: {densenet_history_path}\")\n",
    "\n",
    "print(\"\\n🎯 Next Steps:\")\n",
    "print(\"  1. Go back to day4_advanced_04_ensemble.ipynb\")\n",
    "print(\"  2. Update model paths to use the new continued models\")\n",
    "print(\"  3. Re-run Section 7 (Get Individual Model Predictions)\")\n",
    "print(\"  4. Re-run Section 9.6 (Top Models Ensemble)\")\n",
    "print(\"  5. Re-run Section 9.8 (Aggressive TTA)\")\n",
    "print(\"  6. Check if you've hit 95%! 🎯\")\n",
    "\n",
    "if estimated_with_tta >= 0.95:\n",
    "    print(\"\\n🎯🎯🎯 ESTIMATED 95%+ ACCURACY! 🎉🎉🎉\")\n",
    "    print(\"     Go re-run the ensemble notebook to confirm!\")\n",
    "elif estimated_with_tta >= 0.94:\n",
    "    print(\"\\n🎯🎯 ESTIMATED 94%+ ACCURACY!\")\n",
    "    print(\"     Very close to 95% - re-run ensemble to confirm!\")\n",
    "else:\n",
    "    print(\"\\n📊 Models improved! Re-run ensemble to see final results.\")\n",
    "\n",
    "print(\"\\n\" + \"=\"*70)\n",
    "print(\"🏆 Great work! Models have been improved!\")\n",
    "print(\"=\"*70)"
   ]
  }
 ],
 "metadata": {
  "kernelspec": {
   "display_name": "Python (BrainTumor)",
   "language": "python",
   "name": "braintumor-venv"
  },
  "language_info": {
   "codemirror_mode": {
    "name": "ipython",
    "version": 3
   },
   "file_extension": ".py",
   "mimetype": "text/x-python",
   "name": "python",
   "nbconvert_exporter": "python",
   "pygments_lexer": "ipython3",
   "version": "3.11.14"
  }
 },
 "nbformat": 4,
 "nbformat_minor": 5
}
