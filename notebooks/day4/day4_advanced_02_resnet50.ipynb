{
 "cells": [
  {
   "cell_type": "markdown",
   "id": "ad5b0da8",
   "metadata": {},
   "source": [
    "# Day 4 Advanced: Transfer Learning with ResNet50\n",
    "\n",
    "**Goal:** Achieve 89-92% accuracy using ResNet50\n",
    "\n",
    "**What we'll do:**\n",
    "1. Load ResNet50 pretrained on ImageNet\n",
    "2. Convert grayscale images to RGB\n",
    "3. Fine-tune the model on brain tumor data\n",
    "4. Compare with baseline (76.83%) and EfficientNet\n",
    "\n",
    "**Expected improvement:** 76% → 89-92% (+13-16%)\n",
    "\n",
    "**Why ResNet50?**\n",
    "- Deep residual connections (50 layers)\n",
    "- Excellent feature learning\n",
    "- Proven performance on medical imaging\n",
    "- 25M parameters (more capacity than EfficientNet)\n",
    "\n",
    "---\n",
    "\n",
    "**Training Strategy:**\n",
    "1. **Phase 1:** Freeze base model, train classifier (5 epochs)\n",
    "2. **Phase 2:** Unfreeze top ResNet blocks, fine-tune (12 epochs)\n",
    "3. **Phase 3:** Lower learning rate, final training (8 epochs)\n",
    "\n",
    "**Expected time:** 60-90 minutes (with GPU)\n",
    "\n",
    "---"
   ]
  },
  {
   "cell_type": "markdown",
   "id": "43c5ab80",
   "metadata": {},
   "source": [
    "## 1. Import Libraries"
   ]
  },
  {
   "cell_type": "code",
   "execution_count": 1,
   "id": "626012c9",
   "metadata": {},
   "outputs": [
    {
     "name": "stderr",
     "output_type": "stream",
     "text": [
      "2025-10-24 21:55:06.954187: I tensorflow/core/platform/cpu_feature_guard.cc:210] This TensorFlow binary is optimized to use available CPU instructions in performance-critical operations.\n",
      "To enable the following instructions: AVX2 FMA, in other operations, rebuild TensorFlow with the appropriate compiler flags.\n"
     ]
    },
    {
     "name": "stdout",
     "output_type": "stream",
     "text": [
      "TensorFlow version: 2.20.0\n",
      "Keras version: 3.11.3\n",
      "✅ GPU available: 1 GPU(s)\n"
     ]
    }
   ],
   "source": [
    "import os\n",
    "import sys\n",
    "import numpy as np\n",
    "import pandas as pd\n",
    "import matplotlib.pyplot as plt\n",
    "import json\n",
    "from datetime import datetime\n",
    "\n",
    "# TensorFlow and Keras\n",
    "import tensorflow as tf\n",
    "from tensorflow import keras\n",
    "from tensorflow.keras.applications import ResNet50\n",
    "from tensorflow.keras.models import Model\n",
    "from tensorflow.keras.layers import GlobalAveragePooling2D, Dense, Dropout, BatchNormalization\n",
    "from tensorflow.keras.preprocessing.image import ImageDataGenerator\n",
    "from tensorflow.keras.callbacks import EarlyStopping, ModelCheckpoint, ReduceLROnPlateau, CSVLogger\n",
    "from tensorflow.keras.optimizers import Adam\n",
    "\n",
    "# Add src to path for imports\n",
    "sys.path.append('../../src')\n",
    "from training.transfer_learning_utils import GrayscaleToRGBGenerator, create_rgb_generators\n",
    "\n",
    "print(f\"TensorFlow version: {tf.__version__}\")\n",
    "print(f\"Keras version: {keras.__version__}\")\n",
    "\n",
    "# Check GPU\n",
    "gpus = tf.config.list_physical_devices('GPU')\n",
    "if gpus:\n",
    "    print(f\"✅ GPU available: {len(gpus)} GPU(s)\")\n",
    "else:\n",
    "    print(\"⚠️  No GPU - training will be slow!\")\n",
    "\n",
    "# Set seeds\n",
    "np.random.seed(42)\n",
    "tf.random.set_seed(42)"
   ]
  },
  {
   "cell_type": "markdown",
   "id": "ff9e7d9a",
   "metadata": {},
   "source": [
    "## 2. Configuration"
   ]
  },
  {
   "cell_type": "code",
   "execution_count": 2,
   "id": "9be4f394",
   "metadata": {},
   "outputs": [
    {
     "name": "stdout",
     "output_type": "stream",
     "text": [
      "Configuration:\n",
      "  Model: ResNet50\n",
      "  Image size: (128, 128)\n",
      "  Batch size: 32\n",
      "  Classes: ['glioma', 'meningioma', 'pituitary']\n"
     ]
    }
   ],
   "source": [
    "# Paths\n",
    "TRAIN_CSV = \"../../outputs/data_splits/train_split.csv\"\n",
    "VAL_CSV = \"../../outputs/data_splits/val_split.csv\"\n",
    "TEST_CSV = \"../../outputs/data_splits/test_split.csv\"\n",
    "\n",
    "# Output directories\n",
    "MODEL_DIR = \"../../outputs/models/transfer_learning\"\n",
    "HISTORY_DIR = \"../../outputs/training_history/transfer_learning\"\n",
    "VIZ_DIR = \"../../outputs/visualizations\"\n",
    "\n",
    "os.makedirs(MODEL_DIR, exist_ok=True)\n",
    "os.makedirs(HISTORY_DIR, exist_ok=True)\n",
    "os.makedirs(VIZ_DIR, exist_ok=True)\n",
    "\n",
    "# Hyperparameters\n",
    "IMG_SIZE = (128, 128)\n",
    "BATCH_SIZE = 32\n",
    "LEARNING_RATE_PHASE1 = 0.001  # Training classifier only\n",
    "LEARNING_RATE_PHASE2 = 0.0001  # Fine-tuning\n",
    "LEARNING_RATE_PHASE3 = 0.00001  # Final training\n",
    "\n",
    "# Class names\n",
    "CLASS_NAMES = ['glioma', 'meningioma', 'pituitary']\n",
    "NUM_CLASSES = len(CLASS_NAMES)\n",
    "\n",
    "print(\"Configuration:\")\n",
    "print(f\"  Model: ResNet50\")\n",
    "print(f\"  Image size: {IMG_SIZE}\")\n",
    "print(f\"  Batch size: {BATCH_SIZE}\")\n",
    "print(f\"  Classes: {CLASS_NAMES}\")"
   ]
  },
  {
   "cell_type": "markdown",
   "id": "6e00ede2",
   "metadata": {},
   "source": [
    "## 3. Load Data"
   ]
  },
  {
   "cell_type": "code",
   "execution_count": 3,
   "id": "64b36e3c",
   "metadata": {},
   "outputs": [
    {
     "name": "stdout",
     "output_type": "stream",
     "text": [
      "Data loaded:\n",
      "  Train: 4863 images\n",
      "  Val:   855 images\n",
      "  Test:  1463 images\n"
     ]
    }
   ],
   "source": [
    "# Load CSV files\n",
    "train_df = pd.read_csv(TRAIN_CSV)\n",
    "val_df = pd.read_csv(VAL_CSV)\n",
    "test_df = pd.read_csv(TEST_CSV)\n",
    "\n",
    "# Ensure label is string\n",
    "train_df['label'] = train_df['label'].astype(str)\n",
    "val_df['label'] = val_df['label'].astype(str)\n",
    "test_df['label'] = test_df['label'].astype(str)\n",
    "\n",
    "print(\"Data loaded:\")\n",
    "print(f\"  Train: {len(train_df)} images\")\n",
    "print(f\"  Val:   {len(val_df)} images\")\n",
    "print(f\"  Test:  {len(test_df)} images\")"
   ]
  },
  {
   "cell_type": "markdown",
   "id": "f5eb16c1",
   "metadata": {},
   "source": [
    "## 4. Create RGB Data Generators"
   ]
  },
  {
   "cell_type": "code",
   "execution_count": 4,
   "id": "5ae01527",
   "metadata": {},
   "outputs": [
    {
     "name": "stdout",
     "output_type": "stream",
     "text": [
      "Found 4863 validated image filenames belonging to 3 classes.\n",
      "Found 855 validated image filenames belonging to 3 classes.\n",
      "Found 855 validated image filenames belonging to 3 classes.\n",
      "Found 1463 validated image filenames belonging to 3 classes.\n",
      "Found 1463 validated image filenames belonging to 3 classes.\n",
      "\n",
      "✅ RGB data generators created!\n",
      "Steps per epoch: 152\n",
      "Validation steps: 27\n",
      "\n",
      "Batch shape: (32, 128, 128, 3) (should be [batch, 128, 128, 3])\n",
      "Labels shape: (32, 3)\n",
      "\n",
      "✅ RGB data generators created!\n",
      "Steps per epoch: 152\n",
      "Validation steps: 27\n",
      "\n",
      "Batch shape: (32, 128, 128, 3) (should be [batch, 128, 128, 3])\n",
      "Labels shape: (32, 3)\n"
     ]
    }
   ],
   "source": [
    "# Create RGB generators using utility function\n",
    "train_generator, val_generator, test_generator = create_rgb_generators(\n",
    "    train_df=train_df,\n",
    "    val_df=val_df,\n",
    "    test_df=test_df,\n",
    "    img_size=IMG_SIZE,\n",
    "    batch_size=BATCH_SIZE\n",
    ")\n",
    "\n",
    "print(\"\\n✅ RGB data generators created!\")\n",
    "print(f\"Steps per epoch: {len(train_generator)}\")\n",
    "print(f\"Validation steps: {len(val_generator)}\")\n",
    "\n",
    "# Test generator output\n",
    "test_batch_x, test_batch_y = next(iter(train_generator))\n",
    "print(f\"\\nBatch shape: {test_batch_x.shape} (should be [batch, 128, 128, 3])\")\n",
    "print(f\"Labels shape: {test_batch_y.shape}\")"
   ]
  },
  {
   "cell_type": "markdown",
   "id": "fe36620c",
   "metadata": {},
   "source": [
    "## 5. Build Transfer Learning Model\n",
    "\n",
    "**Architecture:**\n",
    "- Base: ResNet50 (pretrained on ImageNet)\n",
    "- GlobalAveragePooling2D\n",
    "- Dense(512) + BatchNorm + Dropout\n",
    "- Dense(256) + BatchNorm + Dropout\n",
    "- Dense(3, softmax)"
   ]
  },
  {
   "cell_type": "code",
   "execution_count": 5,
   "id": "14fe0c67",
   "metadata": {},
   "outputs": [
    {
     "name": "stderr",
     "output_type": "stream",
     "text": [
      "WARNING: All log messages before absl::InitializeLog() is called are written to STDERR\n",
      "I0000 00:00:1761323109.730368   49092 gpu_device.cc:2020] Created device /job:localhost/replica:0/task:0/device:GPU:0 with 2614 MB memory:  -> device: 0, name: NVIDIA GeForce GTX 1650, pci bus id: 0000:01:00.0, compute capability: 7.5\n"
     ]
    },
    {
     "name": "stdout",
     "output_type": "stream",
     "text": [
      "Model architecture:\n"
     ]
    },
    {
     "data": {
      "text/html": [
       "<pre style=\"white-space:pre;overflow-x:auto;line-height:normal;font-family:Menlo,'DejaVu Sans Mono',consolas,'Courier New',monospace\"><span style=\"font-weight: bold\">Model: \"functional\"</span>\n",
       "</pre>\n"
      ],
      "text/plain": [
       "\u001b[1mModel: \"functional\"\u001b[0m\n"
      ]
     },
     "metadata": {},
     "output_type": "display_data"
    },
    {
     "data": {
      "text/html": [
       "<pre style=\"white-space:pre;overflow-x:auto;line-height:normal;font-family:Menlo,'DejaVu Sans Mono',consolas,'Courier New',monospace\">┏━━━━━━━━━━━━━━━━━━━━━━━━━━━━━━━━━┳━━━━━━━━━━━━━━━━━━━━━━━━┳━━━━━━━━━━━━━━━┓\n",
       "┃<span style=\"font-weight: bold\"> Layer (type)                    </span>┃<span style=\"font-weight: bold\"> Output Shape           </span>┃<span style=\"font-weight: bold\">       Param # </span>┃\n",
       "┡━━━━━━━━━━━━━━━━━━━━━━━━━━━━━━━━━╇━━━━━━━━━━━━━━━━━━━━━━━━╇━━━━━━━━━━━━━━━┩\n",
       "│ input_layer_1 (<span style=\"color: #0087ff; text-decoration-color: #0087ff\">InputLayer</span>)      │ (<span style=\"color: #00d7ff; text-decoration-color: #00d7ff\">None</span>, <span style=\"color: #00af00; text-decoration-color: #00af00\">128</span>, <span style=\"color: #00af00; text-decoration-color: #00af00\">128</span>, <span style=\"color: #00af00; text-decoration-color: #00af00\">3</span>)    │             <span style=\"color: #00af00; text-decoration-color: #00af00\">0</span> │\n",
       "├─────────────────────────────────┼────────────────────────┼───────────────┤\n",
       "│ resnet50 (<span style=\"color: #0087ff; text-decoration-color: #0087ff\">Functional</span>)           │ (<span style=\"color: #00d7ff; text-decoration-color: #00d7ff\">None</span>, <span style=\"color: #00af00; text-decoration-color: #00af00\">4</span>, <span style=\"color: #00af00; text-decoration-color: #00af00\">4</span>, <span style=\"color: #00af00; text-decoration-color: #00af00\">2048</span>)     │    <span style=\"color: #00af00; text-decoration-color: #00af00\">23,587,712</span> │\n",
       "├─────────────────────────────────┼────────────────────────┼───────────────┤\n",
       "│ global_average_pooling2d        │ (<span style=\"color: #00d7ff; text-decoration-color: #00d7ff\">None</span>, <span style=\"color: #00af00; text-decoration-color: #00af00\">2048</span>)           │             <span style=\"color: #00af00; text-decoration-color: #00af00\">0</span> │\n",
       "│ (<span style=\"color: #0087ff; text-decoration-color: #0087ff\">GlobalAveragePooling2D</span>)        │                        │               │\n",
       "├─────────────────────────────────┼────────────────────────┼───────────────┤\n",
       "│ dense (<span style=\"color: #0087ff; text-decoration-color: #0087ff\">Dense</span>)                   │ (<span style=\"color: #00d7ff; text-decoration-color: #00d7ff\">None</span>, <span style=\"color: #00af00; text-decoration-color: #00af00\">512</span>)            │     <span style=\"color: #00af00; text-decoration-color: #00af00\">1,049,088</span> │\n",
       "├─────────────────────────────────┼────────────────────────┼───────────────┤\n",
       "│ batch_normalization             │ (<span style=\"color: #00d7ff; text-decoration-color: #00d7ff\">None</span>, <span style=\"color: #00af00; text-decoration-color: #00af00\">512</span>)            │         <span style=\"color: #00af00; text-decoration-color: #00af00\">2,048</span> │\n",
       "│ (<span style=\"color: #0087ff; text-decoration-color: #0087ff\">BatchNormalization</span>)            │                        │               │\n",
       "├─────────────────────────────────┼────────────────────────┼───────────────┤\n",
       "│ dropout (<span style=\"color: #0087ff; text-decoration-color: #0087ff\">Dropout</span>)               │ (<span style=\"color: #00d7ff; text-decoration-color: #00d7ff\">None</span>, <span style=\"color: #00af00; text-decoration-color: #00af00\">512</span>)            │             <span style=\"color: #00af00; text-decoration-color: #00af00\">0</span> │\n",
       "├─────────────────────────────────┼────────────────────────┼───────────────┤\n",
       "│ dense_1 (<span style=\"color: #0087ff; text-decoration-color: #0087ff\">Dense</span>)                 │ (<span style=\"color: #00d7ff; text-decoration-color: #00d7ff\">None</span>, <span style=\"color: #00af00; text-decoration-color: #00af00\">256</span>)            │       <span style=\"color: #00af00; text-decoration-color: #00af00\">131,328</span> │\n",
       "├─────────────────────────────────┼────────────────────────┼───────────────┤\n",
       "│ batch_normalization_1           │ (<span style=\"color: #00d7ff; text-decoration-color: #00d7ff\">None</span>, <span style=\"color: #00af00; text-decoration-color: #00af00\">256</span>)            │         <span style=\"color: #00af00; text-decoration-color: #00af00\">1,024</span> │\n",
       "│ (<span style=\"color: #0087ff; text-decoration-color: #0087ff\">BatchNormalization</span>)            │                        │               │\n",
       "├─────────────────────────────────┼────────────────────────┼───────────────┤\n",
       "│ dropout_1 (<span style=\"color: #0087ff; text-decoration-color: #0087ff\">Dropout</span>)             │ (<span style=\"color: #00d7ff; text-decoration-color: #00d7ff\">None</span>, <span style=\"color: #00af00; text-decoration-color: #00af00\">256</span>)            │             <span style=\"color: #00af00; text-decoration-color: #00af00\">0</span> │\n",
       "├─────────────────────────────────┼────────────────────────┼───────────────┤\n",
       "│ dense_2 (<span style=\"color: #0087ff; text-decoration-color: #0087ff\">Dense</span>)                 │ (<span style=\"color: #00d7ff; text-decoration-color: #00d7ff\">None</span>, <span style=\"color: #00af00; text-decoration-color: #00af00\">3</span>)              │           <span style=\"color: #00af00; text-decoration-color: #00af00\">771</span> │\n",
       "└─────────────────────────────────┴────────────────────────┴───────────────┘\n",
       "</pre>\n"
      ],
      "text/plain": [
       "┏━━━━━━━━━━━━━━━━━━━━━━━━━━━━━━━━━┳━━━━━━━━━━━━━━━━━━━━━━━━┳━━━━━━━━━━━━━━━┓\n",
       "┃\u001b[1m \u001b[0m\u001b[1mLayer (type)                   \u001b[0m\u001b[1m \u001b[0m┃\u001b[1m \u001b[0m\u001b[1mOutput Shape          \u001b[0m\u001b[1m \u001b[0m┃\u001b[1m \u001b[0m\u001b[1m      Param #\u001b[0m\u001b[1m \u001b[0m┃\n",
       "┡━━━━━━━━━━━━━━━━━━━━━━━━━━━━━━━━━╇━━━━━━━━━━━━━━━━━━━━━━━━╇━━━━━━━━━━━━━━━┩\n",
       "│ input_layer_1 (\u001b[38;5;33mInputLayer\u001b[0m)      │ (\u001b[38;5;45mNone\u001b[0m, \u001b[38;5;34m128\u001b[0m, \u001b[38;5;34m128\u001b[0m, \u001b[38;5;34m3\u001b[0m)    │             \u001b[38;5;34m0\u001b[0m │\n",
       "├─────────────────────────────────┼────────────────────────┼───────────────┤\n",
       "│ resnet50 (\u001b[38;5;33mFunctional\u001b[0m)           │ (\u001b[38;5;45mNone\u001b[0m, \u001b[38;5;34m4\u001b[0m, \u001b[38;5;34m4\u001b[0m, \u001b[38;5;34m2048\u001b[0m)     │    \u001b[38;5;34m23,587,712\u001b[0m │\n",
       "├─────────────────────────────────┼────────────────────────┼───────────────┤\n",
       "│ global_average_pooling2d        │ (\u001b[38;5;45mNone\u001b[0m, \u001b[38;5;34m2048\u001b[0m)           │             \u001b[38;5;34m0\u001b[0m │\n",
       "│ (\u001b[38;5;33mGlobalAveragePooling2D\u001b[0m)        │                        │               │\n",
       "├─────────────────────────────────┼────────────────────────┼───────────────┤\n",
       "│ dense (\u001b[38;5;33mDense\u001b[0m)                   │ (\u001b[38;5;45mNone\u001b[0m, \u001b[38;5;34m512\u001b[0m)            │     \u001b[38;5;34m1,049,088\u001b[0m │\n",
       "├─────────────────────────────────┼────────────────────────┼───────────────┤\n",
       "│ batch_normalization             │ (\u001b[38;5;45mNone\u001b[0m, \u001b[38;5;34m512\u001b[0m)            │         \u001b[38;5;34m2,048\u001b[0m │\n",
       "│ (\u001b[38;5;33mBatchNormalization\u001b[0m)            │                        │               │\n",
       "├─────────────────────────────────┼────────────────────────┼───────────────┤\n",
       "│ dropout (\u001b[38;5;33mDropout\u001b[0m)               │ (\u001b[38;5;45mNone\u001b[0m, \u001b[38;5;34m512\u001b[0m)            │             \u001b[38;5;34m0\u001b[0m │\n",
       "├─────────────────────────────────┼────────────────────────┼───────────────┤\n",
       "│ dense_1 (\u001b[38;5;33mDense\u001b[0m)                 │ (\u001b[38;5;45mNone\u001b[0m, \u001b[38;5;34m256\u001b[0m)            │       \u001b[38;5;34m131,328\u001b[0m │\n",
       "├─────────────────────────────────┼────────────────────────┼───────────────┤\n",
       "│ batch_normalization_1           │ (\u001b[38;5;45mNone\u001b[0m, \u001b[38;5;34m256\u001b[0m)            │         \u001b[38;5;34m1,024\u001b[0m │\n",
       "│ (\u001b[38;5;33mBatchNormalization\u001b[0m)            │                        │               │\n",
       "├─────────────────────────────────┼────────────────────────┼───────────────┤\n",
       "│ dropout_1 (\u001b[38;5;33mDropout\u001b[0m)             │ (\u001b[38;5;45mNone\u001b[0m, \u001b[38;5;34m256\u001b[0m)            │             \u001b[38;5;34m0\u001b[0m │\n",
       "├─────────────────────────────────┼────────────────────────┼───────────────┤\n",
       "│ dense_2 (\u001b[38;5;33mDense\u001b[0m)                 │ (\u001b[38;5;45mNone\u001b[0m, \u001b[38;5;34m3\u001b[0m)              │           \u001b[38;5;34m771\u001b[0m │\n",
       "└─────────────────────────────────┴────────────────────────┴───────────────┘\n"
      ]
     },
     "metadata": {},
     "output_type": "display_data"
    },
    {
     "data": {
      "text/html": [
       "<pre style=\"white-space:pre;overflow-x:auto;line-height:normal;font-family:Menlo,'DejaVu Sans Mono',consolas,'Courier New',monospace\"><span style=\"font-weight: bold\"> Total params: </span><span style=\"color: #00af00; text-decoration-color: #00af00\">24,771,971</span> (94.50 MB)\n",
       "</pre>\n"
      ],
      "text/plain": [
       "\u001b[1m Total params: \u001b[0m\u001b[38;5;34m24,771,971\u001b[0m (94.50 MB)\n"
      ]
     },
     "metadata": {},
     "output_type": "display_data"
    },
    {
     "data": {
      "text/html": [
       "<pre style=\"white-space:pre;overflow-x:auto;line-height:normal;font-family:Menlo,'DejaVu Sans Mono',consolas,'Courier New',monospace\"><span style=\"font-weight: bold\"> Trainable params: </span><span style=\"color: #00af00; text-decoration-color: #00af00\">1,182,723</span> (4.51 MB)\n",
       "</pre>\n"
      ],
      "text/plain": [
       "\u001b[1m Trainable params: \u001b[0m\u001b[38;5;34m1,182,723\u001b[0m (4.51 MB)\n"
      ]
     },
     "metadata": {},
     "output_type": "display_data"
    },
    {
     "data": {
      "text/html": [
       "<pre style=\"white-space:pre;overflow-x:auto;line-height:normal;font-family:Menlo,'DejaVu Sans Mono',consolas,'Courier New',monospace\"><span style=\"font-weight: bold\"> Non-trainable params: </span><span style=\"color: #00af00; text-decoration-color: #00af00\">23,589,248</span> (89.99 MB)\n",
       "</pre>\n"
      ],
      "text/plain": [
       "\u001b[1m Non-trainable params: \u001b[0m\u001b[38;5;34m23,589,248\u001b[0m (89.99 MB)\n"
      ]
     },
     "metadata": {},
     "output_type": "display_data"
    },
    {
     "name": "stdout",
     "output_type": "stream",
     "text": [
      "\n",
      "Parameter counts:\n",
      "  Trainable: 1,182,723\n",
      "  Non-trainable: 23,589,248\n",
      "  Total: 24,771,971\n"
     ]
    }
   ],
   "source": [
    "def build_resnet_model(num_classes=3, trainable=False):\n",
    "    \"\"\"\n",
    "    Build ResNet50 model with custom classifier.\n",
    "    \n",
    "    Args:\n",
    "        num_classes: Number of output classes\n",
    "        trainable: Whether base model is trainable\n",
    "    \n",
    "    Returns:\n",
    "        Compiled Keras model\n",
    "    \"\"\"\n",
    "    # Load pretrained ResNet50\n",
    "    base_model = ResNet50(\n",
    "        weights='imagenet',\n",
    "        include_top=False,\n",
    "        input_shape=(128, 128, 3)\n",
    "    )\n",
    "    \n",
    "    # Freeze/unfreeze base model\n",
    "    base_model.trainable = trainable\n",
    "    \n",
    "    # Build full model\n",
    "    inputs = keras.Input(shape=(128, 128, 3))\n",
    "    x = base_model(inputs, training=False)  # Set training=False for inference mode\n",
    "    x = GlobalAveragePooling2D()(x)\n",
    "    \n",
    "    # Custom classifier (larger than EfficientNet)\n",
    "    x = Dense(512, activation='relu')(x)\n",
    "    x = BatchNormalization()(x)\n",
    "    x = Dropout(0.5)(x)\n",
    "    \n",
    "    x = Dense(256, activation='relu')(x)\n",
    "    x = BatchNormalization()(x)\n",
    "    x = Dropout(0.5)(x)\n",
    "    \n",
    "    outputs = Dense(num_classes, activation='softmax')(x)\n",
    "    \n",
    "    model = Model(inputs=inputs, outputs=outputs)\n",
    "    \n",
    "    return model, base_model\n",
    "\n",
    "# Build model (base frozen initially)\n",
    "model, base_model = build_resnet_model(num_classes=NUM_CLASSES, trainable=False)\n",
    "\n",
    "print(\"Model architecture:\")\n",
    "model.summary()\n",
    "\n",
    "# Count parameters\n",
    "trainable_params = sum([tf.size(w).numpy() for w in model.trainable_weights])\n",
    "non_trainable_params = sum([tf.size(w).numpy() for w in model.non_trainable_weights])\n",
    "total_params = trainable_params + non_trainable_params\n",
    "\n",
    "print(f\"\\nParameter counts:\")\n",
    "print(f\"  Trainable: {trainable_params:,}\")\n",
    "print(f\"  Non-trainable: {non_trainable_params:,}\")\n",
    "print(f\"  Total: {total_params:,}\")"
   ]
  },
  {
   "cell_type": "markdown",
   "id": "6fbc4ad5",
   "metadata": {},
   "source": [
    "## 6. Phase 1: Train Classifier Only (5 epochs)"
   ]
  },
  {
   "cell_type": "code",
   "execution_count": 6,
   "id": "fc8766dc",
   "metadata": {},
   "outputs": [
    {
     "name": "stdout",
     "output_type": "stream",
     "text": [
      "======================================================================\n",
      "PHASE 1: Training Classifier Only\n",
      "======================================================================\n",
      "Base model: FROZEN\n",
      "Learning rate: 0.001\n",
      "Epochs: 5\n",
      "\n",
      "Epoch 1/5\n",
      "Epoch 1/5\n"
     ]
    },
    {
     "name": "stderr",
     "output_type": "stream",
     "text": [
      "/projects/ai-ml/BrainTumorProject/.venv/lib/python3.11/site-packages/keras/src/trainers/data_adapters/py_dataset_adapter.py:121: UserWarning: Your `PyDataset` class should call `super().__init__(**kwargs)` in its constructor. `**kwargs` can include `workers`, `use_multiprocessing`, `max_queue_size`. Do not pass these arguments to `fit()`, as they will be ignored.\n",
      "  self._warn_if_super_not_called()\n",
      "2025-10-24 21:55:17.341598: I external/local_xla/xla/service/service.cc:163] XLA service 0x787580002310 initialized for platform CUDA (this does not guarantee that XLA will be used). Devices:\n",
      "2025-10-24 21:55:17.341625: I external/local_xla/xla/service/service.cc:171]   StreamExecutor device (0): NVIDIA GeForce GTX 1650, Compute Capability 7.5\n",
      "2025-10-24 21:55:17.513781: I tensorflow/compiler/mlir/tensorflow/utils/dump_mlir_util.cc:269] disabling MLIR crash reproducer, set env var `MLIR_CRASH_REPRODUCER_DIRECTORY` to enable.\n",
      "2025-10-24 21:55:17.341598: I external/local_xla/xla/service/service.cc:163] XLA service 0x787580002310 initialized for platform CUDA (this does not guarantee that XLA will be used). Devices:\n",
      "2025-10-24 21:55:17.341625: I external/local_xla/xla/service/service.cc:171]   StreamExecutor device (0): NVIDIA GeForce GTX 1650, Compute Capability 7.5\n",
      "2025-10-24 21:55:17.513781: I tensorflow/compiler/mlir/tensorflow/utils/dump_mlir_util.cc:269] disabling MLIR crash reproducer, set env var `MLIR_CRASH_REPRODUCER_DIRECTORY` to enable.\n",
      "2025-10-24 21:55:19.003057: I external/local_xla/xla/stream_executor/cuda/cuda_dnn.cc:473] Loaded cuDNN version 91400\n",
      "2025-10-24 21:55:19.003057: I external/local_xla/xla/stream_executor/cuda/cuda_dnn.cc:473] Loaded cuDNN version 91400\n",
      "2025-10-24 21:55:19.789391: I external/local_xla/xla/service/gpu/autotuning/conv_algorithm_picker.cc:546] Omitted potentially buggy algorithm eng14{k25=2} for conv (f32[32,64,32,32]{3,2,1,0}, u8[0]{0}) custom-call(f32[32,64,32,32]{3,2,1,0}, f32[64,64,3,3]{3,2,1,0}, f32[64]{0}), window={size=3x3 pad=1_1x1_1}, dim_labels=bf01_oi01->bf01, custom_call_target=\"__cudnn$convBiasActivationForward\", backend_config={\"operation_queue_id\":\"0\",\"wait_on_operation_queues\":[],\"cudnn_conv_backend_config\":{\"activation_mode\":\"kNone\",\"conv_result_scale\":1,\"side_input_scale\":0,\"leakyrelu_alpha\":0},\"force_earliest_schedule\":false,\"reification_cost\":[]}\n",
      "2025-10-24 21:55:19.789391: I external/local_xla/xla/service/gpu/autotuning/conv_algorithm_picker.cc:546] Omitted potentially buggy algorithm eng14{k25=2} for conv (f32[32,64,32,32]{3,2,1,0}, u8[0]{0}) custom-call(f32[32,64,32,32]{3,2,1,0}, f32[64,64,3,3]{3,2,1,0}, f32[64]{0}), window={size=3x3 pad=1_1x1_1}, dim_labels=bf01_oi01->bf01, custom_call_target=\"__cudnn$convBiasActivationForward\", backend_config={\"operation_queue_id\":\"0\",\"wait_on_operation_queues\":[],\"cudnn_conv_backend_config\":{\"activation_mode\":\"kNone\",\"conv_result_scale\":1,\"side_input_scale\":0,\"leakyrelu_alpha\":0},\"force_earliest_schedule\":false,\"reification_cost\":[]}\n",
      "2025-10-24 21:55:20.145575: I external/local_xla/xla/service/gpu/autotuning/conv_algorithm_picker.cc:546] Omitted potentially buggy algorithm eng14{k25=2} for conv (f32[32,128,16,16]{3,2,1,0}, u8[0]{0}) custom-call(f32[32,128,16,16]{3,2,1,0}, f32[128,128,3,3]{3,2,1,0}, f32[128]{0}), window={size=3x3 pad=1_1x1_1}, dim_labels=bf01_oi01->bf01, custom_call_target=\"__cudnn$convBiasActivationForward\", backend_config={\"operation_queue_id\":\"0\",\"wait_on_operation_queues\":[],\"cudnn_conv_backend_config\":{\"activation_mode\":\"kNone\",\"conv_result_scale\":1,\"side_input_scale\":0,\"leakyrelu_alpha\":0},\"force_earliest_schedule\":false,\"reification_cost\":[]}\n",
      "2025-10-24 21:55:20.145575: I external/local_xla/xla/service/gpu/autotuning/conv_algorithm_picker.cc:546] Omitted potentially buggy algorithm eng14{k25=2} for conv (f32[32,128,16,16]{3,2,1,0}, u8[0]{0}) custom-call(f32[32,128,16,16]{3,2,1,0}, f32[128,128,3,3]{3,2,1,0}, f32[128]{0}), window={size=3x3 pad=1_1x1_1}, dim_labels=bf01_oi01->bf01, custom_call_target=\"__cudnn$convBiasActivationForward\", backend_config={\"operation_queue_id\":\"0\",\"wait_on_operation_queues\":[],\"cudnn_conv_backend_config\":{\"activation_mode\":\"kNone\",\"conv_result_scale\":1,\"side_input_scale\":0,\"leakyrelu_alpha\":0},\"force_earliest_schedule\":false,\"reification_cost\":[]}\n",
      "2025-10-24 21:55:20.527600: I external/local_xla/xla/service/gpu/autotuning/conv_algorithm_picker.cc:546] Omitted potentially buggy algorithm eng14{k25=2} for conv (f32[32,256,8,8]{3,2,1,0}, u8[0]{0}) custom-call(f32[32,256,8,8]{3,2,1,0}, f32[256,256,3,3]{3,2,1,0}, f32[256]{0}), window={size=3x3 pad=1_1x1_1}, dim_labels=bf01_oi01->bf01, custom_call_target=\"__cudnn$convBiasActivationForward\", backend_config={\"operation_queue_id\":\"0\",\"wait_on_operation_queues\":[],\"cudnn_conv_backend_config\":{\"activation_mode\":\"kNone\",\"conv_result_scale\":1,\"side_input_scale\":0,\"leakyrelu_alpha\":0},\"force_earliest_schedule\":false,\"reification_cost\":[]}\n",
      "2025-10-24 21:55:20.527600: I external/local_xla/xla/service/gpu/autotuning/conv_algorithm_picker.cc:546] Omitted potentially buggy algorithm eng14{k25=2} for conv (f32[32,256,8,8]{3,2,1,0}, u8[0]{0}) custom-call(f32[32,256,8,8]{3,2,1,0}, f32[256,256,3,3]{3,2,1,0}, f32[256]{0}), window={size=3x3 pad=1_1x1_1}, dim_labels=bf01_oi01->bf01, custom_call_target=\"__cudnn$convBiasActivationForward\", backend_config={\"operation_queue_id\":\"0\",\"wait_on_operation_queues\":[],\"cudnn_conv_backend_config\":{\"activation_mode\":\"kNone\",\"conv_result_scale\":1,\"side_input_scale\":0,\"leakyrelu_alpha\":0},\"force_earliest_schedule\":false,\"reification_cost\":[]}\n",
      "2025-10-24 21:55:20.930522: I external/local_xla/xla/service/gpu/autotuning/conv_algorithm_picker.cc:546] Omitted potentially buggy algorithm eng14{k25=2} for conv (f32[32,512,4,4]{3,2,1,0}, u8[0]{0}) custom-call(f32[32,512,4,4]{3,2,1,0}, f32[512,512,3,3]{3,2,1,0}, f32[512]{0}), window={size=3x3 pad=1_1x1_1}, dim_labels=bf01_oi01->bf01, custom_call_target=\"__cudnn$convBiasActivationForward\", backend_config={\"operation_queue_id\":\"0\",\"wait_on_operation_queues\":[],\"cudnn_conv_backend_config\":{\"activation_mode\":\"kNone\",\"conv_result_scale\":1,\"side_input_scale\":0,\"leakyrelu_alpha\":0},\"force_earliest_schedule\":false,\"reification_cost\":[]}\n",
      "2025-10-24 21:55:20.930522: I external/local_xla/xla/service/gpu/autotuning/conv_algorithm_picker.cc:546] Omitted potentially buggy algorithm eng14{k25=2} for conv (f32[32,512,4,4]{3,2,1,0}, u8[0]{0}) custom-call(f32[32,512,4,4]{3,2,1,0}, f32[512,512,3,3]{3,2,1,0}, f32[512]{0}), window={size=3x3 pad=1_1x1_1}, dim_labels=bf01_oi01->bf01, custom_call_target=\"__cudnn$convBiasActivationForward\", backend_config={\"operation_queue_id\":\"0\",\"wait_on_operation_queues\":[],\"cudnn_conv_backend_config\":{\"activation_mode\":\"kNone\",\"conv_result_scale\":1,\"side_input_scale\":0,\"leakyrelu_alpha\":0},\"force_earliest_schedule\":false,\"reification_cost\":[]}\n"
     ]
    },
    {
     "name": "stdout",
     "output_type": "stream",
     "text": [
      "\u001b[1m  3/152\u001b[0m \u001b[37m━━━━━━━━━━━━━━━━━━━━\u001b[0m \u001b[1m10s\u001b[0m 68ms/step - accuracy: 0.3333 - loss: 2.2242"
     ]
    },
    {
     "name": "stderr",
     "output_type": "stream",
     "text": [
      "I0000 00:00:1761323123.571545   49156 device_compiler.h:196] Compiled cluster using XLA!  This line is logged at most once for the lifetime of the process.\n"
     ]
    },
    {
     "name": "stdout",
     "output_type": "stream",
     "text": [
      "\u001b[1m151/152\u001b[0m \u001b[32m━━━━━━━━━━━━━━━━━━━\u001b[0m\u001b[37m━\u001b[0m \u001b[1m0s\u001b[0m 71ms/step - accuracy: 0.6210 - loss: 1.1411"
     ]
    },
    {
     "name": "stderr",
     "output_type": "stream",
     "text": [
      "2025-10-24 21:55:36.096600: I external/local_xla/xla/service/gpu/autotuning/conv_algorithm_picker.cc:546] Omitted potentially buggy algorithm eng14{k25=2} for conv (f32[31,64,32,32]{3,2,1,0}, u8[0]{0}) custom-call(f32[31,64,32,32]{3,2,1,0}, f32[64,64,3,3]{3,2,1,0}, f32[64]{0}), window={size=3x3 pad=1_1x1_1}, dim_labels=bf01_oi01->bf01, custom_call_target=\"__cudnn$convBiasActivationForward\", backend_config={\"operation_queue_id\":\"0\",\"wait_on_operation_queues\":[],\"cudnn_conv_backend_config\":{\"activation_mode\":\"kNone\",\"conv_result_scale\":1,\"side_input_scale\":0,\"leakyrelu_alpha\":0},\"force_earliest_schedule\":false,\"reification_cost\":[]}\n",
      "2025-10-24 21:55:36.459255: I external/local_xla/xla/service/gpu/autotuning/conv_algorithm_picker.cc:546] Omitted potentially buggy algorithm eng14{k25=2} for conv (f32[31,128,16,16]{3,2,1,0}, u8[0]{0}) custom-call(f32[31,128,16,16]{3,2,1,0}, f32[128,128,3,3]{3,2,1,0}, f32[128]{0}), window={size=3x3 pad=1_1x1_1}, dim_labels=bf01_oi01->bf01, custom_call_target=\"__cudnn$convBiasActivationForward\", backend_config={\"operation_queue_id\":\"0\",\"wait_on_operation_queues\":[],\"cudnn_conv_backend_config\":{\"activation_mode\":\"kNone\",\"conv_result_scale\":1,\"side_input_scale\":0,\"leakyrelu_alpha\":0},\"force_earliest_schedule\":false,\"reification_cost\":[]}\n",
      "2025-10-24 21:55:36.459255: I external/local_xla/xla/service/gpu/autotuning/conv_algorithm_picker.cc:546] Omitted potentially buggy algorithm eng14{k25=2} for conv (f32[31,128,16,16]{3,2,1,0}, u8[0]{0}) custom-call(f32[31,128,16,16]{3,2,1,0}, f32[128,128,3,3]{3,2,1,0}, f32[128]{0}), window={size=3x3 pad=1_1x1_1}, dim_labels=bf01_oi01->bf01, custom_call_target=\"__cudnn$convBiasActivationForward\", backend_config={\"operation_queue_id\":\"0\",\"wait_on_operation_queues\":[],\"cudnn_conv_backend_config\":{\"activation_mode\":\"kNone\",\"conv_result_scale\":1,\"side_input_scale\":0,\"leakyrelu_alpha\":0},\"force_earliest_schedule\":false,\"reification_cost\":[]}\n",
      "2025-10-24 21:55:36.837067: I external/local_xla/xla/service/gpu/autotuning/conv_algorithm_picker.cc:546] Omitted potentially buggy algorithm eng14{k25=2} for conv (f32[31,256,8,8]{3,2,1,0}, u8[0]{0}) custom-call(f32[31,256,8,8]{3,2,1,0}, f32[256,256,3,3]{3,2,1,0}, f32[256]{0}), window={size=3x3 pad=1_1x1_1}, dim_labels=bf01_oi01->bf01, custom_call_target=\"__cudnn$convBiasActivationForward\", backend_config={\"operation_queue_id\":\"0\",\"wait_on_operation_queues\":[],\"cudnn_conv_backend_config\":{\"activation_mode\":\"kNone\",\"conv_result_scale\":1,\"side_input_scale\":0,\"leakyrelu_alpha\":0},\"force_earliest_schedule\":false,\"reification_cost\":[]}\n",
      "2025-10-24 21:55:36.837067: I external/local_xla/xla/service/gpu/autotuning/conv_algorithm_picker.cc:546] Omitted potentially buggy algorithm eng14{k25=2} for conv (f32[31,256,8,8]{3,2,1,0}, u8[0]{0}) custom-call(f32[31,256,8,8]{3,2,1,0}, f32[256,256,3,3]{3,2,1,0}, f32[256]{0}), window={size=3x3 pad=1_1x1_1}, dim_labels=bf01_oi01->bf01, custom_call_target=\"__cudnn$convBiasActivationForward\", backend_config={\"operation_queue_id\":\"0\",\"wait_on_operation_queues\":[],\"cudnn_conv_backend_config\":{\"activation_mode\":\"kNone\",\"conv_result_scale\":1,\"side_input_scale\":0,\"leakyrelu_alpha\":0},\"force_earliest_schedule\":false,\"reification_cost\":[]}\n",
      "2025-10-24 21:55:37.237579: I external/local_xla/xla/service/gpu/autotuning/conv_algorithm_picker.cc:546] Omitted potentially buggy algorithm eng14{k25=2} for conv (f32[31,512,4,4]{3,2,1,0}, u8[0]{0}) custom-call(f32[31,512,4,4]{3,2,1,0}, f32[512,512,3,3]{3,2,1,0}, f32[512]{0}), window={size=3x3 pad=1_1x1_1}, dim_labels=bf01_oi01->bf01, custom_call_target=\"__cudnn$convBiasActivationForward\", backend_config={\"operation_queue_id\":\"0\",\"wait_on_operation_queues\":[],\"cudnn_conv_backend_config\":{\"activation_mode\":\"kNone\",\"conv_result_scale\":1,\"side_input_scale\":0,\"leakyrelu_alpha\":0},\"force_earliest_schedule\":false,\"reification_cost\":[]}\n",
      "2025-10-24 21:55:37.237579: I external/local_xla/xla/service/gpu/autotuning/conv_algorithm_picker.cc:546] Omitted potentially buggy algorithm eng14{k25=2} for conv (f32[31,512,4,4]{3,2,1,0}, u8[0]{0}) custom-call(f32[31,512,4,4]{3,2,1,0}, f32[512,512,3,3]{3,2,1,0}, f32[512]{0}), window={size=3x3 pad=1_1x1_1}, dim_labels=bf01_oi01->bf01, custom_call_target=\"__cudnn$convBiasActivationForward\", backend_config={\"operation_queue_id\":\"0\",\"wait_on_operation_queues\":[],\"cudnn_conv_backend_config\":{\"activation_mode\":\"kNone\",\"conv_result_scale\":1,\"side_input_scale\":0,\"leakyrelu_alpha\":0},\"force_earliest_schedule\":false,\"reification_cost\":[]}\n"
     ]
    },
    {
     "name": "stdout",
     "output_type": "stream",
     "text": [
      "\u001b[1m152/152\u001b[0m \u001b[32m━━━━━━━━━━━━━━━━━━━━\u001b[0m\u001b[37m\u001b[0m \u001b[1m0s\u001b[0m 107ms/step - accuracy: 0.6214 - loss: 1.1397"
     ]
    },
    {
     "name": "stderr",
     "output_type": "stream",
     "text": [
      "2025-10-24 21:55:44.875745: I external/local_xla/xla/service/gpu/autotuning/conv_algorithm_picker.cc:546] Omitted potentially buggy algorithm eng14{k25=2} for conv (f32[23,64,32,32]{3,2,1,0}, u8[0]{0}) custom-call(f32[23,64,32,32]{3,2,1,0}, f32[64,64,3,3]{3,2,1,0}, f32[64]{0}), window={size=3x3 pad=1_1x1_1}, dim_labels=bf01_oi01->bf01, custom_call_target=\"__cudnn$convBiasActivationForward\", backend_config={\"operation_queue_id\":\"0\",\"wait_on_operation_queues\":[],\"cudnn_conv_backend_config\":{\"activation_mode\":\"kNone\",\"conv_result_scale\":1,\"side_input_scale\":0,\"leakyrelu_alpha\":0},\"force_earliest_schedule\":false,\"reification_cost\":[]}\n",
      "2025-10-24 21:55:45.168176: I external/local_xla/xla/service/gpu/autotuning/conv_algorithm_picker.cc:546] Omitted potentially buggy algorithm eng14{k25=2} for conv (f32[23,128,16,16]{3,2,1,0}, u8[0]{0}) custom-call(f32[23,128,16,16]{3,2,1,0}, f32[128,128,3,3]{3,2,1,0}, f32[128]{0}), window={size=3x3 pad=1_1x1_1}, dim_labels=bf01_oi01->bf01, custom_call_target=\"__cudnn$convBiasActivationForward\", backend_config={\"operation_queue_id\":\"0\",\"wait_on_operation_queues\":[],\"cudnn_conv_backend_config\":{\"activation_mode\":\"kNone\",\"conv_result_scale\":1,\"side_input_scale\":0,\"leakyrelu_alpha\":0},\"force_earliest_schedule\":false,\"reification_cost\":[]}\n",
      "2025-10-24 21:55:45.168176: I external/local_xla/xla/service/gpu/autotuning/conv_algorithm_picker.cc:546] Omitted potentially buggy algorithm eng14{k25=2} for conv (f32[23,128,16,16]{3,2,1,0}, u8[0]{0}) custom-call(f32[23,128,16,16]{3,2,1,0}, f32[128,128,3,3]{3,2,1,0}, f32[128]{0}), window={size=3x3 pad=1_1x1_1}, dim_labels=bf01_oi01->bf01, custom_call_target=\"__cudnn$convBiasActivationForward\", backend_config={\"operation_queue_id\":\"0\",\"wait_on_operation_queues\":[],\"cudnn_conv_backend_config\":{\"activation_mode\":\"kNone\",\"conv_result_scale\":1,\"side_input_scale\":0,\"leakyrelu_alpha\":0},\"force_earliest_schedule\":false,\"reification_cost\":[]}\n",
      "2025-10-24 21:55:45.503270: I external/local_xla/xla/service/gpu/autotuning/conv_algorithm_picker.cc:546] Omitted potentially buggy algorithm eng14{k25=2} for conv (f32[23,256,8,8]{3,2,1,0}, u8[0]{0}) custom-call(f32[23,256,8,8]{3,2,1,0}, f32[256,256,3,3]{3,2,1,0}, f32[256]{0}), window={size=3x3 pad=1_1x1_1}, dim_labels=bf01_oi01->bf01, custom_call_target=\"__cudnn$convBiasActivationForward\", backend_config={\"operation_queue_id\":\"0\",\"wait_on_operation_queues\":[],\"cudnn_conv_backend_config\":{\"activation_mode\":\"kNone\",\"conv_result_scale\":1,\"side_input_scale\":0,\"leakyrelu_alpha\":0},\"force_earliest_schedule\":false,\"reification_cost\":[]}\n",
      "2025-10-24 21:55:45.503270: I external/local_xla/xla/service/gpu/autotuning/conv_algorithm_picker.cc:546] Omitted potentially buggy algorithm eng14{k25=2} for conv (f32[23,256,8,8]{3,2,1,0}, u8[0]{0}) custom-call(f32[23,256,8,8]{3,2,1,0}, f32[256,256,3,3]{3,2,1,0}, f32[256]{0}), window={size=3x3 pad=1_1x1_1}, dim_labels=bf01_oi01->bf01, custom_call_target=\"__cudnn$convBiasActivationForward\", backend_config={\"operation_queue_id\":\"0\",\"wait_on_operation_queues\":[],\"cudnn_conv_backend_config\":{\"activation_mode\":\"kNone\",\"conv_result_scale\":1,\"side_input_scale\":0,\"leakyrelu_alpha\":0},\"force_earliest_schedule\":false,\"reification_cost\":[]}\n",
      "2025-10-24 21:55:45.877097: I external/local_xla/xla/service/gpu/autotuning/conv_algorithm_picker.cc:546] Omitted potentially buggy algorithm eng14{k25=2} for conv (f32[23,512,4,4]{3,2,1,0}, u8[0]{0}) custom-call(f32[23,512,4,4]{3,2,1,0}, f32[512,512,3,3]{3,2,1,0}, f32[512]{0}), window={size=3x3 pad=1_1x1_1}, dim_labels=bf01_oi01->bf01, custom_call_target=\"__cudnn$convBiasActivationForward\", backend_config={\"operation_queue_id\":\"0\",\"wait_on_operation_queues\":[],\"cudnn_conv_backend_config\":{\"activation_mode\":\"kNone\",\"conv_result_scale\":1,\"side_input_scale\":0,\"leakyrelu_alpha\":0},\"force_earliest_schedule\":false,\"reification_cost\":[]}\n",
      "2025-10-24 21:55:45.877097: I external/local_xla/xla/service/gpu/autotuning/conv_algorithm_picker.cc:546] Omitted potentially buggy algorithm eng14{k25=2} for conv (f32[23,512,4,4]{3,2,1,0}, u8[0]{0}) custom-call(f32[23,512,4,4]{3,2,1,0}, f32[512,512,3,3]{3,2,1,0}, f32[512]{0}), window={size=3x3 pad=1_1x1_1}, dim_labels=bf01_oi01->bf01, custom_call_target=\"__cudnn$convBiasActivationForward\", backend_config={\"operation_queue_id\":\"0\",\"wait_on_operation_queues\":[],\"cudnn_conv_backend_config\":{\"activation_mode\":\"kNone\",\"conv_result_scale\":1,\"side_input_scale\":0,\"leakyrelu_alpha\":0},\"force_earliest_schedule\":false,\"reification_cost\":[]}\n"
     ]
    },
    {
     "name": "stdout",
     "output_type": "stream",
     "text": [
      "\u001b[1m152/152\u001b[0m \u001b[32m━━━━━━━━━━━━━━━━━━━━\u001b[0m\u001b[37m\u001b[0m \u001b[1m35s\u001b[0m 156ms/step - accuracy: 0.6817 - loss: 0.9260 - val_accuracy: 0.7789 - val_loss: 0.6142 - learning_rate: 0.0010\n",
      "Epoch 2/5\n",
      "Epoch 2/5\n",
      "\u001b[1m152/152\u001b[0m \u001b[32m━━━━━━━━━━━━━━━━━━━━\u001b[0m\u001b[37m\u001b[0m \u001b[1m12s\u001b[0m 77ms/step - accuracy: 0.7590 - loss: 0.6497 - val_accuracy: 0.7895 - val_loss: 0.5106 - learning_rate: 0.0010\n",
      "Epoch 3/5\n",
      "\u001b[1m152/152\u001b[0m \u001b[32m━━━━━━━━━━━━━━━━━━━━\u001b[0m\u001b[37m\u001b[0m \u001b[1m12s\u001b[0m 77ms/step - accuracy: 0.7590 - loss: 0.6497 - val_accuracy: 0.7895 - val_loss: 0.5106 - learning_rate: 0.0010\n",
      "Epoch 3/5\n",
      "\u001b[1m152/152\u001b[0m \u001b[32m━━━━━━━━━━━━━━━━━━━━\u001b[0m\u001b[37m\u001b[0m \u001b[1m12s\u001b[0m 78ms/step - accuracy: 0.7754 - loss: 0.5556 - val_accuracy: 0.7953 - val_loss: 0.5471 - learning_rate: 0.0010\n",
      "Epoch 4/5\n",
      "\u001b[1m152/152\u001b[0m \u001b[32m━━━━━━━━━━━━━━━━━━━━\u001b[0m\u001b[37m\u001b[0m \u001b[1m12s\u001b[0m 78ms/step - accuracy: 0.7754 - loss: 0.5556 - val_accuracy: 0.7953 - val_loss: 0.5471 - learning_rate: 0.0010\n",
      "Epoch 4/5\n",
      "\u001b[1m152/152\u001b[0m \u001b[32m━━━━━━━━━━━━━━━━━━━━\u001b[0m\u001b[37m\u001b[0m \u001b[1m0s\u001b[0m 69ms/step - accuracy: 0.7911 - loss: 0.5070\n",
      "Epoch 4: ReduceLROnPlateau reducing learning rate to 0.0005000000237487257.\n",
      "\u001b[1m152/152\u001b[0m \u001b[32m━━━━━━━━━━━━━━━━━━━━\u001b[0m\u001b[37m\u001b[0m \u001b[1m12s\u001b[0m 79ms/step - accuracy: 0.8032 - loss: 0.4953 - val_accuracy: 0.7813 - val_loss: 0.5685 - learning_rate: 0.0010\n",
      "Epoch 5/5\n",
      "\n",
      "Epoch 4: ReduceLROnPlateau reducing learning rate to 0.0005000000237487257.\n",
      "\u001b[1m152/152\u001b[0m \u001b[32m━━━━━━━━━━━━━━━━━━━━\u001b[0m\u001b[37m\u001b[0m \u001b[1m12s\u001b[0m 79ms/step - accuracy: 0.8032 - loss: 0.4953 - val_accuracy: 0.7813 - val_loss: 0.5685 - learning_rate: 0.0010\n",
      "Epoch 5/5\n",
      "\u001b[1m152/152\u001b[0m \u001b[32m━━━━━━━━━━━━━━━━━━━━\u001b[0m\u001b[37m\u001b[0m \u001b[1m12s\u001b[0m 78ms/step - accuracy: 0.8149 - loss: 0.4476 - val_accuracy: 0.8140 - val_loss: 0.4456 - learning_rate: 5.0000e-04\n",
      "\n",
      "✅ Phase 1 completed!\n",
      "Final accuracy: 0.8149\n",
      "Final val_accuracy: 0.8140\n",
      "\u001b[1m152/152\u001b[0m \u001b[32m━━━━━━━━━━━━━━━━━━━━\u001b[0m\u001b[37m\u001b[0m \u001b[1m12s\u001b[0m 78ms/step - accuracy: 0.8149 - loss: 0.4476 - val_accuracy: 0.8140 - val_loss: 0.4456 - learning_rate: 5.0000e-04\n",
      "\n",
      "✅ Phase 1 completed!\n",
      "Final accuracy: 0.8149\n",
      "Final val_accuracy: 0.8140\n"
     ]
    }
   ],
   "source": [
    "print(\"=\"*70)\n",
    "print(\"PHASE 1: Training Classifier Only\")\n",
    "print(\"=\"*70)\n",
    "print(\"Base model: FROZEN\")\n",
    "print(\"Learning rate: 0.001\")\n",
    "print(\"Epochs: 5\\n\")\n",
    "\n",
    "# Compile model\n",
    "model.compile(\n",
    "    optimizer=Adam(learning_rate=LEARNING_RATE_PHASE1),\n",
    "    loss='categorical_crossentropy',\n",
    "    metrics=['accuracy']\n",
    ")\n",
    "\n",
    "# Callbacks\n",
    "timestamp = datetime.now().strftime(\"%Y%m%d_%H%M%S\")\n",
    "callbacks_phase1 = [\n",
    "    ReduceLROnPlateau(\n",
    "        monitor='val_loss',\n",
    "        factor=0.5,\n",
    "        patience=2,\n",
    "        min_lr=1e-7,\n",
    "        verbose=1\n",
    "    )\n",
    "]\n",
    "\n",
    "# Train\n",
    "history_phase1 = model.fit(\n",
    "    train_generator,\n",
    "    epochs=5,\n",
    "    validation_data=val_generator,\n",
    "    callbacks=callbacks_phase1,\n",
    "    verbose=1\n",
    ")\n",
    "\n",
    "print(\"\\n✅ Phase 1 completed!\")\n",
    "print(f\"Final accuracy: {history_phase1.history['accuracy'][-1]:.4f}\")\n",
    "print(f\"Final val_accuracy: {history_phase1.history['val_accuracy'][-1]:.4f}\")"
   ]
  },
  {
   "cell_type": "markdown",
   "id": "3483cda6",
   "metadata": {},
   "source": [
    "## 7. Phase 2: Fine-tune Top Layers (12 epochs)"
   ]
  },
  {
   "cell_type": "code",
   "execution_count": 7,
   "id": "d88a875c",
   "metadata": {},
   "outputs": [
    {
     "name": "stdout",
     "output_type": "stream",
     "text": [
      "\n",
      "======================================================================\n",
      "PHASE 2: Fine-tuning Top Layers\n",
      "======================================================================\n",
      "Trainable layers in base model: 30 / 175\n",
      "Learning rate: 0.0001\n",
      "Epochs: 12\n",
      "\n",
      "Epoch 1/12\n",
      "\u001b[1m125/152\u001b[0m \u001b[32m━━━━━━━━━━━━━━━━\u001b[0m\u001b[37m━━━━\u001b[0m \u001b[1m2s\u001b[0m 104ms/step - accuracy: 0.7959 - loss: 0.5015"
     ]
    },
    {
     "name": "stderr",
     "output_type": "stream",
     "text": [
      "2025-10-24 21:57:06.070234: W external/local_xla/xla/tsl/framework/bfc_allocator.cc:310] Allocator (GPU_0_bfc) ran out of memory trying to allocate 2.27GiB with freed_by_count=0. The caller indicates that this is not a failure, but this may mean that there could be performance gains if more memory were available.\n",
      "2025-10-24 21:57:06.293404: W external/local_xla/xla/tsl/framework/bfc_allocator.cc:310] Allocator (GPU_0_bfc) ran out of memory trying to allocate 2.27GiB with freed_by_count=0. The caller indicates that this is not a failure, but this may mean that there could be performance gains if more memory were available.\n",
      "2025-10-24 21:57:06.293404: W external/local_xla/xla/tsl/framework/bfc_allocator.cc:310] Allocator (GPU_0_bfc) ran out of memory trying to allocate 2.27GiB with freed_by_count=0. The caller indicates that this is not a failure, but this may mean that there could be performance gains if more memory were available.\n"
     ]
    },
    {
     "name": "stdout",
     "output_type": "stream",
     "text": [
      "\u001b[1m152/152\u001b[0m \u001b[32m━━━━━━━━━━━━━━━━━━━━\u001b[0m\u001b[37m\u001b[0m \u001b[1m0s\u001b[0m 147ms/step - accuracy: 0.7997 - loss: 0.4949\n",
      "Epoch 1: val_loss improved from None to 0.47528, saving model to ../../outputs/models/transfer_learning/resnet50_phase2_20251024_215511.keras\n",
      "\n",
      "Epoch 1: val_loss improved from None to 0.47528, saving model to ../../outputs/models/transfer_learning/resnet50_phase2_20251024_215511.keras\n",
      "\u001b[1m152/152\u001b[0m \u001b[32m━━━━━━━━━━━━━━━━━━━━\u001b[0m\u001b[37m\u001b[0m \u001b[1m44s\u001b[0m 194ms/step - accuracy: 0.8180 - loss: 0.4643 - val_accuracy: 0.8105 - val_loss: 0.4753 - learning_rate: 1.0000e-04\n",
      "Epoch 2/12\n",
      "\u001b[1m152/152\u001b[0m \u001b[32m━━━━━━━━━━━━━━━━━━━━\u001b[0m\u001b[37m\u001b[0m \u001b[1m44s\u001b[0m 194ms/step - accuracy: 0.8180 - loss: 0.4643 - val_accuracy: 0.8105 - val_loss: 0.4753 - learning_rate: 1.0000e-04\n",
      "Epoch 2/12\n",
      "\u001b[1m152/152\u001b[0m \u001b[32m━━━━━━━━━━━━━━━━━━━━\u001b[0m\u001b[37m\u001b[0m \u001b[1m0s\u001b[0m 104ms/step - accuracy: 0.8625 - loss: 0.3468\n",
      "Epoch 2: val_loss improved from 0.47528 to 0.40565, saving model to ../../outputs/models/transfer_learning/resnet50_phase2_20251024_215511.keras\n",
      "\n",
      "Epoch 2: val_loss improved from 0.47528 to 0.40565, saving model to ../../outputs/models/transfer_learning/resnet50_phase2_20251024_215511.keras\n",
      "\u001b[1m152/152\u001b[0m \u001b[32m━━━━━━━━━━━━━━━━━━━━\u001b[0m\u001b[37m\u001b[0m \u001b[1m19s\u001b[0m 124ms/step - accuracy: 0.8645 - loss: 0.3483 - val_accuracy: 0.8444 - val_loss: 0.4057 - learning_rate: 1.0000e-04\n",
      "Epoch 3/12\n",
      "\u001b[1m152/152\u001b[0m \u001b[32m━━━━━━━━━━━━━━━━━━━━\u001b[0m\u001b[37m\u001b[0m \u001b[1m19s\u001b[0m 124ms/step - accuracy: 0.8645 - loss: 0.3483 - val_accuracy: 0.8444 - val_loss: 0.4057 - learning_rate: 1.0000e-04\n",
      "Epoch 3/12\n",
      "\u001b[1m152/152\u001b[0m \u001b[32m━━━━━━━━━━━━━━━━━━━━\u001b[0m\u001b[37m\u001b[0m \u001b[1m0s\u001b[0m 104ms/step - accuracy: 0.8723 - loss: 0.3172\n",
      "Epoch 3: val_loss improved from 0.40565 to 0.38962, saving model to ../../outputs/models/transfer_learning/resnet50_phase2_20251024_215511.keras\n",
      "\n",
      "Epoch 3: val_loss improved from 0.40565 to 0.38962, saving model to ../../outputs/models/transfer_learning/resnet50_phase2_20251024_215511.keras\n",
      "\u001b[1m152/152\u001b[0m \u001b[32m━━━━━━━━━━━━━━━━━━━━\u001b[0m\u001b[37m\u001b[0m \u001b[1m19s\u001b[0m 125ms/step - accuracy: 0.8830 - loss: 0.2977 - val_accuracy: 0.8374 - val_loss: 0.3896 - learning_rate: 1.0000e-04\n",
      "Epoch 4/12\n",
      "\u001b[1m152/152\u001b[0m \u001b[32m━━━━━━━━━━━━━━━━━━━━\u001b[0m\u001b[37m\u001b[0m \u001b[1m19s\u001b[0m 125ms/step - accuracy: 0.8830 - loss: 0.2977 - val_accuracy: 0.8374 - val_loss: 0.3896 - learning_rate: 1.0000e-04\n",
      "Epoch 4/12\n",
      "\u001b[1m152/152\u001b[0m \u001b[32m━━━━━━━━━━━━━━━━━━━━\u001b[0m\u001b[37m\u001b[0m \u001b[1m0s\u001b[0m 104ms/step - accuracy: 0.8911 - loss: 0.2715\n",
      "Epoch 4: val_loss improved from 0.38962 to 0.34000, saving model to ../../outputs/models/transfer_learning/resnet50_phase2_20251024_215511.keras\n",
      "\n",
      "Epoch 4: val_loss improved from 0.38962 to 0.34000, saving model to ../../outputs/models/transfer_learning/resnet50_phase2_20251024_215511.keras\n",
      "\u001b[1m152/152\u001b[0m \u001b[32m━━━━━━━━━━━━━━━━━━━━\u001b[0m\u001b[37m\u001b[0m \u001b[1m19s\u001b[0m 124ms/step - accuracy: 0.8966 - loss: 0.2667 - val_accuracy: 0.8702 - val_loss: 0.3400 - learning_rate: 1.0000e-04\n",
      "Epoch 5/12\n",
      "\u001b[1m152/152\u001b[0m \u001b[32m━━━━━━━━━━━━━━━━━━━━\u001b[0m\u001b[37m\u001b[0m \u001b[1m19s\u001b[0m 124ms/step - accuracy: 0.8966 - loss: 0.2667 - val_accuracy: 0.8702 - val_loss: 0.3400 - learning_rate: 1.0000e-04\n",
      "Epoch 5/12\n",
      "\u001b[1m152/152\u001b[0m \u001b[32m━━━━━━━━━━━━━━━━━━━━\u001b[0m\u001b[37m\u001b[0m \u001b[1m0s\u001b[0m 104ms/step - accuracy: 0.9000 - loss: 0.2473\n",
      "Epoch 5: val_loss improved from 0.34000 to 0.25160, saving model to ../../outputs/models/transfer_learning/resnet50_phase2_20251024_215511.keras\n",
      "\n",
      "Epoch 5: val_loss improved from 0.34000 to 0.25160, saving model to ../../outputs/models/transfer_learning/resnet50_phase2_20251024_215511.keras\n",
      "\u001b[1m152/152\u001b[0m \u001b[32m━━━━━━━━━━━━━━━━━━━━\u001b[0m\u001b[37m\u001b[0m \u001b[1m19s\u001b[0m 125ms/step - accuracy: 0.9050 - loss: 0.2484 - val_accuracy: 0.9029 - val_loss: 0.2516 - learning_rate: 1.0000e-04\n",
      "Epoch 6/12\n",
      "\u001b[1m152/152\u001b[0m \u001b[32m━━━━━━━━━━━━━━━━━━━━\u001b[0m\u001b[37m\u001b[0m \u001b[1m19s\u001b[0m 125ms/step - accuracy: 0.9050 - loss: 0.2484 - val_accuracy: 0.9029 - val_loss: 0.2516 - learning_rate: 1.0000e-04\n",
      "Epoch 6/12\n",
      "\u001b[1m152/152\u001b[0m \u001b[32m━━━━━━━━━━━━━━━━━━━━\u001b[0m\u001b[37m\u001b[0m \u001b[1m0s\u001b[0m 105ms/step - accuracy: 0.9195 - loss: 0.2201\n",
      "Epoch 6: val_loss did not improve from 0.25160\n",
      "\u001b[1m152/152\u001b[0m \u001b[32m━━━━━━━━━━━━━━━━━━━━\u001b[0m\u001b[37m\u001b[0m \u001b[1m18s\u001b[0m 115ms/step - accuracy: 0.9167 - loss: 0.2287 - val_accuracy: 0.8936 - val_loss: 0.2831 - learning_rate: 1.0000e-04\n",
      "Epoch 7/12\n",
      "\n",
      "Epoch 6: val_loss did not improve from 0.25160\n",
      "\u001b[1m152/152\u001b[0m \u001b[32m━━━━━━━━━━━━━━━━━━━━\u001b[0m\u001b[37m\u001b[0m \u001b[1m18s\u001b[0m 115ms/step - accuracy: 0.9167 - loss: 0.2287 - val_accuracy: 0.8936 - val_loss: 0.2831 - learning_rate: 1.0000e-04\n",
      "Epoch 7/12\n",
      "\u001b[1m152/152\u001b[0m \u001b[32m━━━━━━━━━━━━━━━━━━━━\u001b[0m\u001b[37m\u001b[0m \u001b[1m0s\u001b[0m 104ms/step - accuracy: 0.9277 - loss: 0.1998\n",
      "Epoch 7: val_loss did not improve from 0.25160\n",
      "\u001b[1m152/152\u001b[0m \u001b[32m━━━━━━━━━━━━━━━━━━━━\u001b[0m\u001b[37m\u001b[0m \u001b[1m17s\u001b[0m 114ms/step - accuracy: 0.9157 - loss: 0.2202 - val_accuracy: 0.8877 - val_loss: 0.2974 - learning_rate: 1.0000e-04\n",
      "Epoch 8/12\n",
      "\n",
      "Epoch 7: val_loss did not improve from 0.25160\n",
      "\u001b[1m152/152\u001b[0m \u001b[32m━━━━━━━━━━━━━━━━━━━━\u001b[0m\u001b[37m\u001b[0m \u001b[1m17s\u001b[0m 114ms/step - accuracy: 0.9157 - loss: 0.2202 - val_accuracy: 0.8877 - val_loss: 0.2974 - learning_rate: 1.0000e-04\n",
      "Epoch 8/12\n",
      "\u001b[1m152/152\u001b[0m \u001b[32m━━━━━━━━━━━━━━━━━━━━\u001b[0m\u001b[37m\u001b[0m \u001b[1m0s\u001b[0m 104ms/step - accuracy: 0.9224 - loss: 0.1894\n",
      "Epoch 8: val_loss did not improve from 0.25160\n",
      "\n",
      "Epoch 8: ReduceLROnPlateau reducing learning rate to 4.999999873689376e-05.\n",
      "\u001b[1m152/152\u001b[0m \u001b[32m━━━━━━━━━━━━━━━━━━━━\u001b[0m\u001b[37m\u001b[0m \u001b[1m17s\u001b[0m 114ms/step - accuracy: 0.9241 - loss: 0.1956 - val_accuracy: 0.8936 - val_loss: 0.3030 - learning_rate: 1.0000e-04\n",
      "Epoch 9/12\n",
      "\n",
      "Epoch 8: val_loss did not improve from 0.25160\n",
      "\n",
      "Epoch 8: ReduceLROnPlateau reducing learning rate to 4.999999873689376e-05.\n",
      "\u001b[1m152/152\u001b[0m \u001b[32m━━━━━━━━━━━━━━━━━━━━\u001b[0m\u001b[37m\u001b[0m \u001b[1m17s\u001b[0m 114ms/step - accuracy: 0.9241 - loss: 0.1956 - val_accuracy: 0.8936 - val_loss: 0.3030 - learning_rate: 1.0000e-04\n",
      "Epoch 9/12\n",
      "\u001b[1m152/152\u001b[0m \u001b[32m━━━━━━━━━━━━━━━━━━━━\u001b[0m\u001b[37m\u001b[0m \u001b[1m0s\u001b[0m 104ms/step - accuracy: 0.9299 - loss: 0.1741\n",
      "Epoch 9: val_loss improved from 0.25160 to 0.23086, saving model to ../../outputs/models/transfer_learning/resnet50_phase2_20251024_215511.keras\n",
      "\n",
      "Epoch 9: val_loss improved from 0.25160 to 0.23086, saving model to ../../outputs/models/transfer_learning/resnet50_phase2_20251024_215511.keras\n",
      "\u001b[1m152/152\u001b[0m \u001b[32m━━━━━━━━━━━━━━━━━━━━\u001b[0m\u001b[37m\u001b[0m \u001b[1m19s\u001b[0m 125ms/step - accuracy: 0.9334 - loss: 0.1709 - val_accuracy: 0.9135 - val_loss: 0.2309 - learning_rate: 5.0000e-05\n",
      "Epoch 10/12\n",
      "\u001b[1m152/152\u001b[0m \u001b[32m━━━━━━━━━━━━━━━━━━━━\u001b[0m\u001b[37m\u001b[0m \u001b[1m19s\u001b[0m 125ms/step - accuracy: 0.9334 - loss: 0.1709 - val_accuracy: 0.9135 - val_loss: 0.2309 - learning_rate: 5.0000e-05\n",
      "Epoch 10/12\n",
      "\u001b[1m152/152\u001b[0m \u001b[32m━━━━━━━━━━━━━━━━━━━━\u001b[0m\u001b[37m\u001b[0m \u001b[1m0s\u001b[0m 104ms/step - accuracy: 0.9456 - loss: 0.1398\n",
      "Epoch 10: val_loss did not improve from 0.23086\n",
      "\u001b[1m152/152\u001b[0m \u001b[32m━━━━━━━━━━━━━━━━━━━━\u001b[0m\u001b[37m\u001b[0m \u001b[1m17s\u001b[0m 114ms/step - accuracy: 0.9459 - loss: 0.1388 - val_accuracy: 0.9193 - val_loss: 0.2474 - learning_rate: 5.0000e-05\n",
      "Epoch 11/12\n",
      "\n",
      "Epoch 10: val_loss did not improve from 0.23086\n",
      "\u001b[1m152/152\u001b[0m \u001b[32m━━━━━━━━━━━━━━━━━━━━\u001b[0m\u001b[37m\u001b[0m \u001b[1m17s\u001b[0m 114ms/step - accuracy: 0.9459 - loss: 0.1388 - val_accuracy: 0.9193 - val_loss: 0.2474 - learning_rate: 5.0000e-05\n",
      "Epoch 11/12\n",
      "\u001b[1m152/152\u001b[0m \u001b[32m━━━━━━━━━━━━━━━━━━━━\u001b[0m\u001b[37m\u001b[0m \u001b[1m0s\u001b[0m 104ms/step - accuracy: 0.9555 - loss: 0.1296\n",
      "Epoch 11: val_loss did not improve from 0.23086\n",
      "\u001b[1m152/152\u001b[0m \u001b[32m━━━━━━━━━━━━━━━━━━━━\u001b[0m\u001b[37m\u001b[0m \u001b[1m17s\u001b[0m 114ms/step - accuracy: 0.9488 - loss: 0.1398 - val_accuracy: 0.8971 - val_loss: 0.2911 - learning_rate: 5.0000e-05\n",
      "Epoch 12/12\n",
      "\n",
      "Epoch 11: val_loss did not improve from 0.23086\n",
      "\u001b[1m152/152\u001b[0m \u001b[32m━━━━━━━━━━━━━━━━━━━━\u001b[0m\u001b[37m\u001b[0m \u001b[1m17s\u001b[0m 114ms/step - accuracy: 0.9488 - loss: 0.1398 - val_accuracy: 0.8971 - val_loss: 0.2911 - learning_rate: 5.0000e-05\n",
      "Epoch 12/12\n",
      "\u001b[1m152/152\u001b[0m \u001b[32m━━━━━━━━━━━━━━━━━━━━\u001b[0m\u001b[37m\u001b[0m \u001b[1m0s\u001b[0m 104ms/step - accuracy: 0.9546 - loss: 0.1333\n",
      "Epoch 12: val_loss did not improve from 0.23086\n",
      "\n",
      "Epoch 12: ReduceLROnPlateau reducing learning rate to 2.499999936844688e-05.\n",
      "\u001b[1m152/152\u001b[0m \u001b[32m━━━━━━━━━━━━━━━━━━━━\u001b[0m\u001b[37m\u001b[0m \u001b[1m17s\u001b[0m 114ms/step - accuracy: 0.9535 - loss: 0.1302 - val_accuracy: 0.9181 - val_loss: 0.2572 - learning_rate: 5.0000e-05\n",
      "Restoring model weights from the end of the best epoch: 9.\n",
      "\n",
      "Epoch 12: val_loss did not improve from 0.23086\n",
      "\n",
      "Epoch 12: ReduceLROnPlateau reducing learning rate to 2.499999936844688e-05.\n",
      "\u001b[1m152/152\u001b[0m \u001b[32m━━━━━━━━━━━━━━━━━━━━\u001b[0m\u001b[37m\u001b[0m \u001b[1m17s\u001b[0m 114ms/step - accuracy: 0.9535 - loss: 0.1302 - val_accuracy: 0.9181 - val_loss: 0.2572 - learning_rate: 5.0000e-05\n",
      "Restoring model weights from the end of the best epoch: 9.\n",
      "\n",
      "✅ Phase 2 completed!\n",
      "Best val_accuracy: 0.9193\n",
      "\n",
      "✅ Phase 2 completed!\n",
      "Best val_accuracy: 0.9193\n"
     ]
    }
   ],
   "source": [
    "print(\"\\n\" + \"=\"*70)\n",
    "print(\"PHASE 2: Fine-tuning Top Layers\")\n",
    "print(\"=\"*70)\n",
    "\n",
    "# Unfreeze last residual blocks (conv5)\n",
    "base_model.trainable = True\n",
    "\n",
    "# Freeze bottom layers (keep conv1-conv4 frozen)\n",
    "for layer in base_model.layers[:-30]:\n",
    "    layer.trainable = False\n",
    "\n",
    "# Count trainable layers\n",
    "trainable_layers = sum([layer.trainable for layer in base_model.layers])\n",
    "print(f\"Trainable layers in base model: {trainable_layers} / {len(base_model.layers)}\")\n",
    "\n",
    "# Recompile with lower learning rate\n",
    "model.compile(\n",
    "    optimizer=Adam(learning_rate=LEARNING_RATE_PHASE2),\n",
    "    loss='categorical_crossentropy',\n",
    "    metrics=['accuracy']\n",
    ")\n",
    "\n",
    "print(f\"Learning rate: {LEARNING_RATE_PHASE2}\")\n",
    "print(f\"Epochs: 12\\n\")\n",
    "\n",
    "# Callbacks\n",
    "model_path_phase2 = os.path.join(MODEL_DIR, f\"resnet50_phase2_{timestamp}.keras\")\n",
    "callbacks_phase2 = [\n",
    "    EarlyStopping(\n",
    "        monitor='val_loss',\n",
    "        patience=5,\n",
    "        restore_best_weights=True,\n",
    "        verbose=1\n",
    "    ),\n",
    "    ModelCheckpoint(\n",
    "        filepath=model_path_phase2,\n",
    "        monitor='val_loss',\n",
    "        save_best_only=True,\n",
    "        verbose=1\n",
    "    ),\n",
    "    ReduceLROnPlateau(\n",
    "        monitor='val_loss',\n",
    "        factor=0.5,\n",
    "        patience=3,\n",
    "        min_lr=1e-8,\n",
    "        verbose=1\n",
    "    )\n",
    "]\n",
    "\n",
    "# Train\n",
    "history_phase2 = model.fit(\n",
    "    train_generator,\n",
    "    epochs=12,\n",
    "    validation_data=val_generator,\n",
    "    callbacks=callbacks_phase2,\n",
    "    verbose=1\n",
    ")\n",
    "\n",
    "print(\"\\n✅ Phase 2 completed!\")\n",
    "print(f\"Best val_accuracy: {max(history_phase2.history['val_accuracy']):.4f}\")"
   ]
  },
  {
   "cell_type": "markdown",
   "id": "ba41b0cd",
   "metadata": {},
   "source": [
    "## 8. Phase 3: Final Training (8 epochs)"
   ]
  },
  {
   "cell_type": "code",
   "execution_count": 8,
   "id": "90e86ed0",
   "metadata": {},
   "outputs": [
    {
     "name": "stdout",
     "output_type": "stream",
     "text": [
      "\n",
      "======================================================================\n",
      "PHASE 3: Final Training\n",
      "======================================================================\n",
      "All layers unfrozen\n",
      "Learning rate: 1e-05\n",
      "Epochs: 8\n",
      "\n",
      "Epoch 1/8\n",
      "Epoch 1/8\n",
      "\u001b[1m 43/152\u001b[0m \u001b[32m━━━━━\u001b[0m\u001b[37m━━━━━━━━━━━━━━━\u001b[0m \u001b[1m23s\u001b[0m 218ms/step - accuracy: 0.8628 - loss: 0.3722"
     ]
    },
    {
     "name": "stderr",
     "output_type": "stream",
     "text": [
      "2025-10-24 22:01:35.936127: W external/local_xla/xla/tsl/framework/bfc_allocator.cc:310] Allocator (GPU_0_bfc) ran out of memory trying to allocate 1.22GiB with freed_by_count=0. The caller indicates that this is not a failure, but this may mean that there could be performance gains if more memory were available.\n"
     ]
    },
    {
     "name": "stdout",
     "output_type": "stream",
     "text": [
      "\u001b[1m152/152\u001b[0m \u001b[32m━━━━━━━━━━━━━━━━━━━━\u001b[0m\u001b[37m\u001b[0m \u001b[1m0s\u001b[0m 339ms/step - accuracy: 0.8805 - loss: 0.3230\n",
      "Epoch 1: val_loss improved from None to 0.37541, saving model to ../../outputs/models/transfer_learning/resnet50_final_20251024_215511.keras\n",
      "\n",
      "Epoch 1: val_loss improved from None to 0.37541, saving model to ../../outputs/models/transfer_learning/resnet50_final_20251024_215511.keras\n",
      "\u001b[1m152/152\u001b[0m \u001b[32m━━━━━━━━━━━━━━━━━━━━\u001b[0m\u001b[37m\u001b[0m \u001b[1m99s\u001b[0m 386ms/step - accuracy: 0.8957 - loss: 0.2783 - val_accuracy: 0.8702 - val_loss: 0.3754\n",
      "Epoch 2/8\n",
      "\u001b[1m152/152\u001b[0m \u001b[32m━━━━━━━━━━━━━━━━━━━━\u001b[0m\u001b[37m\u001b[0m \u001b[1m99s\u001b[0m 386ms/step - accuracy: 0.8957 - loss: 0.2783 - val_accuracy: 0.8702 - val_loss: 0.3754\n",
      "Epoch 2/8\n",
      "\u001b[1m152/152\u001b[0m \u001b[32m━━━━━━━━━━━━━━━━━━━━\u001b[0m\u001b[37m\u001b[0m \u001b[1m0s\u001b[0m 218ms/step - accuracy: 0.9178 - loss: 0.2231\n",
      "Epoch 2: val_loss did not improve from 0.37541\n",
      "\u001b[1m152/152\u001b[0m \u001b[32m━━━━━━━━━━━━━━━━━━━━\u001b[0m\u001b[37m\u001b[0m \u001b[1m35s\u001b[0m 228ms/step - accuracy: 0.9194 - loss: 0.2196 - val_accuracy: 0.7871 - val_loss: 0.6584\n",
      "Epoch 3/8\n",
      "\n",
      "Epoch 2: val_loss did not improve from 0.37541\n",
      "\u001b[1m152/152\u001b[0m \u001b[32m━━━━━━━━━━━━━━━━━━━━\u001b[0m\u001b[37m\u001b[0m \u001b[1m35s\u001b[0m 228ms/step - accuracy: 0.9194 - loss: 0.2196 - val_accuracy: 0.7871 - val_loss: 0.6584\n",
      "Epoch 3/8\n",
      "\u001b[1m152/152\u001b[0m \u001b[32m━━━━━━━━━━━━━━━━━━━━\u001b[0m\u001b[37m\u001b[0m \u001b[1m0s\u001b[0m 218ms/step - accuracy: 0.9324 - loss: 0.1709\n",
      "Epoch 3: val_loss did not improve from 0.37541\n",
      "\u001b[1m152/152\u001b[0m \u001b[32m━━━━━━━━━━━━━━━━━━━━\u001b[0m\u001b[37m\u001b[0m \u001b[1m35s\u001b[0m 228ms/step - accuracy: 0.9297 - loss: 0.1781 - val_accuracy: 0.8246 - val_loss: 0.5149\n",
      "Epoch 4/8\n",
      "\n",
      "Epoch 3: val_loss did not improve from 0.37541\n",
      "\u001b[1m152/152\u001b[0m \u001b[32m━━━━━━━━━━━━━━━━━━━━\u001b[0m\u001b[37m\u001b[0m \u001b[1m35s\u001b[0m 228ms/step - accuracy: 0.9297 - loss: 0.1781 - val_accuracy: 0.8246 - val_loss: 0.5149\n",
      "Epoch 4/8\n",
      "\u001b[1m152/152\u001b[0m \u001b[32m━━━━━━━━━━━━━━━━━━━━\u001b[0m\u001b[37m\u001b[0m \u001b[1m0s\u001b[0m 219ms/step - accuracy: 0.9435 - loss: 0.1618\n",
      "Epoch 4: val_loss improved from 0.37541 to 0.31477, saving model to ../../outputs/models/transfer_learning/resnet50_final_20251024_215511.keras\n",
      "\n",
      "Epoch 4: val_loss improved from 0.37541 to 0.31477, saving model to ../../outputs/models/transfer_learning/resnet50_final_20251024_215511.keras\n",
      "\u001b[1m152/152\u001b[0m \u001b[32m━━━━━━━━━━━━━━━━━━━━\u001b[0m\u001b[37m\u001b[0m \u001b[1m37s\u001b[0m 241ms/step - accuracy: 0.9397 - loss: 0.1674 - val_accuracy: 0.8889 - val_loss: 0.3148\n",
      "Epoch 5/8\n",
      "\u001b[1m152/152\u001b[0m \u001b[32m━━━━━━━━━━━━━━━━━━━━\u001b[0m\u001b[37m\u001b[0m \u001b[1m37s\u001b[0m 241ms/step - accuracy: 0.9397 - loss: 0.1674 - val_accuracy: 0.8889 - val_loss: 0.3148\n",
      "Epoch 5/8\n",
      "\u001b[1m152/152\u001b[0m \u001b[32m━━━━━━━━━━━━━━━━━━━━\u001b[0m\u001b[37m\u001b[0m \u001b[1m0s\u001b[0m 219ms/step - accuracy: 0.9462 - loss: 0.1465\n",
      "Epoch 5: val_loss improved from 0.31477 to 0.24030, saving model to ../../outputs/models/transfer_learning/resnet50_final_20251024_215511.keras\n",
      "\n",
      "Epoch 5: val_loss improved from 0.31477 to 0.24030, saving model to ../../outputs/models/transfer_learning/resnet50_final_20251024_215511.keras\n",
      "\u001b[1m152/152\u001b[0m \u001b[32m━━━━━━━━━━━━━━━━━━━━\u001b[0m\u001b[37m\u001b[0m \u001b[1m37s\u001b[0m 242ms/step - accuracy: 0.9459 - loss: 0.1496 - val_accuracy: 0.9135 - val_loss: 0.2403\n",
      "Epoch 6/8\n",
      "\u001b[1m152/152\u001b[0m \u001b[32m━━━━━━━━━━━━━━━━━━━━\u001b[0m\u001b[37m\u001b[0m \u001b[1m37s\u001b[0m 242ms/step - accuracy: 0.9459 - loss: 0.1496 - val_accuracy: 0.9135 - val_loss: 0.2403\n",
      "Epoch 6/8\n",
      "\u001b[1m152/152\u001b[0m \u001b[32m━━━━━━━━━━━━━━━━━━━━\u001b[0m\u001b[37m\u001b[0m \u001b[1m0s\u001b[0m 218ms/step - accuracy: 0.9426 - loss: 0.1472\n",
      "Epoch 6: val_loss improved from 0.24030 to 0.20555, saving model to ../../outputs/models/transfer_learning/resnet50_final_20251024_215511.keras\n",
      "\n",
      "Epoch 6: val_loss improved from 0.24030 to 0.20555, saving model to ../../outputs/models/transfer_learning/resnet50_final_20251024_215511.keras\n",
      "\u001b[1m152/152\u001b[0m \u001b[32m━━━━━━━━━━━━━━━━━━━━\u001b[0m\u001b[37m\u001b[0m \u001b[1m37s\u001b[0m 244ms/step - accuracy: 0.9443 - loss: 0.1455 - val_accuracy: 0.9287 - val_loss: 0.2055\n",
      "Epoch 7/8\n",
      "\u001b[1m152/152\u001b[0m \u001b[32m━━━━━━━━━━━━━━━━━━━━\u001b[0m\u001b[37m\u001b[0m \u001b[1m37s\u001b[0m 244ms/step - accuracy: 0.9443 - loss: 0.1455 - val_accuracy: 0.9287 - val_loss: 0.2055\n",
      "Epoch 7/8\n",
      "\u001b[1m152/152\u001b[0m \u001b[32m━━━━━━━━━━━━━━━━━━━━\u001b[0m\u001b[37m\u001b[0m \u001b[1m0s\u001b[0m 218ms/step - accuracy: 0.9538 - loss: 0.1290\n",
      "Epoch 7: val_loss improved from 0.20555 to 0.20457, saving model to ../../outputs/models/transfer_learning/resnet50_final_20251024_215511.keras\n",
      "\n",
      "Epoch 7: val_loss improved from 0.20555 to 0.20457, saving model to ../../outputs/models/transfer_learning/resnet50_final_20251024_215511.keras\n",
      "\u001b[1m152/152\u001b[0m \u001b[32m━━━━━━━━━━━━━━━━━━━━\u001b[0m\u001b[37m\u001b[0m \u001b[1m37s\u001b[0m 242ms/step - accuracy: 0.9525 - loss: 0.1290 - val_accuracy: 0.9310 - val_loss: 0.2046\n",
      "Epoch 8/8\n",
      "\u001b[1m152/152\u001b[0m \u001b[32m━━━━━━━━━━━━━━━━━━━━\u001b[0m\u001b[37m\u001b[0m \u001b[1m37s\u001b[0m 242ms/step - accuracy: 0.9525 - loss: 0.1290 - val_accuracy: 0.9310 - val_loss: 0.2046\n",
      "Epoch 8/8\n",
      "\u001b[1m152/152\u001b[0m \u001b[32m━━━━━━━━━━━━━━━━━━━━\u001b[0m\u001b[37m\u001b[0m \u001b[1m0s\u001b[0m 219ms/step - accuracy: 0.9563 - loss: 0.1189\n",
      "Epoch 8: val_loss did not improve from 0.20457\n",
      "\u001b[1m152/152\u001b[0m \u001b[32m━━━━━━━━━━━━━━━━━━━━\u001b[0m\u001b[37m\u001b[0m \u001b[1m35s\u001b[0m 229ms/step - accuracy: 0.9539 - loss: 0.1271 - val_accuracy: 0.9088 - val_loss: 0.2499\n",
      "Restoring model weights from the end of the best epoch: 7.\n",
      "\n",
      "Epoch 8: val_loss did not improve from 0.20457\n",
      "\u001b[1m152/152\u001b[0m \u001b[32m━━━━━━━━━━━━━━━━━━━━\u001b[0m\u001b[37m\u001b[0m \u001b[1m35s\u001b[0m 229ms/step - accuracy: 0.9539 - loss: 0.1271 - val_accuracy: 0.9088 - val_loss: 0.2499\n",
      "Restoring model weights from the end of the best epoch: 7.\n",
      "\n",
      "✅ Phase 3 completed!\n",
      "Final model saved to: ../../outputs/models/transfer_learning/resnet50_final_20251024_215511.keras\n",
      "\n",
      "✅ Phase 3 completed!\n",
      "Final model saved to: ../../outputs/models/transfer_learning/resnet50_final_20251024_215511.keras\n"
     ]
    }
   ],
   "source": [
    "print(\"\\n\" + \"=\"*70)\n",
    "print(\"PHASE 3: Final Training\")\n",
    "print(\"=\"*70)\n",
    "\n",
    "# Unfreeze all layers\n",
    "base_model.trainable = True\n",
    "for layer in base_model.layers:\n",
    "    layer.trainable = True\n",
    "\n",
    "print(f\"All layers unfrozen\")\n",
    "print(f\"Learning rate: {LEARNING_RATE_PHASE3}\")\n",
    "print(f\"Epochs: 8\\n\")\n",
    "\n",
    "# Recompile with very low learning rate\n",
    "model.compile(\n",
    "    optimizer=Adam(learning_rate=LEARNING_RATE_PHASE3),\n",
    "    loss='categorical_crossentropy',\n",
    "    metrics=['accuracy']\n",
    ")\n",
    "\n",
    "# Callbacks\n",
    "model_path_final = os.path.join(MODEL_DIR, f\"resnet50_final_{timestamp}.keras\")\n",
    "history_csv = os.path.join(HISTORY_DIR, f\"resnet50_history_{timestamp}.csv\")\n",
    "\n",
    "callbacks_phase3 = [\n",
    "    EarlyStopping(\n",
    "        monitor='val_loss',\n",
    "        patience=4,\n",
    "        restore_best_weights=True,\n",
    "        verbose=1\n",
    "    ),\n",
    "    ModelCheckpoint(\n",
    "        filepath=model_path_final,\n",
    "        monitor='val_loss',\n",
    "        save_best_only=True,\n",
    "        verbose=1\n",
    "    ),\n",
    "    CSVLogger(filename=history_csv)\n",
    "]\n",
    "\n",
    "# Train\n",
    "history_phase3 = model.fit(\n",
    "    train_generator,\n",
    "    epochs=8,\n",
    "    validation_data=val_generator,\n",
    "    callbacks=callbacks_phase3,\n",
    "    verbose=1\n",
    ")\n",
    "\n",
    "print(\"\\n✅ Phase 3 completed!\")\n",
    "print(f\"Final model saved to: {model_path_final}\")"
   ]
  },
  {
   "cell_type": "markdown",
   "id": "b4f63f9f",
   "metadata": {},
   "source": [
    "## 9. Combine Training History"
   ]
  },
  {
   "cell_type": "code",
   "execution_count": 9,
   "id": "2d3671e3",
   "metadata": {},
   "outputs": [
    {
     "name": "stdout",
     "output_type": "stream",
     "text": [
      "Total epochs: 25\n",
      "Best val_accuracy: 0.9310\n"
     ]
    }
   ],
   "source": [
    "# Combine histories from all phases\n",
    "combined_history = {\n",
    "    'accuracy': (history_phase1.history['accuracy'] + \n",
    "                 history_phase2.history['accuracy'] + \n",
    "                 history_phase3.history['accuracy']),\n",
    "    'val_accuracy': (history_phase1.history['val_accuracy'] + \n",
    "                     history_phase2.history['val_accuracy'] + \n",
    "                     history_phase3.history['val_accuracy']),\n",
    "    'loss': (history_phase1.history['loss'] + \n",
    "             history_phase2.history['loss'] + \n",
    "             history_phase3.history['loss']),\n",
    "    'val_loss': (history_phase1.history['val_loss'] + \n",
    "                 history_phase2.history['val_loss'] + \n",
    "                 history_phase3.history['val_loss'])\n",
    "}\n",
    "\n",
    "print(f\"Total epochs: {len(combined_history['accuracy'])}\")\n",
    "print(f\"Best val_accuracy: {max(combined_history['val_accuracy']):.4f}\")"
   ]
  },
  {
   "cell_type": "markdown",
   "id": "9aade7c4",
   "metadata": {},
   "source": [
    "## 10. Visualize Training History"
   ]
  },
  {
   "cell_type": "code",
   "execution_count": 10,
   "id": "ffcd97c8",
   "metadata": {},
   "outputs": [
    {
     "name": "stdout",
     "output_type": "stream",
     "text": [
      "Training curves saved to: ../../outputs/visualizations/day4_advanced_resnet50_history_20251024_215511.png\n"
     ]
    },
    {
     "data": {
      "image/png": "[encoded data removed]",
      "text/plain": [
       "<Figure size 1600x500 with 2 Axes>"
      ]
     },
     "metadata": {},
     "output_type": "display_data"
    }
   ],
   "source": [
    "fig, (ax1, ax2) = plt.subplots(1, 2, figsize=(16, 5))\n",
    "\n",
    "# Mark phase boundaries\n",
    "phase1_end = len(history_phase1.history['accuracy'])\n",
    "phase2_end = phase1_end + len(history_phase2.history['accuracy'])\n",
    "\n",
    "# Plot accuracy\n",
    "ax1.plot(combined_history['accuracy'], label='Train Accuracy', marker='o', markersize=3)\n",
    "ax1.plot(combined_history['val_accuracy'], label='Val Accuracy', marker='s', markersize=3)\n",
    "ax1.axvline(x=phase1_end-0.5, color='red', linestyle='--', alpha=0.5, label='Phase 1→2')\n",
    "ax1.axvline(x=phase2_end-0.5, color='orange', linestyle='--', alpha=0.5, label='Phase 2→3')\n",
    "ax1.set_title('Model Accuracy (ResNet50)', fontsize=14, fontweight='bold')\n",
    "ax1.set_xlabel('Epoch')\n",
    "ax1.set_ylabel('Accuracy')\n",
    "ax1.legend()\n",
    "ax1.grid(True, alpha=0.3)\n",
    "\n",
    "# Plot loss\n",
    "ax2.plot(combined_history['loss'], label='Train Loss', marker='o', markersize=3)\n",
    "ax2.plot(combined_history['val_loss'], label='Val Loss', marker='s', markersize=3)\n",
    "ax2.axvline(x=phase1_end-0.5, color='red', linestyle='--', alpha=0.5, label='Phase 1→2')\n",
    "ax2.axvline(x=phase2_end-0.5, color='orange', linestyle='--', alpha=0.5, label='Phase 2→3')\n",
    "ax2.set_title('Model Loss (ResNet50)', fontsize=14, fontweight='bold')\n",
    "ax2.set_xlabel('Epoch')\n",
    "ax2.set_ylabel('Loss')\n",
    "ax2.legend()\n",
    "ax2.grid(True, alpha=0.3)\n",
    "\n",
    "plt.tight_layout()\n",
    "\n",
    "viz_path = os.path.join(VIZ_DIR, f\"day4_advanced_resnet50_history_{timestamp}.png\")\n",
    "plt.savefig(viz_path, dpi=300, bbox_inches='tight')\n",
    "print(f\"Training curves saved to: {viz_path}\")\n",
    "\n",
    "plt.show()"
   ]
  },
  {
   "cell_type": "markdown",
   "id": "d1de66dc",
   "metadata": {},
   "source": [
    "## 11. Evaluate on Test Set"
   ]
  },
  {
   "cell_type": "code",
   "execution_count": 11,
   "id": "257af7a3",
   "metadata": {},
   "outputs": [
    {
     "name": "stdout",
     "output_type": "stream",
     "text": [
      "🔍 Evaluating on test set...\n",
      "\n",
      "\u001b[1m46/46\u001b[0m \u001b[32m━━━━━━━━━━━━━━━━━━━━\u001b[0m\u001b[37m\u001b[0m \u001b[1m3s\u001b[0m 65ms/step - accuracy: 0.9187 - loss: 0.2397\n",
      "\u001b[1m46/46\u001b[0m \u001b[32m━━━━━━━━━━━━━━━━━━━━\u001b[0m\u001b[37m\u001b[0m \u001b[1m3s\u001b[0m 65ms/step - accuracy: 0.9187 - loss: 0.2397\n",
      "\n",
      "======================================================================\n",
      "📊 ResNet50 Test Results\n",
      "======================================================================\n",
      "  Test Loss:     0.2397\n",
      "  Test Accuracy: 0.9187 (91.87%)\n",
      "======================================================================\n",
      "\n",
      "💡 Comparison with Baseline CNN:\n",
      "  Baseline:  76.83%\n",
      "  ResNet50:  91.87%\n",
      "  Improvement: +15.04%\n",
      "\n",
      "Results saved to: ../../outputs/training_history/transfer_learning/resnet50_results_20251024_215511.json\n",
      "\n",
      "======================================================================\n",
      "📊 ResNet50 Test Results\n",
      "======================================================================\n",
      "  Test Loss:     0.2397\n",
      "  Test Accuracy: 0.9187 (91.87%)\n",
      "======================================================================\n",
      "\n",
      "💡 Comparison with Baseline CNN:\n",
      "  Baseline:  76.83%\n",
      "  ResNet50:  91.87%\n",
      "  Improvement: +15.04%\n",
      "\n",
      "Results saved to: ../../outputs/training_history/transfer_learning/resnet50_results_20251024_215511.json\n"
     ]
    }
   ],
   "source": [
    "print(\"🔍 Evaluating on test set...\\n\")\n",
    "\n",
    "# Evaluate\n",
    "test_loss, test_accuracy = model.evaluate(test_generator, verbose=1)\n",
    "\n",
    "print(f\"\\n{'='*70}\")\n",
    "print(f\"📊 ResNet50 Test Results\")\n",
    "print(f\"{'='*70}\")\n",
    "print(f\"  Test Loss:     {test_loss:.4f}\")\n",
    "print(f\"  Test Accuracy: {test_accuracy:.4f} ({test_accuracy*100:.2f}%)\")\n",
    "print(f\"{'='*70}\")\n",
    "\n",
    "# Compare with baseline\n",
    "baseline_accuracy = 0.7683  # From day4_01\n",
    "improvement = (test_accuracy - baseline_accuracy) * 100\n",
    "\n",
    "print(f\"\\n💡 Comparison with Baseline CNN:\")\n",
    "print(f\"  Baseline:  76.83%\")\n",
    "print(f\"  ResNet50:  {test_accuracy*100:.2f}%\")\n",
    "print(f\"  Improvement: {improvement:+.2f}%\")\n",
    "\n",
    "# Save results\n",
    "results = {\n",
    "    'model': 'ResNet50',\n",
    "    'timestamp': timestamp,\n",
    "    'test_loss': float(test_loss),\n",
    "    'test_accuracy': float(test_accuracy),\n",
    "    'baseline_accuracy': float(baseline_accuracy),\n",
    "    'improvement': float(improvement),\n",
    "    'total_epochs': len(combined_history['accuracy']),\n",
    "    'model_path': model_path_final\n",
    "}\n",
    "\n",
    "results_path = os.path.join(HISTORY_DIR, f\"resnet50_results_{timestamp}.json\")\n",
    "with open(results_path, 'w') as f:\n",
    "    json.dump(results, f, indent=2)\n",
    "\n",
    "print(f\"\\nResults saved to: {results_path}\")"
   ]
  },
  {
   "cell_type": "markdown",
   "id": "4ef21821",
   "metadata": {},
   "source": [
    "## 12. Summary"
   ]
  },
  {
   "cell_type": "code",
   "execution_count": null,
   "id": "9355e5f5",
   "metadata": {},
   "outputs": [
    {
     "name": "stdout",
     "output_type": "stream",
     "text": [
      "\n",
      "======================================================================\n",
      "🎉 RESNET50 TRAINING COMPLETE!\n",
      "======================================================================\n",
      "\n",
      "📊 Final Results:\n",
      "  Model: ResNet50\n",
      "  Test Accuracy: 91.87%\n",
      "  Baseline: 76.83%\n",
      "  Improvement: +15.04%\n",
      "\n",
      "📁 Files Created:\n",
      "  ✅ Final Model: ../../outputs/models/transfer_learning/resnet50_final_20251024_215511.keras\n",
      "  ✅ History CSV: ../../outputs/training_history/transfer_learning/resnet50_history_20251024_215511.csv\n",
      "  ✅ Results JSON: ../../outputs/training_history/transfer_learning/resnet50_results_20251024_215511.json\n",
      "  ✅ Visualization: ../../outputs/visualizations/day4_advanced_resnet50_history_20251024_215511.png\n",
      "\n",
      "🎯 Next Steps:\n",
      "  1. Train DenseNet121 (day4_advanced_densenet121.ipynb)\n",
      "  2. Create ensemble (day4_advanced_ensemble.ipynb)\n",
      "  3. Expected ensemble accuracy: 92-95%\n",
      "\n",
      "💡 Interpretation:\n",
      "  ✅ Excellent! Significant improvement over baseline!\n",
      "\n",
      "======================================================================\n"
     ]
    },
    {
     "ename": "",
     "evalue": "",
     "output_type": "error",
     "traceback": [
      "\u001b[1;31mThe Kernel crashed while executing code in the current cell or a previous cell. \n",
      "\u001b[1;31mPlease review the code in the cell(s) to identify a possible cause of the failure. \n",
      "\u001b[1;31mClick <a href='https://aka.ms/vscodeJupyterKernelCrash'>here</a> for more info. \n",
      "\u001b[1;31mView Jupyter <a href='command:jupyter.viewOutput'>log</a> for further details."
     ]
    }
   ],
   "source": [
    "print(\"\\n\" + \"=\"*70)\n",
    "print(\"🎉 RESNET50 TRAINING COMPLETE!\")\n",
    "print(\"=\"*70)\n",
    "\n",
    "print(\"\\n📊 Final Results:\")\n",
    "print(f\"  Model: ResNet50\")\n",
    "print(f\"  Test Accuracy: {test_accuracy*100:.2f}%\")\n",
    "print(f\"  Baseline: 76.83%\")\n",
    "print(f\"  Improvement: {improvement:+.2f}%\")\n",
    "\n",
    "print(\"\\n📁 Files Created:\")\n",
    "print(f\"  ✅ Final Model: {model_path_final}\")\n",
    "print(f\"  ✅ History CSV: {history_csv}\")\n",
    "print(f\"  ✅ Results JSON: {results_path}\")\n",
    "print(f\"  ✅ Visualization: {viz_path}\")\n",
    "\n",
    "print(\"\\n🎯 Next Steps:\")\n",
    "print(\"  1. Train DenseNet121 (day4_advanced_densenet121.ipynb)\")\n",
    "print(\"  2. Create ensemble (day4_advanced_ensemble.ipynb)\")\n",
    "print(\"  3. Expected ensemble accuracy: 92-95%\")\n",
    "\n",
    "print(\"\\n💡 Interpretation:\")\n",
    "if test_accuracy >= 0.92:\n",
    "    print(\"  🌟 Outstanding! Excellent performance!\")\n",
    "elif test_accuracy >= 0.88:\n",
    "    print(\"  ✅ Excellent! Significant improvement over baseline!\")\n",
    "elif test_accuracy >= 0.82:\n",
    "    print(\"  ✅ Good! Notable improvement!\")\n",
    "else:\n",
    "    print(\"  ⚠️  Moderate improvement - try adjusting hyperparameters\")\n",
    "\n",
    "print(\"\\n\" + \"=\"*70)"
   ]
  }
 ],
 "metadata": {
  "kernelspec": {
   "display_name": "Python (BrainTumor)",
   "language": "python",
   "name": "braintumor-venv"
  },
  "language_info": {
   "codemirror_mode": {
    "name": "ipython",
    "version": 3
   },
   "file_extension": ".py",
   "mimetype": "text/x-python",
   "name": "python",
   "nbconvert_exporter": "python",
   "pygments_lexer": "ipython3",
   "version": "3.14.0"
  }
 },
 "nbformat": 4,
 "nbformat_minor": 5
}
