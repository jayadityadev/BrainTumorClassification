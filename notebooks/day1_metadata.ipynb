{
 "cells": [
  {
   "cell_type": "code",
   "execution_count": null,
   "id": "1b7cb777",
   "metadata": {},
   "outputs": [
    {
     "name": "stdout",
     "output_type": "stream",
     "text": [
      "Saved metadata to: ../outputs/metadata.csv\n",
      "Total images: 3064\n",
      "Unique patients: 0\n",
      "Images without PID: 3064\n",
      "\n",
      "Sample entries:\n",
      "  ['1053.png', '3', None, '1053']\n",
      "  ['1502.png', '3', None, '1502']\n",
      "  ['1359.png', '3', None, '1359']\n"
     ]
    }
   ],
   "source": [
    "import csv, glob, os, re\n",
    "\n",
    "base = \"../outputs/ce_mri_images\"\n",
    "rows = []\n",
    "\n",
    "for lbl in os.listdir(base):\n",
    "    p = os.path.join(base, lbl)\n",
    "    if not os.path.isdir(p): \n",
    "        continue\n",
    "    \n",
    "    for f in glob.glob(os.path.join(p, \"*.png\")):\n",
    "        fname = os.path.basename(f)\n",
    "        \n",
    "        # Extract PID from filename (format: pid{PID}_originalname.png)\n",
    "        # PID can be numeric (e.g., pid100360_1.png) or alphanumeric (e.g., pidMR0402480D_2376.png)\n",
    "        pid_match = re.match(r'pid([^_]+)_(.+)\\.png', fname)\n",
    "        if pid_match:\n",
    "            pid = pid_match.group(1)  # Keep as string (can be numeric or alphanumeric)\n",
    "            orig_name = pid_match.group(2)\n",
    "        else:\n",
    "            pid = None\n",
    "            orig_name = os.path.splitext(fname)[0]\n",
    "        \n",
    "        rows.append([fname, lbl, pid, orig_name])\n",
    "\n",
    "# Save metadata CSV to outputs root (better organization)\n",
    "metadata_path = \"../outputs/metadata.csv\"\n",
    "with open(metadata_path, \"w\", newline=\"\") as fh:\n",
    "    writer = csv.writer(fh)\n",
    "    writer.writerow([\"filename\", \"label\", \"patient_id\", \"original_mat_name\"])\n",
    "    writer.writerows(rows)\n",
    "\n",
    "print(f\"Saved metadata to: {metadata_path}\")\n",
    "print(f\"Total images: {len(rows)}\")\n",
    "print(f\"Unique patients: {len(set(r[2] for r in rows if r[2] is not None))}\")\n",
    "print(f\"Images without PID: {sum(1 for r in rows if r[2] is None)}\")\n",
    "\n",
    "# Show a few sample rows\n",
    "if rows:\n",
    "    print(\"\\nSample entries:\")\n",
    "    for row in rows[:5]:\n",
    "        print(f\"  {row}\")"
   ]
  },
  {
   "cell_type": "code",
   "execution_count": null,
   "id": "d68b53c4",
   "metadata": {},
   "outputs": [],
   "source": []
  }
 ],
 "metadata": {
  "kernelspec": {
   "display_name": ".venv",
   "language": "python",
   "name": "python3"
  },
  "language_info": {
   "codemirror_mode": {
    "name": "ipython",
    "version": 3
   },
   "file_extension": ".py",
   "mimetype": "text/x-python",
   "name": "python",
   "nbconvert_exporter": "python",
   "pygments_lexer": "ipython3",
   "version": "3.11.14"
  }
 },
 "nbformat": 4,
 "nbformat_minor": 5
}
