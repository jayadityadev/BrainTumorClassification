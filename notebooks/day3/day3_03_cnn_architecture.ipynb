{
 "cells": [
  {
   "cell_type": "markdown",
   "id": "e3b8f2c6",
   "metadata": {},
   "source": [
    "# 🧠 Day 3.3 - CNN Architecture Design\n",
    "\n",
    "## 🎯 Learning Objectives\n",
    "\n",
    "In this notebook, you'll learn:\n",
    "1. **CNN fundamentals** - convolution, pooling, dense layers\n",
    "2. **How to design a model** for your hardware (GTX 1650)\n",
    "3. **Layer-by-layer breakdown** of our architecture\n",
    "4. **Model compilation** - optimizer, loss, metrics\n",
    "\n",
    "---\n",
    "\n",
    "## 🧠 Theory: Why CNNs for Medical Images?\n",
    "\n",
    "### Traditional ML (Day 2) vs Deep Learning (Today)\n",
    "\n",
    "| Aspect | Traditional ML (SVM) | Deep Learning (CNN) |\n",
    "|--------|---------------------|---------------------|\n",
    "| **Features** | Manual extraction (shape, texture) | Automatic learning |\n",
    "| **Hierarchy** | Flat features | Hierarchical (edges → textures → shapes) |\n",
    "| **Spatial Info** | Lost after flattening | Preserved by convolutions |\n",
    "| **Scalability** | Limited | Scales with data |\n",
    "| **Performance** | Good baseline | State-of-the-art |\n",
    "\n",
    "---\n",
    "\n",
    "## 🔍 CNN Building Blocks\n",
    "\n",
    "### 1️⃣ **Convolutional Layer** (Conv2D)\n",
    "- **Purpose**: Detect patterns (edges, textures, shapes)\n",
    "- **How**: Slides filters across image to find features\n",
    "- **Parameters**: Filter size (3×3), number of filters (32, 64, 128)\n",
    "\n",
    "### 2️⃣ **Activation Function** (ReLU)\n",
    "- **Purpose**: Introduce non-linearity\n",
    "- **ReLU**: `max(0, x)` - simple and effective\n",
    "\n",
    "### 3️⃣ **Pooling Layer** (MaxPooling2D)\n",
    "- **Purpose**: Downsample to reduce parameters and computations\n",
    "- **MaxPooling**: Takes maximum value in each region\n",
    "- **Effect**: Reduces spatial dimensions by half\n",
    "\n",
    "### 4️⃣ **Flatten Layer**\n",
    "- **Purpose**: Convert 2D feature maps to 1D vector\n",
    "- **Connects**: Convolutional layers to dense layers\n",
    "\n",
    "### 5️⃣ **Dense Layer** (Fully Connected)\n",
    "- **Purpose**: Learn complex combinations of features\n",
    "- **Final Layer**: Output probabilities for each class\n",
    "\n",
    "### 6️⃣ **Dropout Layer**\n",
    "- **Purpose**: Prevent overfitting\n",
    "- **How**: Randomly drops 50% of neurons during training\n",
    "\n",
    "---"
   ]
  },
  {
   "cell_type": "markdown",
   "id": "013c6ec5",
   "metadata": {},
   "source": [
    "## 🔧 Setup"
   ]
  },
  {
   "cell_type": "code",
   "execution_count": 2,
   "id": "71e34986",
   "metadata": {},
   "outputs": [
    {
     "name": "stdout",
     "output_type": "stream",
     "text": [
      "TensorFlow version: 2.20.0\n",
      "GPU devices: [PhysicalDevice(name='/physical_device:GPU:0', device_type='GPU')]\n",
      "✅ Memory growth enabled for 1 GPU(s)\n",
      "\n",
      "✅ Libraries imported successfully\n"
     ]
    }
   ],
   "source": [
    "import tensorflow as tf\n",
    "from tensorflow.keras.models import Sequential\n",
    "from tensorflow.keras.layers import (\n",
    "    Conv2D, MaxPooling2D, Flatten, Dense, Dropout, BatchNormalization\n",
    ")\n",
    "from tensorflow.keras.optimizers import Adam\n",
    "from tensorflow.keras.callbacks import EarlyStopping, ModelCheckpoint, ReduceLROnPlateau\n",
    "import matplotlib.pyplot as plt\n",
    "import numpy as np\n",
    "\n",
    "# Check GPU\n",
    "print(f\"TensorFlow version: {tf.__version__}\")\n",
    "print(f\"GPU devices: {tf.config.list_physical_devices('GPU')}\")\n",
    "\n",
    "# Enable memory growth (important for GTX 1650)\n",
    "gpus = tf.config.list_physical_devices('GPU')\n",
    "if gpus:\n",
    "    try:\n",
    "        for gpu in gpus:\n",
    "            tf.config.experimental.set_memory_growth(gpu, True)\n",
    "        print(f\"✅ Memory growth enabled for {len(gpus)} GPU(s)\")\n",
    "    except RuntimeError as e:\n",
    "        print(e)\n",
    "\n",
    "print(\"\\n✅ Libraries imported successfully\")"
   ]
  },
  {
   "cell_type": "markdown",
   "id": "6262320d",
   "metadata": {},
   "source": [
    "## 🏗️ Design Our CNN Architecture\n",
    "\n",
    "### Architecture Strategy:\n",
    "\n",
    "We'll build a **lightweight CNN** suitable for:\n",
    "- GTX 1650 (4GB VRAM)\n",
    "- 128×128 grayscale images\n",
    "- 3-class classification\n",
    "\n",
    "### Layer Design:\n",
    "```\n",
    "Input (128, 128, 1)\n",
    "    ↓\n",
    "[Conv Block 1] → 32 filters, 3×3\n",
    "    ↓ MaxPool (64, 64, 32)\n",
    "[Conv Block 2] → 64 filters, 3×3\n",
    "    ↓ MaxPool (32, 32, 64)\n",
    "[Conv Block 3] → 128 filters, 3×3\n",
    "    ↓ MaxPool (16, 16, 128)\n",
    "[Flatten] → 32,768 features\n",
    "    ↓\n",
    "[Dense] → 128 neurons + Dropout\n",
    "    ↓\n",
    "[Output] → 3 classes (Softmax)\n",
    "```"
   ]
  },
  {
   "cell_type": "code",
   "execution_count": 3,
   "id": "0e78905c",
   "metadata": {},
   "outputs": [
    {
     "name": "stderr",
     "output_type": "stream",
     "text": [
      "/projects/ai-ml/BrainTumorProject/.venv/lib/python3.11/site-packages/keras/src/layers/convolutional/base_conv.py:113: UserWarning: Do not pass an `input_shape`/`input_dim` argument to a layer. When using Sequential models, prefer using an `Input(shape)` object as the first layer in the model instead.\n",
      "  super().__init__(activity_regularizer=activity_regularizer, **kwargs)\n",
      "WARNING: All log messages before absl::InitializeLog() is called are written to STDERR\n",
      "I0000 00:00:1761113513.838912   57417 gpu_device.cc:2020] Created device /job:localhost/replica:0/task:0/device:GPU:0 with 2614 MB memory:  -> device: 0, name: NVIDIA GeForce GTX 1650, pci bus id: 0000:01:00.0, compute capability: 7.5\n"
     ]
    },
    {
     "name": "stdout",
     "output_type": "stream",
     "text": [
      "✅ Model architecture defined\n"
     ]
    }
   ],
   "source": [
    "# Build the model\n",
    "model = Sequential([\n",
    "    # First Convolutional Block\n",
    "    Conv2D(32, (3, 3), activation='relu', input_shape=(128, 128, 1), \n",
    "           padding='same', name='conv1'),\n",
    "    MaxPooling2D((2, 2), name='pool1'),\n",
    "    \n",
    "    # Second Convolutional Block\n",
    "    Conv2D(64, (3, 3), activation='relu', padding='same', name='conv2'),\n",
    "    MaxPooling2D((2, 2), name='pool2'),\n",
    "    \n",
    "    # Third Convolutional Block\n",
    "    Conv2D(128, (3, 3), activation='relu', padding='same', name='conv3'),\n",
    "    MaxPooling2D((2, 2), name='pool3'),\n",
    "    \n",
    "    # Flatten and Dense Layers\n",
    "    Flatten(name='flatten'),\n",
    "    Dense(128, activation='relu', name='dense1'),\n",
    "    Dropout(0.5, name='dropout'),\n",
    "    Dense(3, activation='softmax', name='output')\n",
    "], name='BrainTumorCNN')\n",
    "\n",
    "print(\"✅ Model architecture defined\")"
   ]
  },
  {
   "cell_type": "markdown",
   "id": "77d8dc92",
   "metadata": {},
   "source": [
    "## 📊 Model Summary"
   ]
  },
  {
   "cell_type": "code",
   "execution_count": 4,
   "id": "90bf0bf0",
   "metadata": {},
   "outputs": [
    {
     "data": {
      "text/html": [
       "<pre style=\"white-space:pre;overflow-x:auto;line-height:normal;font-family:Menlo,'DejaVu Sans Mono',consolas,'Courier New',monospace\"><span style=\"font-weight: bold\">Model: \"BrainTumorCNN\"</span>\n",
       "</pre>\n"
      ],
      "text/plain": [
       "\u001b[1mModel: \"BrainTumorCNN\"\u001b[0m\n"
      ]
     },
     "metadata": {},
     "output_type": "display_data"
    },
    {
     "data": {
      "text/html": [
       "<pre style=\"white-space:pre;overflow-x:auto;line-height:normal;font-family:Menlo,'DejaVu Sans Mono',consolas,'Courier New',monospace\">┏━━━━━━━━━━━━━━━━━━━━━━━━━━━━━━━━━┳━━━━━━━━━━━━━━━━━━━━━━━━┳━━━━━━━━━━━━━━━┓\n",
       "┃<span style=\"font-weight: bold\"> Layer (type)                    </span>┃<span style=\"font-weight: bold\"> Output Shape           </span>┃<span style=\"font-weight: bold\">       Param # </span>┃\n",
       "┡━━━━━━━━━━━━━━━━━━━━━━━━━━━━━━━━━╇━━━━━━━━━━━━━━━━━━━━━━━━╇━━━━━━━━━━━━━━━┩\n",
       "│ conv1 (<span style=\"color: #0087ff; text-decoration-color: #0087ff\">Conv2D</span>)                  │ (<span style=\"color: #00d7ff; text-decoration-color: #00d7ff\">None</span>, <span style=\"color: #00af00; text-decoration-color: #00af00\">128</span>, <span style=\"color: #00af00; text-decoration-color: #00af00\">128</span>, <span style=\"color: #00af00; text-decoration-color: #00af00\">32</span>)   │           <span style=\"color: #00af00; text-decoration-color: #00af00\">320</span> │\n",
       "├─────────────────────────────────┼────────────────────────┼───────────────┤\n",
       "│ pool1 (<span style=\"color: #0087ff; text-decoration-color: #0087ff\">MaxPooling2D</span>)            │ (<span style=\"color: #00d7ff; text-decoration-color: #00d7ff\">None</span>, <span style=\"color: #00af00; text-decoration-color: #00af00\">64</span>, <span style=\"color: #00af00; text-decoration-color: #00af00\">64</span>, <span style=\"color: #00af00; text-decoration-color: #00af00\">32</span>)     │             <span style=\"color: #00af00; text-decoration-color: #00af00\">0</span> │\n",
       "├─────────────────────────────────┼────────────────────────┼───────────────┤\n",
       "│ conv2 (<span style=\"color: #0087ff; text-decoration-color: #0087ff\">Conv2D</span>)                  │ (<span style=\"color: #00d7ff; text-decoration-color: #00d7ff\">None</span>, <span style=\"color: #00af00; text-decoration-color: #00af00\">64</span>, <span style=\"color: #00af00; text-decoration-color: #00af00\">64</span>, <span style=\"color: #00af00; text-decoration-color: #00af00\">64</span>)     │        <span style=\"color: #00af00; text-decoration-color: #00af00\">18,496</span> │\n",
       "├─────────────────────────────────┼────────────────────────┼───────────────┤\n",
       "│ pool2 (<span style=\"color: #0087ff; text-decoration-color: #0087ff\">MaxPooling2D</span>)            │ (<span style=\"color: #00d7ff; text-decoration-color: #00d7ff\">None</span>, <span style=\"color: #00af00; text-decoration-color: #00af00\">32</span>, <span style=\"color: #00af00; text-decoration-color: #00af00\">32</span>, <span style=\"color: #00af00; text-decoration-color: #00af00\">64</span>)     │             <span style=\"color: #00af00; text-decoration-color: #00af00\">0</span> │\n",
       "├─────────────────────────────────┼────────────────────────┼───────────────┤\n",
       "│ conv3 (<span style=\"color: #0087ff; text-decoration-color: #0087ff\">Conv2D</span>)                  │ (<span style=\"color: #00d7ff; text-decoration-color: #00d7ff\">None</span>, <span style=\"color: #00af00; text-decoration-color: #00af00\">32</span>, <span style=\"color: #00af00; text-decoration-color: #00af00\">32</span>, <span style=\"color: #00af00; text-decoration-color: #00af00\">128</span>)    │        <span style=\"color: #00af00; text-decoration-color: #00af00\">73,856</span> │\n",
       "├─────────────────────────────────┼────────────────────────┼───────────────┤\n",
       "│ pool3 (<span style=\"color: #0087ff; text-decoration-color: #0087ff\">MaxPooling2D</span>)            │ (<span style=\"color: #00d7ff; text-decoration-color: #00d7ff\">None</span>, <span style=\"color: #00af00; text-decoration-color: #00af00\">16</span>, <span style=\"color: #00af00; text-decoration-color: #00af00\">16</span>, <span style=\"color: #00af00; text-decoration-color: #00af00\">128</span>)    │             <span style=\"color: #00af00; text-decoration-color: #00af00\">0</span> │\n",
       "├─────────────────────────────────┼────────────────────────┼───────────────┤\n",
       "│ flatten (<span style=\"color: #0087ff; text-decoration-color: #0087ff\">Flatten</span>)               │ (<span style=\"color: #00d7ff; text-decoration-color: #00d7ff\">None</span>, <span style=\"color: #00af00; text-decoration-color: #00af00\">32768</span>)          │             <span style=\"color: #00af00; text-decoration-color: #00af00\">0</span> │\n",
       "├─────────────────────────────────┼────────────────────────┼───────────────┤\n",
       "│ dense1 (<span style=\"color: #0087ff; text-decoration-color: #0087ff\">Dense</span>)                  │ (<span style=\"color: #00d7ff; text-decoration-color: #00d7ff\">None</span>, <span style=\"color: #00af00; text-decoration-color: #00af00\">128</span>)            │     <span style=\"color: #00af00; text-decoration-color: #00af00\">4,194,432</span> │\n",
       "├─────────────────────────────────┼────────────────────────┼───────────────┤\n",
       "│ dropout (<span style=\"color: #0087ff; text-decoration-color: #0087ff\">Dropout</span>)               │ (<span style=\"color: #00d7ff; text-decoration-color: #00d7ff\">None</span>, <span style=\"color: #00af00; text-decoration-color: #00af00\">128</span>)            │             <span style=\"color: #00af00; text-decoration-color: #00af00\">0</span> │\n",
       "├─────────────────────────────────┼────────────────────────┼───────────────┤\n",
       "│ output (<span style=\"color: #0087ff; text-decoration-color: #0087ff\">Dense</span>)                  │ (<span style=\"color: #00d7ff; text-decoration-color: #00d7ff\">None</span>, <span style=\"color: #00af00; text-decoration-color: #00af00\">3</span>)              │           <span style=\"color: #00af00; text-decoration-color: #00af00\">387</span> │\n",
       "└─────────────────────────────────┴────────────────────────┴───────────────┘\n",
       "</pre>\n"
      ],
      "text/plain": [
       "┏━━━━━━━━━━━━━━━━━━━━━━━━━━━━━━━━━┳━━━━━━━━━━━━━━━━━━━━━━━━┳━━━━━━━━━━━━━━━┓\n",
       "┃\u001b[1m \u001b[0m\u001b[1mLayer (type)                   \u001b[0m\u001b[1m \u001b[0m┃\u001b[1m \u001b[0m\u001b[1mOutput Shape          \u001b[0m\u001b[1m \u001b[0m┃\u001b[1m \u001b[0m\u001b[1m      Param #\u001b[0m\u001b[1m \u001b[0m┃\n",
       "┡━━━━━━━━━━━━━━━━━━━━━━━━━━━━━━━━━╇━━━━━━━━━━━━━━━━━━━━━━━━╇━━━━━━━━━━━━━━━┩\n",
       "│ conv1 (\u001b[38;5;33mConv2D\u001b[0m)                  │ (\u001b[38;5;45mNone\u001b[0m, \u001b[38;5;34m128\u001b[0m, \u001b[38;5;34m128\u001b[0m, \u001b[38;5;34m32\u001b[0m)   │           \u001b[38;5;34m320\u001b[0m │\n",
       "├─────────────────────────────────┼────────────────────────┼───────────────┤\n",
       "│ pool1 (\u001b[38;5;33mMaxPooling2D\u001b[0m)            │ (\u001b[38;5;45mNone\u001b[0m, \u001b[38;5;34m64\u001b[0m, \u001b[38;5;34m64\u001b[0m, \u001b[38;5;34m32\u001b[0m)     │             \u001b[38;5;34m0\u001b[0m │\n",
       "├─────────────────────────────────┼────────────────────────┼───────────────┤\n",
       "│ conv2 (\u001b[38;5;33mConv2D\u001b[0m)                  │ (\u001b[38;5;45mNone\u001b[0m, \u001b[38;5;34m64\u001b[0m, \u001b[38;5;34m64\u001b[0m, \u001b[38;5;34m64\u001b[0m)     │        \u001b[38;5;34m18,496\u001b[0m │\n",
       "├─────────────────────────────────┼────────────────────────┼───────────────┤\n",
       "│ pool2 (\u001b[38;5;33mMaxPooling2D\u001b[0m)            │ (\u001b[38;5;45mNone\u001b[0m, \u001b[38;5;34m32\u001b[0m, \u001b[38;5;34m32\u001b[0m, \u001b[38;5;34m64\u001b[0m)     │             \u001b[38;5;34m0\u001b[0m │\n",
       "├─────────────────────────────────┼────────────────────────┼───────────────┤\n",
       "│ conv3 (\u001b[38;5;33mConv2D\u001b[0m)                  │ (\u001b[38;5;45mNone\u001b[0m, \u001b[38;5;34m32\u001b[0m, \u001b[38;5;34m32\u001b[0m, \u001b[38;5;34m128\u001b[0m)    │        \u001b[38;5;34m73,856\u001b[0m │\n",
       "├─────────────────────────────────┼────────────────────────┼───────────────┤\n",
       "│ pool3 (\u001b[38;5;33mMaxPooling2D\u001b[0m)            │ (\u001b[38;5;45mNone\u001b[0m, \u001b[38;5;34m16\u001b[0m, \u001b[38;5;34m16\u001b[0m, \u001b[38;5;34m128\u001b[0m)    │             \u001b[38;5;34m0\u001b[0m │\n",
       "├─────────────────────────────────┼────────────────────────┼───────────────┤\n",
       "│ flatten (\u001b[38;5;33mFlatten\u001b[0m)               │ (\u001b[38;5;45mNone\u001b[0m, \u001b[38;5;34m32768\u001b[0m)          │             \u001b[38;5;34m0\u001b[0m │\n",
       "├─────────────────────────────────┼────────────────────────┼───────────────┤\n",
       "│ dense1 (\u001b[38;5;33mDense\u001b[0m)                  │ (\u001b[38;5;45mNone\u001b[0m, \u001b[38;5;34m128\u001b[0m)            │     \u001b[38;5;34m4,194,432\u001b[0m │\n",
       "├─────────────────────────────────┼────────────────────────┼───────────────┤\n",
       "│ dropout (\u001b[38;5;33mDropout\u001b[0m)               │ (\u001b[38;5;45mNone\u001b[0m, \u001b[38;5;34m128\u001b[0m)            │             \u001b[38;5;34m0\u001b[0m │\n",
       "├─────────────────────────────────┼────────────────────────┼───────────────┤\n",
       "│ output (\u001b[38;5;33mDense\u001b[0m)                  │ (\u001b[38;5;45mNone\u001b[0m, \u001b[38;5;34m3\u001b[0m)              │           \u001b[38;5;34m387\u001b[0m │\n",
       "└─────────────────────────────────┴────────────────────────┴───────────────┘\n"
      ]
     },
     "metadata": {},
     "output_type": "display_data"
    },
    {
     "data": {
      "text/html": [
       "<pre style=\"white-space:pre;overflow-x:auto;line-height:normal;font-family:Menlo,'DejaVu Sans Mono',consolas,'Courier New',monospace\"><span style=\"font-weight: bold\"> Total params: </span><span style=\"color: #00af00; text-decoration-color: #00af00\">4,287,491</span> (16.36 MB)\n",
       "</pre>\n"
      ],
      "text/plain": [
       "\u001b[1m Total params: \u001b[0m\u001b[38;5;34m4,287,491\u001b[0m (16.36 MB)\n"
      ]
     },
     "metadata": {},
     "output_type": "display_data"
    },
    {
     "data": {
      "text/html": [
       "<pre style=\"white-space:pre;overflow-x:auto;line-height:normal;font-family:Menlo,'DejaVu Sans Mono',consolas,'Courier New',monospace\"><span style=\"font-weight: bold\"> Trainable params: </span><span style=\"color: #00af00; text-decoration-color: #00af00\">4,287,491</span> (16.36 MB)\n",
       "</pre>\n"
      ],
      "text/plain": [
       "\u001b[1m Trainable params: \u001b[0m\u001b[38;5;34m4,287,491\u001b[0m (16.36 MB)\n"
      ]
     },
     "metadata": {},
     "output_type": "display_data"
    },
    {
     "data": {
      "text/html": [
       "<pre style=\"white-space:pre;overflow-x:auto;line-height:normal;font-family:Menlo,'DejaVu Sans Mono',consolas,'Courier New',monospace\"><span style=\"font-weight: bold\"> Non-trainable params: </span><span style=\"color: #00af00; text-decoration-color: #00af00\">0</span> (0.00 B)\n",
       "</pre>\n"
      ],
      "text/plain": [
       "\u001b[1m Non-trainable params: \u001b[0m\u001b[38;5;34m0\u001b[0m (0.00 B)\n"
      ]
     },
     "metadata": {},
     "output_type": "display_data"
    },
    {
     "name": "stdout",
     "output_type": "stream",
     "text": [
      "\n",
      "💡 Total parameters: 4,287,491\n",
      "   Estimated size: ~16.4 MB (float32)\n"
     ]
    }
   ],
   "source": [
    "# Display model summary\n",
    "model.summary()\n",
    "\n",
    "# Calculate total parameters\n",
    "total_params = model.count_params()\n",
    "print(f\"\\n💡 Total parameters: {total_params:,}\")\n",
    "print(f\"   Estimated size: ~{total_params * 4 / 1024 / 1024:.1f} MB (float32)\")"
   ]
  },
  {
   "cell_type": "markdown",
   "id": "856dc2b3",
   "metadata": {},
   "source": [
    "## 🧮 Understanding Parameter Calculation\n",
    "\n",
    "Let's manually verify the parameters for educational purposes:"
   ]
  },
  {
   "cell_type": "code",
   "execution_count": 5,
   "id": "3e1bee1f",
   "metadata": {},
   "outputs": [
    {
     "name": "stdout",
     "output_type": "stream",
     "text": [
      "📐 Parameter Calculation Breakdown:\n",
      "\n",
      "Conv1: (3×3×1 + 1) × 32 = 320 parameters\n",
      "Conv2: (3×3×32 + 1) × 64 = 18,496 parameters\n",
      "Conv3: (3×3×64 + 1) × 128 = 73,856 parameters\n",
      "Flatten: 0 parameters (just reshapes)\n",
      "Dense1: (16×16×128 + 1) × 128 = 4,194,432 parameters\n",
      "Dropout: 0 parameters (training-only)\n",
      "Output: (128 + 1) × 3 = 387 parameters\n",
      "\n",
      "✅ Total calculated: 4,287,491 parameters\n",
      "   Model reports: 4,287,491 parameters\n",
      "   Match: ✅ Yes\n"
     ]
    }
   ],
   "source": [
    "print(\"📐 Parameter Calculation Breakdown:\\n\")\n",
    "\n",
    "# Conv1: (3×3 kernel × 1 input channel + 1 bias) × 32 filters\n",
    "conv1_params = (3 * 3 * 1 + 1) * 32\n",
    "print(f\"Conv1: (3×3×1 + 1) × 32 = {conv1_params:,} parameters\")\n",
    "\n",
    "# Conv2: (3×3 kernel × 32 input channels + 1 bias) × 64 filters\n",
    "conv2_params = (3 * 3 * 32 + 1) * 64\n",
    "print(f\"Conv2: (3×3×32 + 1) × 64 = {conv2_params:,} parameters\")\n",
    "\n",
    "# Conv3: (3×3 kernel × 64 input channels + 1 bias) × 128 filters\n",
    "conv3_params = (3 * 3 * 64 + 1) * 128\n",
    "print(f\"Conv3: (3×3×64 + 1) × 128 = {conv3_params:,} parameters\")\n",
    "\n",
    "# Flatten: no parameters\n",
    "print(f\"Flatten: 0 parameters (just reshapes)\")\n",
    "\n",
    "# Dense1: (16×16×128 inputs + 1 bias) × 128 neurons\n",
    "dense1_params = (16 * 16 * 128 + 1) * 128\n",
    "print(f\"Dense1: (16×16×128 + 1) × 128 = {dense1_params:,} parameters\")\n",
    "\n",
    "# Dropout: no parameters\n",
    "print(f\"Dropout: 0 parameters (training-only)\")\n",
    "\n",
    "# Output: (128 inputs + 1 bias) × 3 classes\n",
    "output_params = (128 + 1) * 3\n",
    "print(f\"Output: (128 + 1) × 3 = {output_params:,} parameters\")\n",
    "\n",
    "total_calculated = conv1_params + conv2_params + conv3_params + dense1_params + output_params\n",
    "print(f\"\\n✅ Total calculated: {total_calculated:,} parameters\")\n",
    "print(f\"   Model reports: {total_params:,} parameters\")\n",
    "print(f\"   Match: {'✅ Yes' if total_calculated == total_params else '❌ No'}\")"
   ]
  },
  {
   "cell_type": "markdown",
   "id": "873de9e7",
   "metadata": {},
   "source": [
    "## ⚙️ Compile the Model\n",
    "\n",
    "### Compilation Components:\n",
    "\n",
    "1. **Optimizer: Adam**\n",
    "   - Adaptive learning rate\n",
    "   - Works well out-of-the-box\n",
    "   - Learning rate: 1e-4 (conservative start)\n",
    "\n",
    "2. **Loss: Categorical Crossentropy**\n",
    "   - For multi-class classification\n",
    "   - Works with one-hot encoded labels\n",
    "\n",
    "3. **Metrics: Accuracy**\n",
    "   - Percentage of correct predictions\n",
    "   - Easy to interpret"
   ]
  },
  {
   "cell_type": "code",
   "execution_count": 6,
   "id": "2a40e554",
   "metadata": {},
   "outputs": [
    {
     "name": "stdout",
     "output_type": "stream",
     "text": [
      "✅ Model compiled successfully\n",
      "\n",
      "Configuration:\n",
      "  Optimizer: Adam (lr=1e-4)\n",
      "  Loss: Categorical Crossentropy\n",
      "  Metrics: Accuracy\n"
     ]
    }
   ],
   "source": [
    "# Compile model\n",
    "model.compile(\n",
    "    optimizer=Adam(learning_rate=1e-4),\n",
    "    loss='categorical_crossentropy',\n",
    "    metrics=['accuracy']\n",
    ")\n",
    "\n",
    "print(\"✅ Model compiled successfully\")\n",
    "print(\"\\nConfiguration:\")\n",
    "print(f\"  Optimizer: Adam (lr=1e-4)\")\n",
    "print(f\"  Loss: Categorical Crossentropy\")\n",
    "print(f\"  Metrics: Accuracy\")"
   ]
  },
  {
   "cell_type": "markdown",
   "id": "ed036c4e",
   "metadata": {},
   "source": [
    "## 🎨 Visualize Model Architecture"
   ]
  },
  {
   "cell_type": "code",
   "execution_count": 7,
   "id": "bcdbf1c3",
   "metadata": {},
   "outputs": [
    {
     "name": "stdout",
     "output_type": "stream",
     "text": [
      "✅ Model architecture diagram saved\n"
     ]
    }
   ],
   "source": [
    "# Try to plot model (requires pydot and graphviz)\n",
    "try:\n",
    "    from tensorflow.keras.utils import plot_model\n",
    "    plot_model(\n",
    "        model, \n",
    "        to_file='../../outputs/visualizations/day3_03_model_architecture.png',\n",
    "        show_shapes=True,\n",
    "        show_layer_names=True,\n",
    "        rankdir='TB',  # Top to bottom\n",
    "        expand_nested=True,\n",
    "        dpi=150\n",
    "    )\n",
    "    print(\"✅ Model architecture diagram saved\")\n",
    "except Exception as e:\n",
    "    print(f\"⚠️ Could not generate diagram: {e}\")\n",
    "    print(\"   (Install: pip install pydot graphviz)\")"
   ]
  },
  {
   "cell_type": "markdown",
   "id": "bbef75c8",
   "metadata": {},
   "source": [
    "## 📈 Create Manual Architecture Visualization"
   ]
  },
  {
   "cell_type": "code",
   "execution_count": 8,
   "id": "faa5f2b8",
   "metadata": {},
   "outputs": [
    {
     "data": {
      "image/png": "[encoded data removed]",
      "text/plain": [
       "<Figure size 1200x1000 with 1 Axes>"
      ]
     },
     "metadata": {},
     "output_type": "display_data"
    },
    {
     "name": "stdout",
     "output_type": "stream",
     "text": [
      "✅ Custom architecture visualization saved\n"
     ]
    }
   ],
   "source": [
    "# Create a custom visualization\n",
    "import matplotlib.patches as mpatches\n",
    "\n",
    "fig, ax = plt.subplots(figsize=(12, 10))\n",
    "ax.set_xlim(0, 10)\n",
    "ax.set_ylim(0, 14)\n",
    "ax.axis('off')\n",
    "\n",
    "# Helper function to draw layer\n",
    "def draw_layer(ax, x, y, width, height, label, params, color):\n",
    "    rect = mpatches.FancyBboxPatch(\n",
    "        (x, y), width, height,\n",
    "        boxstyle=\"round,pad=0.1\",\n",
    "        facecolor=color,\n",
    "        edgecolor='black',\n",
    "        linewidth=2\n",
    "    )\n",
    "    ax.add_patch(rect)\n",
    "    ax.text(x + width/2, y + height/2, label, \n",
    "            ha='center', va='center', fontsize=10, fontweight='bold')\n",
    "    if params:\n",
    "        ax.text(x + width/2, y + height/2 - 0.3, params, \n",
    "                ha='center', va='center', fontsize=8)\n",
    "\n",
    "# Draw layers\n",
    "y_pos = 13\n",
    "layers = [\n",
    "    ('Input\\n128×128×1', '', '#ecf0f1', 1.5),\n",
    "    ('Conv2D (32)\\n3×3, ReLU', '320 params', '#3498db', 1.2),\n",
    "    ('MaxPool2D\\n2×2', '0 params', '#95a5a6', 0.8),\n",
    "    ('Conv2D (64)\\n3×3, ReLU', '18,496 params', '#3498db', 1.2),\n",
    "    ('MaxPool2D\\n2×2', '0 params', '#95a5a6', 0.8),\n",
    "    ('Conv2D (128)\\n3×3, ReLU', '73,856 params', '#3498db', 1.2),\n",
    "    ('MaxPool2D\\n2×2', '0 params', '#95a5a6', 0.8),\n",
    "    ('Flatten\\n32,768', '0 params', '#95a5a6', 0.8),\n",
    "    ('Dense (128)\\nReLU', '4,194,432 params', '#2ecc71', 1.2),\n",
    "    ('Dropout (0.5)', '0 params', '#f39c12', 0.8),\n",
    "    ('Dense (3)\\nSoftmax', '387 params', '#e74c3c', 1.2),\n",
    "]\n",
    "\n",
    "for label, params, color, height in layers:\n",
    "    draw_layer(ax, 2, y_pos, 6, height, label, params, color)\n",
    "    # Draw arrow\n",
    "    if y_pos > 1:\n",
    "        ax.arrow(5, y_pos, 0, -0.3, head_width=0.3, head_length=0.1, \n",
    "                fc='black', ec='black', linewidth=2)\n",
    "    y_pos -= (height + 0.5)\n",
    "\n",
    "# Title\n",
    "ax.text(5, 14.5, 'Brain Tumor CNN Architecture', \n",
    "        ha='center', fontsize=16, fontweight='bold')\n",
    "\n",
    "# Legend\n",
    "legend_elements = [\n",
    "    mpatches.Patch(color='#3498db', label='Convolutional'),\n",
    "    mpatches.Patch(color='#2ecc71', label='Dense'),\n",
    "    mpatches.Patch(color='#e74c3c', label='Output'),\n",
    "    mpatches.Patch(color='#95a5a6', label='Utility')\n",
    "]\n",
    "ax.legend(handles=legend_elements, loc='lower right', fontsize=10)\n",
    "\n",
    "plt.tight_layout()\n",
    "plt.savefig('../../outputs/visualizations/day3_03_model_architecture_custom.png', \n",
    "            dpi=150, bbox_inches='tight')\n",
    "plt.show()\n",
    "\n",
    "print(\"✅ Custom architecture visualization saved\")"
   ]
  },
  {
   "cell_type": "markdown",
   "id": "b1553e85",
   "metadata": {},
   "source": [
    "## 🔍 Inspect Model Configuration"
   ]
  },
  {
   "cell_type": "code",
   "execution_count": 9,
   "id": "9b22afc7",
   "metadata": {},
   "outputs": [
    {
     "name": "stdout",
     "output_type": "stream",
     "text": [
      "🔧 Model Configuration:\n",
      "\n",
      "Model name: BrainTumorCNN\n",
      "\n",
      "Layers (11):\n",
      "\n",
      "1. InputLayer           - input_layer\n",
      "2. Conv2D               - conv1\n",
      "   → Filters: 32, Kernel: (3, 3)\n",
      "3. MaxPooling2D         - pool1\n",
      "4. Conv2D               - conv2\n",
      "   → Filters: 64, Kernel: (3, 3)\n",
      "5. MaxPooling2D         - pool2\n",
      "6. Conv2D               - conv3\n",
      "   → Filters: 128, Kernel: (3, 3)\n",
      "7. MaxPooling2D         - pool3\n",
      "8. Flatten              - flatten\n",
      "9. Dense                - dense1\n",
      "   → Units: 128\n",
      "10. Dropout              - dropout\n",
      "   → Dropout rate: 0.5\n",
      "11. Dense                - output\n",
      "   → Units: 3\n"
     ]
    }
   ],
   "source": [
    "# Get configuration\n",
    "config = model.get_config()\n",
    "\n",
    "print(\"🔧 Model Configuration:\\n\")\n",
    "print(f\"Model name: {config['name']}\")\n",
    "print(f\"\\nLayers ({len(config['layers'])}):\\n\")\n",
    "\n",
    "for i, layer in enumerate(config['layers'], 1):\n",
    "    print(f\"{i}. {layer['class_name']:20s} - {layer['config']['name']}\")\n",
    "    if 'filters' in layer['config']:\n",
    "        print(f\"   → Filters: {layer['config']['filters']}, \"\n",
    "              f\"Kernel: {layer['config']['kernel_size']}\")\n",
    "    elif 'units' in layer['config']:\n",
    "        print(f\"   → Units: {layer['config']['units']}\")\n",
    "    elif 'rate' in layer['config']:\n",
    "        print(f\"   → Dropout rate: {layer['config']['rate']}\")"
   ]
  },
  {
   "cell_type": "markdown",
   "id": "70a22ed7",
   "metadata": {},
   "source": [
    "## 💾 Save Model Architecture"
   ]
  },
  {
   "cell_type": "code",
   "execution_count": 10,
   "id": "5bdf6678",
   "metadata": {},
   "outputs": [
    {
     "name": "stdout",
     "output_type": "stream",
     "text": [
      "✅ Model architecture saved to model_architecture.json\n"
     ]
    },
    {
     "data": {
      "text/html": [
       "<pre style=\"white-space:pre;overflow-x:auto;line-height:normal;font-family:Menlo,'DejaVu Sans Mono',consolas,'Courier New',monospace\"></pre>\n"
      ],
      "text/plain": []
     },
     "metadata": {},
     "output_type": "display_data"
    },
    {
     "name": "stdout",
     "output_type": "stream",
     "text": [
      "✅ Model summary saved to model_summary.txt\n"
     ]
    }
   ],
   "source": [
    "# Save model architecture (not weights)\n",
    "import json\n",
    "\n",
    "# Save as JSON\n",
    "model_json = model.to_json()\n",
    "with open('../../outputs/configs/model_architecture.json', 'w') as f:\n",
    "    json.dump(json.loads(model_json), f, indent=2)\n",
    "\n",
    "print(\"✅ Model architecture saved to model_architecture.json\")\n",
    "\n",
    "# Save model summary to text file\n",
    "with open('../../outputs/configs/model_summary.txt', 'w') as f:\n",
    "    model.summary(print_fn=lambda x: f.write(x + '\\n'))\n",
    "\n",
    "print(\"✅ Model summary saved to model_summary.txt\")"
   ]
  },
  {
   "cell_type": "markdown",
   "id": "391217e7",
   "metadata": {},
   "source": [
    "## 📊 Compare with Other Architectures\n",
    "\n",
    "Let's compare our model with some alternatives:"
   ]
  },
  {
   "cell_type": "code",
   "execution_count": 11,
   "id": "d40760a0",
   "metadata": {},
   "outputs": [
    {
     "name": "stderr",
     "output_type": "stream",
     "text": [
      "/projects/ai-ml/BrainTumorProject/.venv/lib/python3.11/site-packages/keras/src/layers/convolutional/base_conv.py:113: UserWarning: Do not pass an `input_shape`/`input_dim` argument to a layer. When using Sequential models, prefer using an `Input(shape)` object as the first layer in the model instead.\n",
      "  super().__init__(activity_regularizer=activity_regularizer, **kwargs)\n"
     ]
    },
    {
     "name": "stdout",
     "output_type": "stream",
     "text": [
      "🏗️ Architecture Comparison:\n",
      "\n",
      "👉 Our Model           :    4,287,491 params (~  16.4 MB)\n",
      "   Smaller (2 Conv)    :    3,705,475 params (~  14.1 MB)\n",
      "   Larger (4 Conv)     :    2,748,163 params (~  10.5 MB)\n",
      "   VGG-like            :   33,814,467 params (~ 129.0 MB)\n"
     ]
    },
    {
     "data": {
      "image/png": "[encoded data removed]",
      "text/plain": [
       "<Figure size 1000x600 with 1 Axes>"
      ]
     },
     "metadata": {},
     "output_type": "display_data"
    },
    {
     "name": "stdout",
     "output_type": "stream",
     "text": [
      "\n",
      "✅ Comparison visualization saved\n"
     ]
    }
   ],
   "source": [
    "# Define alternative architectures for comparison\n",
    "architectures = {\n",
    "    'Our Model': model.count_params(),\n",
    "    'Smaller (2 Conv)': 0,\n",
    "    'Larger (4 Conv)': 0,\n",
    "    'VGG-like': 0\n",
    "}\n",
    "\n",
    "# Build alternatives\n",
    "# Smaller\n",
    "small_model = Sequential([\n",
    "    Conv2D(32, (3, 3), activation='relu', input_shape=(128, 128, 1)),\n",
    "    MaxPooling2D((2, 2)),\n",
    "    Conv2D(64, (3, 3), activation='relu'),\n",
    "    MaxPooling2D((2, 2)),\n",
    "    Flatten(),\n",
    "    Dense(64, activation='relu'),\n",
    "    Dense(3, activation='softmax')\n",
    "])\n",
    "architectures['Smaller (2 Conv)'] = small_model.count_params()\n",
    "\n",
    "# Larger\n",
    "large_model = Sequential([\n",
    "    Conv2D(32, (3, 3), activation='relu', input_shape=(128, 128, 1)),\n",
    "    MaxPooling2D((2, 2)),\n",
    "    Conv2D(64, (3, 3), activation='relu'),\n",
    "    MaxPooling2D((2, 2)),\n",
    "    Conv2D(128, (3, 3), activation='relu'),\n",
    "    MaxPooling2D((2, 2)),\n",
    "    Conv2D(256, (3, 3), activation='relu'),\n",
    "    MaxPooling2D((2, 2)),\n",
    "    Flatten(),\n",
    "    Dense(256, activation='relu'),\n",
    "    Dense(3, activation='softmax')\n",
    "])\n",
    "architectures['Larger (4 Conv)'] = large_model.count_params()\n",
    "\n",
    "# VGG-like\n",
    "vgg_model = Sequential([\n",
    "    Conv2D(64, (3, 3), activation='relu', input_shape=(128, 128, 1), padding='same'),\n",
    "    Conv2D(64, (3, 3), activation='relu', padding='same'),\n",
    "    MaxPooling2D((2, 2)),\n",
    "    Conv2D(128, (3, 3), activation='relu', padding='same'),\n",
    "    Conv2D(128, (3, 3), activation='relu', padding='same'),\n",
    "    MaxPooling2D((2, 2)),\n",
    "    Flatten(),\n",
    "    Dense(256, activation='relu'),\n",
    "    Dense(3, activation='softmax')\n",
    "])\n",
    "architectures['VGG-like'] = vgg_model.count_params()\n",
    "\n",
    "# Display comparison\n",
    "print(\"🏗️ Architecture Comparison:\\n\")\n",
    "for name, params in architectures.items():\n",
    "    size_mb = params * 4 / 1024 / 1024\n",
    "    marker = '👉' if name == 'Our Model' else '  '\n",
    "    print(f\"{marker} {name:20s}: {params:>12,} params (~{size_mb:>6.1f} MB)\")\n",
    "\n",
    "# Visualize\n",
    "plt.figure(figsize=(10, 6))\n",
    "names = list(architectures.keys())\n",
    "params = [architectures[n] / 1_000_000 for n in names]  # In millions\n",
    "colors = ['#e74c3c' if n == 'Our Model' else '#3498db' for n in names]\n",
    "\n",
    "bars = plt.bar(names, params, color=colors, edgecolor='black', linewidth=1.5)\n",
    "plt.ylabel('Parameters (Millions)', fontsize=12, fontweight='bold')\n",
    "plt.title('Model Complexity Comparison', fontsize=14, fontweight='bold')\n",
    "plt.xticks(rotation=15, ha='right')\n",
    "plt.grid(axis='y', alpha=0.3)\n",
    "\n",
    "# Add value labels\n",
    "for bar, param in zip(bars, params):\n",
    "    height = bar.get_height()\n",
    "    plt.text(bar.get_x() + bar.get_width()/2., height,\n",
    "             f'{param:.2f}M',\n",
    "             ha='center', va='bottom', fontsize=10, fontweight='bold')\n",
    "\n",
    "plt.tight_layout()\n",
    "plt.savefig('../../outputs/visualizations/day3_03_architecture_comparison.png', \n",
    "            dpi=150, bbox_inches='tight')\n",
    "plt.show()\n",
    "\n",
    "print(\"\\n✅ Comparison visualization saved\")"
   ]
  },
  {
   "cell_type": "markdown",
   "id": "3a4862c8",
   "metadata": {},
   "source": [
    "## 📝 Summary\n",
    "\n",
    "### ✅ What We Accomplished:\n",
    "\n",
    "1. **Designed CNN Architecture**\n",
    "   - 3 convolutional blocks (32 → 64 → 128 filters)\n",
    "   - 3 max pooling layers for downsampling\n",
    "   - 1 dense layer (128 neurons) with dropout\n",
    "   - Output layer (3 classes, softmax)\n",
    "\n",
    "2. **Model Statistics**\n",
    "   - Total parameters: ~4.29M\n",
    "   - Model size: ~17 MB\n",
    "   - Input: 128×128 grayscale\n",
    "   - Output: 3 class probabilities\n",
    "\n",
    "3. **Compilation**\n",
    "   - Optimizer: Adam (lr=1e-4)\n",
    "   - Loss: Categorical crossentropy\n",
    "   - Metric: Accuracy\n",
    "\n",
    "4. **Documentation**\n",
    "   - Architecture visualizations\n",
    "   - Parameter breakdown\n",
    "   - Comparison with alternatives\n",
    "\n",
    "---\n",
    "\n",
    "### 🎓 Key Insights:\n",
    "\n",
    "- **Balanced complexity**: Not too small (underfitting) or too large (overfitting)\n",
    "- **GPU-friendly**: ~4M parameters fit comfortably in GTX 1650's 4GB VRAM\n",
    "- **Hierarchical learning**: Progresses from low-level (edges) to high-level (tumor patterns) features\n",
    "- **Dropout regularization**: 50% dropout prevents overfitting\n",
    "\n",
    "---\n",
    "\n",
    "### 🚀 Next Steps:\n",
    "Move to **day3_04_training_test.ipynb** to test the pipeline with a short training run!"
   ]
  }
 ],
 "metadata": {
  "kernelspec": {
   "display_name": "Python (BrainTumor)",
   "language": "python",
   "name": "braintumor-venv"
  },
  "language_info": {
   "codemirror_mode": {
    "name": "ipython",
    "version": 3
   },
   "file_extension": ".py",
   "mimetype": "text/x-python",
   "name": "python",
   "nbconvert_exporter": "python",
   "pygments_lexer": "ipython3",
   "version": "3.11.14"
  }
 },
 "nbformat": 4,
 "nbformat_minor": 5
}
