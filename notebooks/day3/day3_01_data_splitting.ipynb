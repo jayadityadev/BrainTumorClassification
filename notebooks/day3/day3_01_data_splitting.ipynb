{
 "cells": [
  {
   "cell_type": "markdown",
   "id": "6cf62c5d",
   "metadata": {},
   "source": [
    "# 📊 Day 3.1 - Patient-Wise Data Splitting\n",
    "\n",
    "## 🎯 Learning Objectives\n",
    "\n",
    "In this notebook, you'll learn:\n",
    "1. **Why patient-wise splitting matters** - prevents data leakage\n",
    "2. **Stratified splits** - maintains class distribution across train/val/test\n",
    "3. **GroupKFold** - ensures no patient appears in multiple splits\n",
    "\n",
    "## 🧠 Theory: Why Patient-Wise Split?\n",
    "\n",
    "### ❌ **Problem with Random Splitting:**\n",
    "If we randomly split images, multiple slices from the **same patient** could end up in both training and test sets.\n",
    "\n",
    "**Result:** Model memorizes patient-specific patterns instead of learning generalizable tumor features → inflated test accuracy!\n",
    "\n",
    "### ✅ **Solution: Group by Patient ID**\n",
    "- All slices from one patient go into **only ONE** split (train, val, OR test)\n",
    "- Forces the model to generalize to **unseen patients**\n",
    "- More realistic evaluation of clinical deployment\n",
    "\n",
    "---\n",
    "\n",
    "## 📐 Split Strategy\n",
    "\n",
    "- **Training:** 70% of patients (for learning)\n",
    "- **Validation:** 15% of patients (for hyperparameter tuning)\n",
    "- **Test:** 15% of patients (final evaluation, never touched during training)\n",
    "\n",
    "We'll use `StratifiedGroupKFold` to maintain class balance while grouping by patient."
   ]
  },
  {
   "cell_type": "markdown",
   "id": "ce83cb00",
   "metadata": {},
   "source": [
    "## 🔧 Setup"
   ]
  },
  {
   "cell_type": "code",
   "execution_count": 7,
   "id": "41120bd2",
   "metadata": {},
   "outputs": [
    {
     "name": "stdout",
     "output_type": "stream",
     "text": [
      "✅ Libraries imported successfully\n"
     ]
    }
   ],
   "source": [
    "import pandas as pd\n",
    "import numpy as np\n",
    "from sklearn.model_selection import StratifiedGroupKFold\n",
    "import matplotlib.pyplot as plt\n",
    "import seaborn as sns\n",
    "import os\n",
    "\n",
    "# Set style\n",
    "sns.set_style('whitegrid')\n",
    "plt.rcParams['figure.figsize'] = (12, 6)\n",
    "\n",
    "print(\"✅ Libraries imported successfully\")"
   ]
  },
  {
   "cell_type": "markdown",
   "id": "9bd9c54b",
   "metadata": {},
   "source": [
    "## 📂 Load Metadata"
   ]
  },
  {
   "cell_type": "code",
   "execution_count": 8,
   "id": "538d5a50",
   "metadata": {},
   "outputs": [
    {
     "name": "stdout",
     "output_type": "stream",
     "text": [
      "Total images: 3064\n",
      "\n",
      "First few rows:\n"
     ]
    },
    {
     "data": {
      "text/html": [
       "<div>\n",
       "<style scoped>\n",
       "    .dataframe tbody tr th:only-of-type {\n",
       "        vertical-align: middle;\n",
       "    }\n",
       "\n",
       "    .dataframe tbody tr th {\n",
       "        vertical-align: top;\n",
       "    }\n",
       "\n",
       "    .dataframe thead th {\n",
       "        text-align: right;\n",
       "    }\n",
       "</style>\n",
       "<table border=\"1\" class=\"dataframe\">\n",
       "  <thead>\n",
       "    <tr style=\"text-align: right;\">\n",
       "      <th></th>\n",
       "      <th>filename</th>\n",
       "      <th>label</th>\n",
       "      <th>patient_id</th>\n",
       "      <th>original_mat_name</th>\n",
       "    </tr>\n",
       "  </thead>\n",
       "  <tbody>\n",
       "    <tr>\n",
       "      <th>0</th>\n",
       "      <td>pid101029_1465.png</td>\n",
       "      <td>3</td>\n",
       "      <td>101029</td>\n",
       "      <td>1465</td>\n",
       "    </tr>\n",
       "    <tr>\n",
       "      <th>1</th>\n",
       "      <td>pid105187_1561.png</td>\n",
       "      <td>3</td>\n",
       "      <td>105187</td>\n",
       "      <td>1561</td>\n",
       "    </tr>\n",
       "    <tr>\n",
       "      <th>2</th>\n",
       "      <td>pid101017_1643.png</td>\n",
       "      <td>3</td>\n",
       "      <td>101017</td>\n",
       "      <td>1643</td>\n",
       "    </tr>\n",
       "    <tr>\n",
       "      <th>3</th>\n",
       "      <td>pid101145_1652.png</td>\n",
       "      <td>3</td>\n",
       "      <td>101145</td>\n",
       "      <td>1652</td>\n",
       "    </tr>\n",
       "    <tr>\n",
       "      <th>4</th>\n",
       "      <td>pid111075_1233.png</td>\n",
       "      <td>3</td>\n",
       "      <td>111075</td>\n",
       "      <td>1233</td>\n",
       "    </tr>\n",
       "  </tbody>\n",
       "</table>\n",
       "</div>"
      ],
      "text/plain": [
       "             filename  label patient_id  original_mat_name\n",
       "0  pid101029_1465.png      3     101029               1465\n",
       "1  pid105187_1561.png      3     105187               1561\n",
       "2  pid101017_1643.png      3     101017               1643\n",
       "3  pid101145_1652.png      3     101145               1652\n",
       "4  pid111075_1233.png      3     111075               1233"
      ]
     },
     "execution_count": 8,
     "metadata": {},
     "output_type": "execute_result"
    }
   ],
   "source": [
    "# Load metadata\n",
    "meta = pd.read_csv(\"../../outputs/data_splits/metadata.csv\")\n",
    "\n",
    "print(f\"Total images: {len(meta)}\")\n",
    "print(f\"\\nFirst few rows:\")\n",
    "meta.head()"
   ]
  },
  {
   "cell_type": "code",
   "execution_count": 9,
   "id": "6b956a8e",
   "metadata": {},
   "outputs": [
    {
     "name": "stdout",
     "output_type": "stream",
     "text": [
      "Sample file exists: True\n",
      "\n",
      "Sample path: ../../outputs/ce_mri_enhanced/3/pid101029_1465.png\n"
     ]
    }
   ],
   "source": [
    "# Add filepath for enhanced images\n",
    "meta['filepath'] = meta.apply(\n",
    "    lambda x: f\"../../outputs/ce_mri_enhanced/{x.label}/{x.filename}\", \n",
    "    axis=1\n",
    ")\n",
    "\n",
    "# Verify files exist (sample check)\n",
    "sample_exists = os.path.exists(meta['filepath'].iloc[0])\n",
    "print(f\"Sample file exists: {sample_exists}\")\n",
    "print(f\"\\nSample path: {meta['filepath'].iloc[0]}\")"
   ]
  },
  {
   "cell_type": "markdown",
   "id": "af04d057",
   "metadata": {},
   "source": [
    "## 🔍 Exploratory Analysis"
   ]
  },
  {
   "cell_type": "code",
   "execution_count": 10,
   "id": "b676accf",
   "metadata": {},
   "outputs": [
    {
     "name": "stdout",
     "output_type": "stream",
     "text": [
      "📊 Class Distribution:\n",
      "label\n",
      "1     708\n",
      "2    1426\n",
      "3     930\n",
      "Name: count, dtype: int64\n",
      "\n",
      "Percentages:\n",
      "label\n",
      "1    23.10705\n",
      "2    46.54047\n",
      "3    30.35248\n",
      "Name: count, dtype: float64\n"
     ]
    }
   ],
   "source": [
    "# Class distribution\n",
    "print(\"📊 Class Distribution:\")\n",
    "class_counts = meta['label'].value_counts().sort_index()\n",
    "print(class_counts)\n",
    "print(f\"\\nPercentages:\")\n",
    "print(class_counts / len(meta) * 100)"
   ]
  },
  {
   "cell_type": "code",
   "execution_count": 5,
   "id": "fe377e0e",
   "metadata": {},
   "outputs": [
    {
     "name": "stdout",
     "output_type": "stream",
     "text": [
      "👥 Total unique patients: 233\n",
      "\n",
      "📈 Slices per patient statistics:\n",
      "count    233.000000\n",
      "mean      13.150215\n",
      "std        7.655779\n",
      "min        1.000000\n",
      "25%        7.000000\n",
      "50%       13.000000\n",
      "75%       18.000000\n",
      "max       38.000000\n",
      "dtype: float64\n"
     ]
    }
   ],
   "source": [
    "# Patient distribution\n",
    "print(f\"👥 Total unique patients: {meta['patient_id'].nunique()}\")\n",
    "print(f\"\\n📈 Slices per patient statistics:\")\n",
    "slices_per_patient = meta.groupby('patient_id').size()\n",
    "print(slices_per_patient.describe())"
   ]
  },
  {
   "cell_type": "code",
   "execution_count": 12,
   "id": "daffc13f",
   "metadata": {},
   "outputs": [
    {
     "data": {
      "image/png": "[encoded data removed]",
      "text/plain": [
       "<Figure size 1400x500 with 2 Axes>"
      ]
     },
     "metadata": {},
     "output_type": "display_data"
    },
    {
     "name": "stdout",
     "output_type": "stream",
     "text": [
      "✅ Visualization saved\n"
     ]
    }
   ],
   "source": [
    "# Create visualizations directory if it doesn't exist\n",
    "os.makedirs('../../outputs/visualizations', exist_ok=True)\n",
    "\n",
    "# Visualize distributions\n",
    "fig, axes = plt.subplots(1, 2, figsize=(14, 5))\n",
    "\n",
    "# Class distribution\n",
    "class_counts.plot(kind='bar', ax=axes[0], color=['#3498db', '#2ecc71', '#e74c3c'])\n",
    "axes[0].set_title('Class Distribution (All Images)', fontsize=14, fontweight='bold')\n",
    "axes[0].set_xlabel('Tumor Type')\n",
    "axes[0].set_ylabel('Number of Images')\n",
    "axes[0].set_xticklabels(['Meningioma (1)', 'Glioma (2)', 'Pituitary (3)'], rotation=0)\n",
    "\n",
    "# Slices per patient\n",
    "axes[1].hist(slices_per_patient, bins=30, color='#9b59b6', edgecolor='black', alpha=0.7)\n",
    "axes[1].set_title('Distribution of Slices per Patient', fontsize=14, fontweight='bold')\n",
    "axes[1].set_xlabel('Number of Slices')\n",
    "axes[1].set_ylabel('Number of Patients')\n",
    "axes[1].axvline(slices_per_patient.mean(), color='red', linestyle='--', \n",
    "                label=f'Mean: {slices_per_patient.mean():.1f}')\n",
    "axes[1].legend()\n",
    "\n",
    "plt.tight_layout()\n",
    "plt.savefig('../../outputs/visualizations/day3_01_data_distribution.png', dpi=150, bbox_inches='tight')\n",
    "plt.show()\n",
    "\n",
    "print(\"✅ Visualization saved\")"
   ]
  },
  {
   "cell_type": "markdown",
   "id": "72f32361",
   "metadata": {},
   "source": [
    "## 🔀 Create Stratified Patient-Wise Splits\n",
    "\n",
    "### Strategy:\n",
    "1. Use `StratifiedGroupKFold` with 5 folds → gives us 80/20 split\n",
    "2. Take first fold as test set (20% of patients)\n",
    "3. From remaining 80%, take 15% as validation (12% of total)\n",
    "4. Final split: **68% train, 12% val, 20% test**"
   ]
  },
  {
   "cell_type": "code",
   "execution_count": 13,
   "id": "8bae0bd8",
   "metadata": {},
   "outputs": [
    {
     "name": "stdout",
     "output_type": "stream",
     "text": [
      "Unique patients: 233\n",
      "\n",
      "Patient-level class distribution:\n",
      "label\n",
      "1    82\n",
      "2    89\n",
      "3    62\n",
      "Name: count, dtype: int64\n"
     ]
    }
   ],
   "source": [
    "# We need to aggregate by patient first to ensure stratification works on patient level\n",
    "# Get one row per patient with their dominant class\n",
    "patient_labels = meta.groupby('patient_id')['label'].agg(lambda x: x.mode()[0]).reset_index()\n",
    "print(f\"Unique patients: {len(patient_labels)}\")\n",
    "print(f\"\\nPatient-level class distribution:\")\n",
    "print(patient_labels['label'].value_counts().sort_index())"
   ]
  },
  {
   "cell_type": "code",
   "execution_count": 14,
   "id": "28762770",
   "metadata": {},
   "outputs": [
    {
     "name": "stdout",
     "output_type": "stream",
     "text": [
      "Test patients: 47\n",
      "Train+Val patients: 186\n"
     ]
    }
   ],
   "source": [
    "# Initialize StratifiedGroupKFold\n",
    "sgkf = StratifiedGroupKFold(n_splits=5, shuffle=True, random_state=42)\n",
    "\n",
    "# Get first split (80% train+val, 20% test at patient level)\n",
    "train_val_patients, test_patients = next(\n",
    "    sgkf.split(\n",
    "        patient_labels, \n",
    "        patient_labels['label'], \n",
    "        groups=patient_labels['patient_id']\n",
    "    )\n",
    ")\n",
    "\n",
    "# Get patient IDs\n",
    "test_patient_ids = patient_labels.iloc[test_patients]['patient_id'].values\n",
    "train_val_patient_ids = patient_labels.iloc[train_val_patients]['patient_id'].values\n",
    "\n",
    "print(f\"Test patients: {len(test_patient_ids)}\")\n",
    "print(f\"Train+Val patients: {len(train_val_patient_ids)}\")"
   ]
  },
  {
   "cell_type": "code",
   "execution_count": 15,
   "id": "2d8c38ce",
   "metadata": {},
   "outputs": [
    {
     "name": "stdout",
     "output_type": "stream",
     "text": [
      "Test images: 680\n",
      "Train+Val images: 2384\n"
     ]
    }
   ],
   "source": [
    "# Split images based on patient IDs\n",
    "test_meta = meta[meta['patient_id'].isin(test_patient_ids)].copy()\n",
    "train_val_meta = meta[meta['patient_id'].isin(train_val_patient_ids)].copy()\n",
    "\n",
    "print(f\"Test images: {len(test_meta)}\")\n",
    "print(f\"Train+Val images: {len(train_val_meta)}\")"
   ]
  },
  {
   "cell_type": "code",
   "execution_count": 16,
   "id": "ed62ca95",
   "metadata": {},
   "outputs": [
    {
     "name": "stdout",
     "output_type": "stream",
     "text": [
      "✅ Final Split:\n",
      "  Train: 2059 images from 158 patients\n",
      "  Val:   325 images from 28 patients\n",
      "  Test:  680 images from 47 patients\n",
      "\n",
      "Total: 3064 images\n"
     ]
    }
   ],
   "source": [
    "# Now split train_val into train and validation (85/15 split)\n",
    "# Use stratified sampling to maintain class balance\n",
    "from sklearn.model_selection import train_test_split\n",
    "\n",
    "# Get patient IDs from train_val\n",
    "train_val_patient_labels = patient_labels[patient_labels['patient_id'].isin(train_val_patient_ids)]\n",
    "\n",
    "# Split patients (not images) into train and val\n",
    "train_patients, val_patients = train_test_split(\n",
    "    train_val_patient_labels['patient_id'],\n",
    "    test_size=0.15,\n",
    "    stratify=train_val_patient_labels['label'],\n",
    "    random_state=42\n",
    ")\n",
    "\n",
    "# Split images based on patient assignment\n",
    "train_meta = train_val_meta[train_val_meta['patient_id'].isin(train_patients)].copy()\n",
    "val_meta = train_val_meta[train_val_meta['patient_id'].isin(val_patients)].copy()\n",
    "\n",
    "print(f\"✅ Final Split:\")\n",
    "print(f\"  Train: {len(train_meta)} images from {len(train_patients)} patients\")\n",
    "print(f\"  Val:   {len(val_meta)} images from {len(val_patients)} patients\")\n",
    "print(f\"  Test:  {len(test_meta)} images from {len(test_patient_ids)} patients\")\n",
    "print(f\"\\nTotal: {len(train_meta) + len(val_meta) + len(test_meta)} images\")"
   ]
  },
  {
   "cell_type": "markdown",
   "id": "dc349e70",
   "metadata": {},
   "source": [
    "## ✅ Verify Split Quality"
   ]
  },
  {
   "cell_type": "code",
   "execution_count": 17,
   "id": "78199b87",
   "metadata": {},
   "outputs": [
    {
     "name": "stdout",
     "output_type": "stream",
     "text": [
      "🔍 Patient Leakage Check:\n",
      "  Train-Val overlap: 0 patients ✅\n",
      "  Train-Test overlap: 0 patients ✅\n",
      "  Val-Test overlap: 0 patients ✅\n"
     ]
    }
   ],
   "source": [
    "# Check for patient leakage\n",
    "train_patients_set = set(train_meta['patient_id'])\n",
    "val_patients_set = set(val_meta['patient_id'])\n",
    "test_patients_set = set(test_meta['patient_id'])\n",
    "\n",
    "train_val_overlap = train_patients_set & val_patients_set\n",
    "train_test_overlap = train_patients_set & test_patients_set\n",
    "val_test_overlap = val_patients_set & test_patients_set\n",
    "\n",
    "print(\"🔍 Patient Leakage Check:\")\n",
    "print(f\"  Train-Val overlap: {len(train_val_overlap)} patients ✅\" if len(train_val_overlap) == 0 else f\"  ❌ WARNING: {len(train_val_overlap)} patients overlap!\")\n",
    "print(f\"  Train-Test overlap: {len(train_test_overlap)} patients ✅\" if len(train_test_overlap) == 0 else f\"  ❌ WARNING: {len(train_test_overlap)} patients overlap!\")\n",
    "print(f\"  Val-Test overlap: {len(val_test_overlap)} patients ✅\" if len(val_test_overlap) == 0 else f\"  ❌ WARNING: {len(val_test_overlap)} patients overlap!\")"
   ]
  },
  {
   "cell_type": "code",
   "execution_count": 18,
   "id": "9a24a3b9",
   "metadata": {},
   "outputs": [
    {
     "name": "stdout",
     "output_type": "stream",
     "text": [
      "\n",
      "📊 Class Distribution Across Splits:\n",
      "\n",
      "Counts:\n",
      "       Train  Val  Test\n",
      "label                  \n",
      "1        446   50   212\n",
      "2        966  163   297\n",
      "3        647  112   171\n",
      "\n",
      "Percentages:\n",
      "           Train        Val       Test\n",
      "label                                 \n",
      "1      21.661000  15.384615  31.176471\n",
      "2      46.915979  50.153846  43.676471\n",
      "3      31.423021  34.461538  25.147059\n"
     ]
    }
   ],
   "source": [
    "# Check class distribution across splits\n",
    "print(\"\\n📊 Class Distribution Across Splits:\\n\")\n",
    "\n",
    "splits_summary = pd.DataFrame({\n",
    "    'Train': train_meta['label'].value_counts().sort_index(),\n",
    "    'Val': val_meta['label'].value_counts().sort_index(),\n",
    "    'Test': test_meta['label'].value_counts().sort_index()\n",
    "})\n",
    "\n",
    "print(\"Counts:\")\n",
    "print(splits_summary)\n",
    "print(\"\\nPercentages:\")\n",
    "print(splits_summary.div(splits_summary.sum()) * 100)"
   ]
  },
  {
   "cell_type": "code",
   "execution_count": 19,
   "id": "6366c743",
   "metadata": {},
   "outputs": [
    {
     "data": {
      "image/png": "[encoded data removed]",
      "text/plain": [
       "<Figure size 1500x500 with 2 Axes>"
      ]
     },
     "metadata": {},
     "output_type": "display_data"
    },
    {
     "name": "stdout",
     "output_type": "stream",
     "text": [
      "✅ Visualization saved\n"
     ]
    }
   ],
   "source": [
    "# Visualize split distribution\n",
    "fig, axes = plt.subplots(1, 2, figsize=(15, 5))\n",
    "\n",
    "# Stacked bar chart - absolute counts\n",
    "splits_summary.T.plot(kind='bar', stacked=False, ax=axes[0], \n",
    "                       color=['#3498db', '#2ecc71', '#e74c3c'])\n",
    "axes[0].set_title('Class Distribution Across Splits', fontsize=14, fontweight='bold')\n",
    "axes[0].set_xlabel('Split')\n",
    "axes[0].set_ylabel('Number of Images')\n",
    "axes[0].legend(['Meningioma (1)', 'Glioma (2)', 'Pituitary (3)'], loc='upper right')\n",
    "axes[0].set_xticklabels(['Train', 'Val', 'Test'], rotation=0)\n",
    "\n",
    "# Percentage comparison\n",
    "percentages = splits_summary.div(splits_summary.sum()) * 100\n",
    "percentages.T.plot(kind='bar', ax=axes[1], \n",
    "                    color=['#3498db', '#2ecc71', '#e74c3c'])\n",
    "axes[1].set_title('Class Distribution (%) Across Splits', fontsize=14, fontweight='bold')\n",
    "axes[1].set_xlabel('Split')\n",
    "axes[1].set_ylabel('Percentage')\n",
    "axes[1].legend(['Meningioma (1)', 'Glioma (2)', 'Pituitary (3)'], loc='upper right')\n",
    "axes[1].set_xticklabels(['Train', 'Val', 'Test'], rotation=0)\n",
    "axes[1].axhline(33.33, color='gray', linestyle='--', alpha=0.5, label='33.33% (perfect balance)')\n",
    "\n",
    "plt.tight_layout()\n",
    "plt.savefig('../../outputs/visualizations/day3_01_split_distribution.png', dpi=150, bbox_inches='tight')\n",
    "plt.show()\n",
    "\n",
    "print(\"✅ Visualization saved\")"
   ]
  },
  {
   "cell_type": "markdown",
   "id": "0228c247",
   "metadata": {},
   "source": [
    "## 💾 Save Splits"
   ]
  },
  {
   "cell_type": "code",
   "execution_count": 20,
   "id": "44535a9c",
   "metadata": {},
   "outputs": [
    {
     "name": "stdout",
     "output_type": "stream",
     "text": [
      "✅ Split CSVs saved:\n",
      "  - train_split.csv (2059 images)\n",
      "  - val_split.csv (325 images)\n",
      "  - test_split.csv (680 images)\n"
     ]
    }
   ],
   "source": [
    "# Create data_splits directory if it doesn't exist\n",
    "os.makedirs('../../outputs/data_splits', exist_ok=True)\n",
    "\n",
    "# Convert label to string for compatibility with ImageDataGenerator\n",
    "train_meta['label'] = train_meta['label'].astype(str)\n",
    "val_meta['label'] = val_meta['label'].astype(str)\n",
    "test_meta['label'] = test_meta['label'].astype(str)\n",
    "\n",
    "# Save splits\n",
    "train_meta.to_csv('../../outputs/data_splits/train_split.csv', index=False)\n",
    "val_meta.to_csv('../../outputs/data_splits/val_split.csv', index=False)\n",
    "test_meta.to_csv('../../outputs/data_splits/test_split.csv', index=False)\n",
    "\n",
    "print(\"✅ Split CSVs saved:\")\n",
    "print(f\"  - train_split.csv ({len(train_meta)} images)\")\n",
    "print(f\"  - val_split.csv ({len(val_meta)} images)\")\n",
    "print(f\"  - test_split.csv ({len(test_meta)} images)\")"
   ]
  },
  {
   "cell_type": "markdown",
   "id": "ec1bde36",
   "metadata": {},
   "source": [
    "## 📝 Summary Statistics"
   ]
  },
  {
   "cell_type": "code",
   "execution_count": 21,
   "id": "4bb228a3",
   "metadata": {},
   "outputs": [
    {
     "name": "stdout",
     "output_type": "stream",
     "text": [
      "\n",
      "📊 Final Split Summary:\n",
      "     Split  Patients  Images Percentage\n",
      "     Train       158    2059      67.2%\n",
      "Validation        28     325      10.6%\n",
      "      Test        47     680      22.2%\n",
      "     Total       233    3064     100.0%\n",
      "\n",
      "✅ Summary saved to split_summary.csv\n"
     ]
    }
   ],
   "source": [
    "summary = {\n",
    "    'Split': ['Train', 'Validation', 'Test', 'Total'],\n",
    "    'Patients': [len(train_patients), len(val_patients), len(test_patient_ids), \n",
    "                 len(train_patients) + len(val_patients) + len(test_patient_ids)],\n",
    "    'Images': [len(train_meta), len(val_meta), len(test_meta), \n",
    "               len(train_meta) + len(val_meta) + len(test_meta)],\n",
    "    'Percentage': [\n",
    "        f\"{len(train_meta)/len(meta)*100:.1f}%\",\n",
    "        f\"{len(val_meta)/len(meta)*100:.1f}%\",\n",
    "        f\"{len(test_meta)/len(meta)*100:.1f}%\",\n",
    "        \"100.0%\"\n",
    "    ]\n",
    "}\n",
    "\n",
    "summary_df = pd.DataFrame(summary)\n",
    "print(\"\\n📊 Final Split Summary:\")\n",
    "print(summary_df.to_string(index=False))\n",
    "\n",
    "# Save summary\n",
    "summary_df.to_csv('../../outputs/data_splits/split_summary.csv', index=False)\n",
    "print(\"\\n✅ Summary saved to split_summary.csv\")"
   ]
  },
  {
   "cell_type": "markdown",
   "id": "4e81003d",
   "metadata": {},
   "source": [
    "## 🎓 Key Takeaways\n",
    "\n",
    "✅ **No Patient Leakage**: Every patient appears in only ONE split\n",
    "\n",
    "✅ **Stratified**: Class distribution is similar across all splits\n",
    "\n",
    "✅ **Reproducible**: Random seed (42) ensures same splits every time\n",
    "\n",
    "✅ **Ready for Training**: CSVs contain filepaths for direct use with data generators\n",
    "\n",
    "---\n",
    "\n",
    "### 🚀 Next Steps:\n",
    "Move to **day3_02_data_augmentation.ipynb** to build the augmentation pipeline!"
   ]
  }
 ],
 "metadata": {
  "kernelspec": {
   "display_name": ".venv",
   "language": "python",
   "name": "python3"
  },
  "language_info": {
   "codemirror_mode": {
    "name": "ipython",
    "version": 3
   },
   "file_extension": ".py",
   "mimetype": "text/x-python",
   "name": "python",
   "nbconvert_exporter": "python",
   "pygments_lexer": "ipython3",
   "version": "3.11.14"
  }
 },
 "nbformat": 4,
 "nbformat_minor": 5
}
