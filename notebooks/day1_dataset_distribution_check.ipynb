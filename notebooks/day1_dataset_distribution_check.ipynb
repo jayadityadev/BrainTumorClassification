{
 "cells": [
  {
   "cell_type": "code",
   "execution_count": null,
   "id": "8fb8bb79",
   "metadata": {},
   "outputs": [
    {
     "name": "stdout",
     "output_type": "stream",
     "text": [
      "Class 1 count: 708\n",
      "Class 2 count: 1426\n",
      "Class 3 count: 930\n"
     ]
    }
   ],
   "source": [
    "import glob, os\n",
    "base = \"../outputs/ce_mri_images\"\n",
    "for label in sorted(os.listdir(base)):\n",
    "    path = os.path.join(base, label)\n",
    "    if os.path.isdir(path):\n",
    "        print(\"Class\", label, \"count:\", len(glob.glob(os.path.join(path, \"*.png\"))))"
   ]
  },
  {
   "cell_type": "code",
   "execution_count": null,
   "id": "ca5fe409",
   "metadata": {},
   "outputs": [],
   "source": []
  }
 ],
 "metadata": {
  "kernelspec": {
   "display_name": "braintumor-venv",
   "language": "python",
   "name": "braintumor-venv"
  },
  "language_info": {
   "codemirror_mode": {
    "name": "ipython",
    "version": 3
   },
   "file_extension": ".py",
   "mimetype": "text/x-python",
   "name": "python",
   "nbconvert_exporter": "python",
   "pygments_lexer": "ipython3",
   "version": "3.14.0"
  }
 },
 "nbformat": 4,
 "nbformat_minor": 5
}
