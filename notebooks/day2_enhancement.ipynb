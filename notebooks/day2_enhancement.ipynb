{
 "cells": [
  {
   "cell_type": "markdown",
   "id": "f39f2e7c",
   "metadata": {},
   "source": [
    "# Day 2 - Image Enhancement Module\n",
    "\n",
    "**Goal:** Apply image enhancement techniques to improve MRI contrast and clarity for better model training.\n",
    "\n",
    "**Techniques:**\n",
    "1. Gaussian Blur - Noise reduction\n",
    "2. Non-Local Means (NLM) Denoising - Advanced noise reduction while preserving edges\n",
    "3. CLAHE - Adaptive histogram equalization for contrast enhancement\n",
    "\n",
    "**Outcome:** Enhanced dataset ready for CNN training"
   ]
  },
  {
   "cell_type": "markdown",
   "id": "bbd92f7f",
   "metadata": {},
   "source": [
    "## 1. Import Libraries"
   ]
  },
  {
   "cell_type": "code",
   "execution_count": null,
   "id": "862b8270",
   "metadata": {},
   "outputs": [],
   "source": [
    "import cv2\n",
    "import numpy as np\n",
    "import matplotlib.pyplot as plt\n",
    "from tqdm import tqdm\n",
    "import glob\n",
    "import os\n",
    "import random\n",
    "\n",
    "# Set matplotlib to display inline\n",
    "%matplotlib inline\n",
    "\n",
    "print(\"✓ All libraries imported successfully\")"
   ]
  },
  {
   "cell_type": "markdown",
   "id": "8bef7aa2",
   "metadata": {},
   "source": [
    "## 2. Load a Sample Image"
   ]
  },
  {
   "cell_type": "code",
   "execution_count": null,
   "id": "77896b1f",
   "metadata": {},
   "outputs": [],
   "source": [
    "# Pick a sample image\n",
    "img_path = \"../outputs/ce_mri_images/1/pid100360_1.png\"\n",
    "\n",
    "# Check if file exists, otherwise pick any file\n",
    "if not os.path.exists(img_path):\n",
    "    all_images = glob.glob(\"../outputs/ce_mri_images/1/*.png\")\n",
    "    if all_images:\n",
    "        img_path = all_images[0]\n",
    "    else:\n",
    "        print(\"No images found!\")\n",
    "\n",
    "img = cv2.imread(img_path, cv2.IMREAD_GRAYSCALE)\n",
    "\n",
    "print(f\"Loaded: {os.path.basename(img_path)}\")\n",
    "print(f\"Shape: {img.shape}\")\n",
    "print(f\"Data type: {img.dtype}\")\n",
    "print(f\"Value range: [{img.min()}, {img.max()}]\")"
   ]
  },
  {
   "cell_type": "code",
   "execution_count": null,
   "id": "fc3a828a",
   "metadata": {},
   "outputs": [],
   "source": [
    "# Visualize original image\n",
    "plt.figure(figsize=(6, 6))\n",
    "plt.imshow(img, cmap='gray')\n",
    "plt.title(f'Original MRI\\n{os.path.basename(img_path)}')\n",
    "plt.axis('off')\n",
    "plt.colorbar()\n",
    "plt.show()"
   ]
  },
  {
   "cell_type": "markdown",
   "id": "fca7c6ad",
   "metadata": {},
   "source": [
    "## 3. Experiment with Enhancement Techniques"
   ]
  },
  {
   "cell_type": "markdown",
   "id": "61459d6e",
   "metadata": {},
   "source": [
    "### 3.1 Gaussian Blur (Simple Noise Reduction)"
   ]
  },
  {
   "cell_type": "code",
   "execution_count": null,
   "id": "e77a5083",
   "metadata": {},
   "outputs": [],
   "source": [
    "# Apply Gaussian blur with kernel size (3,3)\n",
    "gaussian = cv2.GaussianBlur(img, (3, 3), 0)\n",
    "\n",
    "print(f\"Original std dev (noise level): {img.std():.2f}\")\n",
    "print(f\"Gaussian std dev: {gaussian.std():.2f}\")\n",
    "print(f\"Noise reduction: {((img.std() - gaussian.std()) / img.std() * 100):.1f}%\")"
   ]
  },
  {
   "cell_type": "markdown",
   "id": "a500e2c9",
   "metadata": {},
   "source": [
    "### 3.2 Non-Local Means Denoising (Advanced)"
   ]
  },
  {
   "cell_type": "code",
   "execution_count": null,
   "id": "b009e477",
   "metadata": {},
   "outputs": [],
   "source": [
    "# Apply Non-Local Means denoising\n",
    "# h: filter strength (higher = more smoothing)\n",
    "# templateWindowSize: size of template patch\n",
    "# searchWindowSize: size of search area\n",
    "nlm = cv2.fastNlMeansDenoising(img, None, h=10, templateWindowSize=7, searchWindowSize=21)\n",
    "\n",
    "print(f\"NLM std dev: {nlm.std():.2f}\")\n",
    "print(f\"Noise reduction: {((img.std() - nlm.std()) / img.std() * 100):.1f}%\")"
   ]
  },
  {
   "cell_type": "markdown",
   "id": "65ac321c",
   "metadata": {},
   "source": [
    "### 3.3 CLAHE (Contrast Limited Adaptive Histogram Equalization)"
   ]
  },
  {
   "cell_type": "code",
   "execution_count": null,
   "id": "4912716a",
   "metadata": {},
   "outputs": [],
   "source": [
    "# Apply CLAHE on denoised image\n",
    "# clipLimit: threshold for contrast limiting (2.0 is good balance)\n",
    "# tileGridSize: size of grid for histogram equalization\n",
    "clahe = cv2.createCLAHE(clipLimit=2.0, tileGridSize=(8, 8))\n",
    "enhanced = clahe.apply(nlm)\n",
    "\n",
    "print(f\"Original contrast (std): {img.std():.2f}\")\n",
    "print(f\"Enhanced contrast (std): {enhanced.std():.2f}\")\n",
    "print(f\"Contrast improvement: {((enhanced.std() - img.std()) / img.std() * 100):.1f}%\")"
   ]
  },
  {
   "cell_type": "markdown",
   "id": "a0a63114",
   "metadata": {},
   "source": [
    "## 4. Visual Comparison"
   ]
  },
  {
   "cell_type": "code",
   "execution_count": null,
   "id": "4a085c35",
   "metadata": {},
   "outputs": [],
   "source": [
    "# Plot all enhancement stages\n",
    "fig, axes = plt.subplots(2, 2, figsize=(12, 12))\n",
    "\n",
    "axes[0, 0].imshow(img, cmap='gray')\n",
    "axes[0, 0].set_title(f'Original\\nStd: {img.std():.2f}', fontsize=12, fontweight='bold')\n",
    "axes[0, 0].axis('off')\n",
    "\n",
    "axes[0, 1].imshow(gaussian, cmap='gray')\n",
    "axes[0, 1].set_title(f'Gaussian Blur\\nStd: {gaussian.std():.2f}', fontsize=12, fontweight='bold')\n",
    "axes[0, 1].axis('off')\n",
    "\n",
    "axes[1, 0].imshow(nlm, cmap='gray')\n",
    "axes[1, 0].set_title(f'NLM Denoised\\nStd: {nlm.std():.2f}', fontsize=12, fontweight='bold')\n",
    "axes[1, 0].axis('off')\n",
    "\n",
    "axes[1, 1].imshow(enhanced, cmap='gray')\n",
    "axes[1, 1].set_title(f'CLAHE Enhanced\\nStd: {enhanced.std():.2f}', fontsize=12, fontweight='bold')\n",
    "axes[1, 1].axis('off')\n",
    "\n",
    "plt.tight_layout()\n",
    "plt.show()"
   ]
  },
  {
   "cell_type": "markdown",
   "id": "301a62ea",
   "metadata": {},
   "source": [
    "## 5. Build the Enhancement Pipeline Function"
   ]
  },
  {
   "cell_type": "code",
   "execution_count": null,
   "id": "91dfe951",
   "metadata": {},
   "outputs": [],
   "source": [
    "def enhance_image(img):\n",
    "    \"\"\"\n",
    "    Apply complete enhancement pipeline:\n",
    "    1. Non-Local Means Denoising\n",
    "    2. CLAHE contrast enhancement\n",
    "    3. Normalization\n",
    "    \n",
    "    Args:\n",
    "        img: Input grayscale image (numpy array)\n",
    "    \n",
    "    Returns:\n",
    "        enhanced: Enhanced image (numpy array, uint8, [0, 255])\n",
    "    \"\"\"\n",
    "    # Step 1: Denoise using Non-Local Means\n",
    "    denoised = cv2.fastNlMeansDenoising(img, None, h=10, templateWindowSize=7, searchWindowSize=21)\n",
    "    \n",
    "    # Step 2: Apply CLAHE for contrast enhancement\n",
    "    clahe = cv2.createCLAHE(clipLimit=2.0, tileGridSize=(8, 8))\n",
    "    enhanced = clahe.apply(denoised)\n",
    "    \n",
    "    # Step 3: Normalize to [0, 255] range\n",
    "    enhanced = cv2.normalize(enhanced, None, 0, 255, cv2.NORM_MINMAX).astype(np.uint8)\n",
    "    \n",
    "    return enhanced\n",
    "\n",
    "# Test the function\n",
    "result = enhance_image(img)\n",
    "\n",
    "print(f\"✓ Enhancement pipeline created successfully\")\n",
    "print(f\"Output shape: {result.shape}\")\n",
    "print(f\"Output range: [{result.min()}, {result.max()}]\")"
   ]
  },
  {
   "cell_type": "code",
   "execution_count": null,
   "id": "3fd3a060",
   "metadata": {},
   "outputs": [],
   "source": [
    "# Compare original vs final enhanced\n",
    "fig, axes = plt.subplots(1, 2, figsize=(12, 6))\n",
    "\n",
    "axes[0].imshow(img, cmap='gray')\n",
    "axes[0].set_title('Original', fontsize=14, fontweight='bold')\n",
    "axes[0].axis('off')\n",
    "\n",
    "axes[1].imshow(result, cmap='gray')\n",
    "axes[1].set_title('Enhanced (NLM + CLAHE)', fontsize=14, fontweight='bold')\n",
    "axes[1].axis('off')\n",
    "\n",
    "plt.tight_layout()\n",
    "plt.show()\n",
    "\n",
    "print(f\"Contrast improvement: {((result.std() / img.std() - 1) * 100):.1f}%\")"
   ]
  },
  {
   "cell_type": "markdown",
   "id": "5b335784",
   "metadata": {},
   "source": [
    "## 6. Test on Multiple Samples"
   ]
  },
  {
   "cell_type": "code",
   "execution_count": null,
   "id": "2f045961",
   "metadata": {},
   "outputs": [],
   "source": [
    "# Test on 3 random samples (one from each class)\n",
    "fig, axes = plt.subplots(3, 2, figsize=(10, 15))\n",
    "\n",
    "for i, label in enumerate(['1', '2', '3']):\n",
    "    # Pick a random image from this class\n",
    "    img_files = glob.glob(f\"../outputs/ce_mri_images/{label}/*.png\")\n",
    "    if img_files:\n",
    "        sample_path = random.choice(img_files)\n",
    "        sample_img = cv2.imread(sample_path, cv2.IMREAD_GRAYSCALE)\n",
    "        sample_enhanced = enhance_image(sample_img)\n",
    "        \n",
    "        # Plot original\n",
    "        axes[i, 0].imshow(sample_img, cmap='gray')\n",
    "        axes[i, 0].set_title(f'Class {label}: Original\\n{os.path.basename(sample_path)[:30]}...', fontsize=10)\n",
    "        axes[i, 0].axis('off')\n",
    "        \n",
    "        # Plot enhanced\n",
    "        axes[i, 1].imshow(sample_enhanced, cmap='gray')\n",
    "        axes[i, 1].set_title(f'Class {label}: Enhanced', fontsize=10)\n",
    "        axes[i, 1].axis('off')\n",
    "\n",
    "plt.tight_layout()\n",
    "plt.show()"
   ]
  },
  {
   "cell_type": "markdown",
   "id": "364fed93",
   "metadata": {},
   "source": [
    "## 7. Quantitative Analysis"
   ]
  },
  {
   "cell_type": "code",
   "execution_count": null,
   "id": "8617425d",
   "metadata": {},
   "outputs": [],
   "source": [
    "# Analyze enhancement metrics on sample images\n",
    "def compute_metrics(img):\n",
    "    \"\"\"Compute image quality metrics\"\"\"\n",
    "    return {\n",
    "        'mean': img.mean(),\n",
    "        'std': img.std(),\n",
    "        'min': img.min(),\n",
    "        'max': img.max(),\n",
    "        'contrast': img.max() - img.min()\n",
    "    }\n",
    "\n",
    "# Sample 10 random images from each class\n",
    "metrics_before = []\n",
    "metrics_after = []\n",
    "\n",
    "for label in ['1', '2', '3']:\n",
    "    img_files = glob.glob(f\"../outputs/ce_mri_images/{label}/*.png\")\n",
    "    samples = random.sample(img_files, min(10, len(img_files)))\n",
    "    \n",
    "    for img_path in samples:\n",
    "        img_orig = cv2.imread(img_path, cv2.IMREAD_GRAYSCALE)\n",
    "        img_enh = enhance_image(img_orig)\n",
    "        \n",
    "        metrics_before.append(compute_metrics(img_orig))\n",
    "        metrics_after.append(compute_metrics(img_enh))\n",
    "\n",
    "# Convert to arrays for easy calculation\n",
    "import pandas as pd\n",
    "df_before = pd.DataFrame(metrics_before)\n",
    "df_after = pd.DataFrame(metrics_after)\n",
    "\n",
    "print(\"=\" * 60)\n",
    "print(\"ENHANCEMENT METRICS COMPARISON\")\n",
    "print(\"=\" * 60)\n",
    "print(\"\\nBEFORE Enhancement:\")\n",
    "print(df_before.describe())\n",
    "print(\"\\nAFTER Enhancement:\")\n",
    "print(df_after.describe())\n",
    "print(\"\\nIMPROVEMENT:\")\n",
    "print(f\"Mean contrast increase: {((df_after['std'].mean() / df_before['std'].mean() - 1) * 100):.1f}%\")"
   ]
  },
  {
   "cell_type": "markdown",
   "id": "138e4303",
   "metadata": {},
   "source": [
    "## 8. Ready for Batch Processing\n",
    "\n",
    "The `enhance_image()` function is now ready to process all 3,064 images.\n",
    "\n",
    "Next step: Run `src/module1_enhance.py` to create the enhanced dataset in `outputs/ce_mri_enhanced/`"
   ]
  }
 ],
 "metadata": {
  "language_info": {
   "name": "python"
  }
 },
 "nbformat": 4,
 "nbformat_minor": 5
}
